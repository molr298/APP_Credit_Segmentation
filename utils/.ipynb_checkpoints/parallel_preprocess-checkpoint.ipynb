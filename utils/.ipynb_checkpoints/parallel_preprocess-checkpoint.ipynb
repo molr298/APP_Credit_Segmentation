{
 "cells": [
  {
   "cell_type": "markdown",
   "metadata": {},
   "source": [
    "## Import Libary"
   ]
  },
  {
   "cell_type": "code",
   "execution_count": 1,
   "metadata": {
    "colab": {
     "base_uri": "https://localhost:8080/"
    },
    "id": "kDX3bcZlDIlY",
    "outputId": "fc0e3c54-538c-4605-d375-9673e436321f"
   },
   "outputs": [],
   "source": [
    "import numpy as np\n",
    "import pandas as pd\n",
    "from numba import njit, prange, jit\n",
    "from sklearn.preprocessing import StandardScaler\n",
    "\n",
    "%matplotlib inline\n",
    "import matplotlib.pyplot as plt\n",
    "import seaborn as sns; sns.set()\n",
    "import matplotlib\n",
    "matplotlib.rc('figure', figsize=(10, 5))"
   ]
  },
  {
   "cell_type": "markdown",
   "metadata": {},
   "source": [
    "## Read Data"
   ]
  },
  {
   "cell_type": "code",
   "execution_count": 2,
   "metadata": {},
   "outputs": [],
   "source": [
    "df_data = pd.read_csv('../data/CC GENERAL.csv')\n",
    "df_data = df_data.drop('CUST_ID', axis=1)\n",
    "df_data_np = df_data.to_numpy()"
   ]
  },
  {
   "cell_type": "code",
   "execution_count": 3,
   "metadata": {},
   "outputs": [],
   "source": [
    "def highlight_minimum_time(s):\n",
    "    is_min = s == s.min()\n",
    "    return ['background-color: yellow' if v else '' for v in is_min]"
   ]
  },
  {
   "cell_type": "markdown",
   "metadata": {},
   "source": [
    "## Preprocessing"
   ]
  },
  {
   "cell_type": "markdown",
   "metadata": {},
   "source": [
    "### Standard CPU"
   ]
  },
  {
   "cell_type": "code",
   "execution_count": 4,
   "metadata": {},
   "outputs": [],
   "source": [
    "@njit(parallel=False)\n",
    "def standard(df):\n",
    "    n = df.shape[1]\n",
    "    res = np.empty_like(df, dtype=np.float64)\n",
    "\n",
    "    for i in range(n):\n",
    "        data_i = df[:, i]\n",
    "        res[:, i] = (data_i - np.mean(data_i)) / np.std(data_i)\n",
    "\n",
    "    return res"
   ]
  },
  {
   "cell_type": "markdown",
   "metadata": {},
   "source": [
    "### Standard CPU Parallel"
   ]
  },
  {
   "cell_type": "code",
   "execution_count": 5,
   "metadata": {},
   "outputs": [],
   "source": [
    "@jit(nopython=True, parallel=True)\n",
    "def standard_parallel(df):\n",
    "    n = df.shape[1]\n",
    "    res = np.empty_like(df, dtype=np.float64)\n",
    "\n",
    "    for i in prange(n):\n",
    "        data_i = df[:, i]\n",
    "        res[:, i] = (data_i - np.mean(data_i)) / np.std(data_i)\n",
    "\n",
    "    return res"
   ]
  },
  {
   "cell_type": "markdown",
   "metadata": {},
   "source": [
    "### Expected result using Sklearn"
   ]
  },
  {
   "cell_type": "code",
   "execution_count": 6,
   "metadata": {},
   "outputs": [],
   "source": [
    "expected = StandardScaler().fit_transform(df_data_np)"
   ]
  },
  {
   "cell_type": "markdown",
   "metadata": {},
   "source": [
    "### Output result running by CPU"
   ]
  },
  {
   "cell_type": "code",
   "execution_count": 7,
   "metadata": {},
   "outputs": [],
   "source": [
    "output = standard(df_data_np)"
   ]
  },
  {
   "cell_type": "markdown",
   "metadata": {},
   "source": [
    "### Comparasion diff"
   ]
  },
  {
   "cell_type": "code",
   "execution_count": 8,
   "metadata": {},
   "outputs": [
    {
     "data": {
      "text/plain": [
       "array([[-1.66533454e-15, -4.17166302e-14, -1.08246745e-14, ...,\n",
       "                    nan, -1.66533454e-15, -6.66133815e-16],\n",
       "       [-1.33226763e-15, -2.29816166e-14, -1.18238752e-14, ...,\n",
       "                    nan, -4.63518113e-15, -6.66133815e-16],\n",
       "       [-1.44328993e-15, -4.21884749e-15, -3.89965837e-15, ...,\n",
       "                    nan, -1.66533454e-15, -6.66133815e-16],\n",
       "       ...,\n",
       "       [-1.77635684e-15, -3.86080057e-14, -1.03250741e-14, ...,\n",
       "                    nan, -4.99600361e-15,  7.99360578e-15],\n",
       "       [-1.66533454e-15, -3.86080057e-14, -1.18238752e-14, ...,\n",
       "                    nan, -4.99600361e-15,  7.99360578e-15],\n",
       "       [-1.66533454e-15, -7.30526750e-14, -6.17561557e-16, ...,\n",
       "                    nan, -1.66533454e-15,  7.99360578e-15]])"
      ]
     },
     "execution_count": 8,
     "metadata": {},
     "output_type": "execute_result"
    }
   ],
   "source": [
    "output - expected"
   ]
  },
  {
   "cell_type": "markdown",
   "metadata": {},
   "source": [
    "### Output result running by CPU Parallel"
   ]
  },
  {
   "cell_type": "code",
   "execution_count": 9,
   "metadata": {},
   "outputs": [],
   "source": [
    "output_parallel = standard_parallel(df_data_np)"
   ]
  },
  {
   "cell_type": "code",
   "execution_count": 10,
   "metadata": {},
   "outputs": [
    {
     "ename": "AttributeError",
     "evalue": "'numpy.ndarray' object has no attribute 'parallel_diagnostics'",
     "output_type": "error",
     "traceback": [
      "\u001b[0;31m---------------------------------------------------------------------------\u001b[0m",
      "\u001b[0;31mAttributeError\u001b[0m                            Traceback (most recent call last)",
      "Input \u001b[0;32mIn [10]\u001b[0m, in \u001b[0;36m<cell line: 1>\u001b[0;34m()\u001b[0m\n\u001b[0;32m----> 1\u001b[0m \u001b[43moutput_parallel\u001b[49m\u001b[38;5;241;43m.\u001b[39;49m\u001b[43mparallel_diagnostics\u001b[49m(level\u001b[38;5;241m=\u001b[39m\u001b[38;5;241m4\u001b[39m)\n",
      "\u001b[0;31mAttributeError\u001b[0m: 'numpy.ndarray' object has no attribute 'parallel_diagnostics'"
     ]
    }
   ],
   "source": [
    "#output_parallel.parallel_diagnostics(level=4)"
   ]
  },
  {
   "cell_type": "markdown",
   "metadata": {},
   "source": [
    "### Comparasion diff"
   ]
  },
  {
   "cell_type": "code",
   "execution_count": null,
   "metadata": {
    "scrolled": true
   },
   "outputs": [],
   "source": [
    "output_parallel - expected"
   ]
  },
  {
   "cell_type": "markdown",
   "metadata": {},
   "source": [
    "## Measure running time with different strategies"
   ]
  },
  {
   "cell_type": "markdown",
   "metadata": {},
   "source": [
    "### Measure time with running with increasing number of columns"
   ]
  },
  {
   "cell_type": "code",
   "execution_count": null,
   "metadata": {},
   "outputs": [],
   "source": [
    "res = []\n",
    "multiples = range(1, 30, 4)\n",
    "\n",
    "for idx, i in enumerate(multiples):\n",
    "    data = np.tile(df_data_np, i)\n",
    "    \n",
    "    o_1 = %timeit -o -q StandardScaler().fit_transform(data)\n",
    "    o_2 = %timeit -o -q standard(data)\n",
    "    o_3 = %timeit -o -q standard_parallel(data)\n",
    "    \n",
    "    res.append((data.shape[1], o_1.best, o_2.best, o_3.best))\n",
    "    print('{0} of {1} complete {2}'.format(idx + 1, len(multiples), data.shape))"
   ]
  },
  {
   "cell_type": "code",
   "execution_count": null,
   "metadata": {},
   "outputs": [],
   "source": [
    "df_viz = pd.DataFrame(res, columns = ['num_cols', 'sklearn', 'CPU', 'numba CPU parallel'])\n",
    "\n",
    "df_viz = df_viz.set_index('num_cols')\n",
    "df_viz = df_viz.apply(lambda x: 1000 * x)\n",
    "\n",
    "ax = df_viz.plot()\n",
    "ax.set_title('Standard scale: by n columns')\n",
    "ax.set_xlabel('Number of columns')\n",
    "ax.set_ylabel('Time (ms)')\n",
    "plt.legend(prop={'size': 14})"
   ]
  },
  {
   "cell_type": "markdown",
   "metadata": {},
   "source": [
    "### Table measuring strategies check time"
   ]
  },
  {
   "cell_type": "code",
   "execution_count": null,
   "metadata": {
    "scrolled": true
   },
   "outputs": [],
   "source": [
    "df_viz.style.apply(highlight_minimum_time, axis=1)"
   ]
  },
  {
   "cell_type": "markdown",
   "metadata": {},
   "source": [
    "### Measure time with running with increasing number of row"
   ]
  },
  {
   "cell_type": "code",
   "execution_count": null,
   "metadata": {},
   "outputs": [],
   "source": [
    "res = []\n",
    "\n",
    "for idx, i in enumerate(multiples):\n",
    "    data = np.tile(df_data_np.T, i).T\n",
    "    o_1 = %timeit -o -q StandardScaler().fit_transform(data)\n",
    "    o_2 = %timeit -o -q standard(data)\n",
    "    o_3 = %timeit -o -q standard_parallel(data)\n",
    "    \n",
    "    res.append((data.shape[0], o_1.best, o_2.best, o_3.best))\n",
    "    print('{0} of {1} complete {2}'.format(idx + 1, len(multiples), data.shape))"
   ]
  },
  {
   "cell_type": "code",
   "execution_count": null,
   "metadata": {},
   "outputs": [],
   "source": [
    "df_viz = pd.DataFrame(res, columns = ['num_rows', 'sklearn', 'numba CPU', 'numba CPU parallel'])\n",
    "df_viz = df_viz.set_index('num_rows')\n",
    "df_viz = df_viz.apply(lambda x: 1000 * x)"
   ]
  },
  {
   "cell_type": "code",
   "execution_count": null,
   "metadata": {},
   "outputs": [],
   "source": [
    "ax = df_viz.plot()\n",
    "ax.set_title('Standard scale: n rows by 17 columns')\n",
    "ax.set_xlabel('Number of rows')\n",
    "ax.set_ylabel('Time (ms)')\n",
    "plt.legend(prop={'size': 14})"
   ]
  },
  {
   "cell_type": "markdown",
   "metadata": {},
   "source": [
    "### Table measuring strategies check time"
   ]
  },
  {
   "cell_type": "code",
   "execution_count": null,
   "metadata": {},
   "outputs": [],
   "source": [
    "df_viz.style.apply(highlight_minimum_time, axis=1)"
   ]
  },
  {
   "cell_type": "code",
   "execution_count": null,
   "metadata": {},
   "outputs": [],
   "source": [
    "df_viz.parallel_diagnostics(level=4)"
   ]
  }
 ],
 "metadata": {
  "accelerator": "GPU",
  "colab": {
   "gpuType": "T4",
   "provenance": [],
   "toc_visible": true
  },
  "kernelspec": {
   "display_name": "Python 3 (ipykernel)",
   "language": "python",
   "name": "python3"
  },
  "language_info": {
   "codemirror_mode": {
    "name": "ipython",
    "version": 3
   },
   "file_extension": ".py",
   "mimetype": "text/x-python",
   "name": "python",
   "nbconvert_exporter": "python",
   "pygments_lexer": "ipython3",
   "version": "3.9.12"
  }
 },
 "nbformat": 4,
 "nbformat_minor": 1
}
