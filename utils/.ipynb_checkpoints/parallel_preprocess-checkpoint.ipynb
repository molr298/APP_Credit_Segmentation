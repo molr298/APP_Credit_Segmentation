{
 "cells": [
  {
   "cell_type": "markdown",
   "metadata": {},
   "source": [
    "## Import Libary"
   ]
  },
  {
   "cell_type": "code",
   "execution_count": 1,
   "metadata": {
    "colab": {
     "base_uri": "https://localhost:8080/"
    },
    "id": "kDX3bcZlDIlY",
    "outputId": "fc0e3c54-538c-4605-d375-9673e436321f"
   },
   "outputs": [],
   "source": [
    "import numpy as np\n",
    "import pandas as pd\n",
    "from numba import njit, prange, jit\n",
    "from sklearn.preprocessing import StandardScaler\n",
    "\n",
    "%matplotlib inline\n",
    "import matplotlib.pyplot as plt\n",
    "import seaborn as sns; sns.set()\n",
    "import matplotlib\n",
    "matplotlib.rc('figure', figsize=(10, 5))"
   ]
  },
  {
   "cell_type": "markdown",
   "metadata": {},
   "source": [
    "## Read Data"
   ]
  },
  {
   "cell_type": "code",
   "execution_count": 2,
   "metadata": {},
   "outputs": [],
   "source": [
    "df_data = pd.read_csv('../data/CC GENERAL.csv')\n",
    "df_data = df_data.drop('CUST_ID', axis=1)\n",
    "df_data_np = df_data.to_numpy()"
   ]
  },
  {
   "cell_type": "code",
   "execution_count": 3,
   "metadata": {},
   "outputs": [],
   "source": [
    "def highlight_minimum_time(s):\n",
    "    is_min = s == s.min()\n",
    "    return ['background-color: yellow' if v else '' for v in is_min]"
   ]
  },
  {
   "cell_type": "markdown",
   "metadata": {},
   "source": [
    "## Preprocessing"
   ]
  },
  {
   "cell_type": "markdown",
   "metadata": {},
   "source": [
    "### Standard CPU"
   ]
  },
  {
   "cell_type": "code",
   "execution_count": 4,
   "metadata": {},
   "outputs": [],
   "source": [
    "@njit(parallel=False)\n",
    "def standard(df):\n",
    "    n = df.shape[1]\n",
    "    res = np.empty_like(df, dtype=np.float64)\n",
    "\n",
    "    for i in range(n):\n",
    "        data_i = df[:, i]\n",
    "        res[:, i] = (data_i - np.mean(data_i)) / np.std(data_i)\n",
    "\n",
    "    return res"
   ]
  },
  {
   "cell_type": "markdown",
   "metadata": {},
   "source": [
    "### Standard CPU Parallel"
   ]
  },
  {
   "cell_type": "code",
   "execution_count": 5,
   "metadata": {},
   "outputs": [],
   "source": [
    "@jit(nopython=True, parallel=True)\n",
    "def standard_parallel(df):\n",
    "    n = df.shape[1]\n",
    "    res = np.empty_like(df, dtype=np.float64)\n",
    "\n",
    "    for i in prange(n):\n",
    "        data_i = df[:, i]\n",
    "        res[:, i] = (data_i - np.mean(data_i)) / np.std(data_i)\n",
    "\n",
    "    return res"
   ]
  },
  {
   "cell_type": "markdown",
   "metadata": {},
   "source": [
    "### Expected result using Sklearn"
   ]
  },
  {
   "cell_type": "code",
   "execution_count": 6,
   "metadata": {},
   "outputs": [],
   "source": [
    "expected = StandardScaler().fit_transform(df_data_np)"
   ]
  },
  {
   "cell_type": "markdown",
   "metadata": {},
   "source": [
    "### Output result running by CPU"
   ]
  },
  {
   "cell_type": "code",
   "execution_count": 7,
   "metadata": {},
   "outputs": [],
   "source": [
    "output = standard(df_data_np)"
   ]
  },
  {
   "cell_type": "markdown",
   "metadata": {},
   "source": [
    "### Comparasion diff"
   ]
  },
  {
   "cell_type": "code",
   "execution_count": 8,
   "metadata": {},
   "outputs": [
    {
     "data": {
      "text/plain": [
       "array([[-1.66533454e-15, -4.17166302e-14, -1.08246745e-14, ...,\n",
       "                    nan, -1.66533454e-15, -6.66133815e-16],\n",
       "       [-1.33226763e-15, -2.29816166e-14, -1.18238752e-14, ...,\n",
       "                    nan, -4.63518113e-15, -6.66133815e-16],\n",
       "       [-1.44328993e-15, -4.21884749e-15, -3.89965837e-15, ...,\n",
       "                    nan, -1.66533454e-15, -6.66133815e-16],\n",
       "       ...,\n",
       "       [-1.77635684e-15, -3.86080057e-14, -1.03250741e-14, ...,\n",
       "                    nan, -4.99600361e-15,  7.99360578e-15],\n",
       "       [-1.66533454e-15, -3.86080057e-14, -1.18238752e-14, ...,\n",
       "                    nan, -4.99600361e-15,  7.99360578e-15],\n",
       "       [-1.66533454e-15, -7.30526750e-14, -6.17561557e-16, ...,\n",
       "                    nan, -1.66533454e-15,  7.99360578e-15]])"
      ]
     },
     "execution_count": 8,
     "metadata": {},
     "output_type": "execute_result"
    }
   ],
   "source": [
    "output - expected"
   ]
  },
  {
   "cell_type": "markdown",
   "metadata": {},
   "source": [
    "### Output result running by CPU Parallel"
   ]
  },
  {
   "cell_type": "code",
   "execution_count": 9,
   "metadata": {},
   "outputs": [],
   "source": [
    "output_parallel = standard_parallel(df_data_np)"
   ]
  },
  {
   "cell_type": "markdown",
   "metadata": {},
   "source": [
    "### Comparasion diff"
   ]
  },
  {
   "cell_type": "code",
   "execution_count": 10,
   "metadata": {
    "scrolled": true
   },
   "outputs": [
    {
     "data": {
      "text/plain": [
       "array([[-1.66533454e-15, -4.17166302e-14, -1.08246745e-14, ...,\n",
       "                    nan, -1.66533454e-15, -6.66133815e-16],\n",
       "       [-1.33226763e-15, -2.29816166e-14, -1.18238752e-14, ...,\n",
       "                    nan, -4.63518113e-15, -6.66133815e-16],\n",
       "       [-1.44328993e-15, -4.21884749e-15, -3.89965837e-15, ...,\n",
       "                    nan, -1.66533454e-15, -6.66133815e-16],\n",
       "       ...,\n",
       "       [-1.77635684e-15, -3.86080057e-14, -1.03250741e-14, ...,\n",
       "                    nan, -4.99600361e-15,  7.99360578e-15],\n",
       "       [-1.66533454e-15, -3.86080057e-14, -1.18238752e-14, ...,\n",
       "                    nan, -4.99600361e-15,  7.99360578e-15],\n",
       "       [-1.66533454e-15, -7.30526750e-14, -6.17561557e-16, ...,\n",
       "                    nan, -1.66533454e-15,  7.99360578e-15]])"
      ]
     },
     "execution_count": 10,
     "metadata": {},
     "output_type": "execute_result"
    }
   ],
   "source": [
    "output_parallel - expected"
   ]
  },
  {
   "cell_type": "markdown",
   "metadata": {},
   "source": [
    "## Measure running time with different strategies"
   ]
  },
  {
   "cell_type": "markdown",
   "metadata": {},
   "source": [
    "### Measure time with running with increasing number of columns"
   ]
  },
  {
   "cell_type": "code",
   "execution_count": 11,
   "metadata": {},
   "outputs": [
    {
     "name": "stdout",
     "output_type": "stream",
     "text": [
      "1 of 8 complete (8950, 17)\n",
      "2 of 8 complete (8950, 85)\n",
      "3 of 8 complete (8950, 153)\n",
      "4 of 8 complete (8950, 221)\n",
      "5 of 8 complete (8950, 289)\n",
      "6 of 8 complete (8950, 357)\n",
      "7 of 8 complete (8950, 425)\n",
      "8 of 8 complete (8950, 493)\n"
     ]
    }
   ],
   "source": [
    "res = []\n",
    "multiples = range(1, 30, 4)\n",
    "\n",
    "for idx, i in enumerate(multiples):\n",
    "    data = np.tile(df_data_np, i)\n",
    "    \n",
    "    o_1 = %timeit -o -q StandardScaler().fit_transform(data)\n",
    "    o_2 = %timeit -o -q standard(data)\n",
    "    o_3 = %timeit -o -q standard_parallel(data)\n",
    "    \n",
    "    res.append((data.shape[1], o_1.best, o_2.best, o_3.best))\n",
    "    print('{0} of {1} complete {2}'.format(idx + 1, len(multiples), data.shape))"
   ]
  },
  {
   "cell_type": "code",
   "execution_count": 12,
   "metadata": {},
   "outputs": [
    {
     "data": {
      "text/plain": [
       "<matplotlib.legend.Legend at 0x7fc46149fcd0>"
      ]
     },
     "execution_count": 12,
     "metadata": {},
     "output_type": "execute_result"
    },
    {
     "data": {
      "image/png": "[encoded data removed]",
      "text/plain": [
       "<Figure size 720x360 with 1 Axes>"
      ]
     },
     "metadata": {},
     "output_type": "display_data"
    }
   ],
   "source": [
    "df_viz = pd.DataFrame(res, columns = ['num_cols', 'sklearn', 'CPU', 'numba CPU parallel'])\n",
    "\n",
    "df_viz = df_viz.set_index('num_cols')\n",
    "df_viz = df_viz.apply(lambda x: 1000 * x)\n",
    "\n",
    "ax = df_viz.plot()\n",
    "ax.set_title('Standard scale: by n columns')\n",
    "ax.set_xlabel('Number of columns')\n",
    "ax.set_ylabel('Time (ms)')\n",
    "plt.legend(prop={'size': 14})"
   ]
  },
  {
   "cell_type": "markdown",
   "metadata": {},
   "source": [
    "### Table measuring strategies check time"
   ]
  },
  {
   "cell_type": "code",
   "execution_count": 13,
   "metadata": {},
   "outputs": [
    {
     "data": {
      "text/html": [
       "<style type=\"text/css\">\n",
       "#T_0846d_row0_col2, #T_0846d_row1_col2, #T_0846d_row2_col2, #T_0846d_row3_col2, #T_0846d_row4_col2, #T_0846d_row5_col2, #T_0846d_row6_col2, #T_0846d_row7_col2 {\n",
       "  background-color: yellow;\n",
       "}\n",
       "</style>\n",
       "<table id=\"T_0846d\">\n",
       "  <thead>\n",
       "    <tr>\n",
       "      <th class=\"blank level0\" >&nbsp;</th>\n",
       "      <th id=\"T_0846d_level0_col0\" class=\"col_heading level0 col0\" >sklearn</th>\n",
       "      <th id=\"T_0846d_level0_col1\" class=\"col_heading level0 col1\" >CPU</th>\n",
       "      <th id=\"T_0846d_level0_col2\" class=\"col_heading level0 col2\" >numba CPU parallel</th>\n",
       "    </tr>\n",
       "    <tr>\n",
       "      <th class=\"index_name level0\" >num_cols</th>\n",
       "      <th class=\"blank col0\" >&nbsp;</th>\n",
       "      <th class=\"blank col1\" >&nbsp;</th>\n",
       "      <th class=\"blank col2\" >&nbsp;</th>\n",
       "    </tr>\n",
       "  </thead>\n",
       "  <tbody>\n",
       "    <tr>\n",
       "      <th id=\"T_0846d_level0_row0\" class=\"row_heading level0 row0\" >17</th>\n",
       "      <td id=\"T_0846d_row0_col0\" class=\"data row0 col0\" >0.972357</td>\n",
       "      <td id=\"T_0846d_row0_col1\" class=\"data row0 col1\" >0.515274</td>\n",
       "      <td id=\"T_0846d_row0_col2\" class=\"data row0 col2\" >0.251020</td>\n",
       "    </tr>\n",
       "    <tr>\n",
       "      <th id=\"T_0846d_level0_row1\" class=\"row_heading level0 row1\" >85</th>\n",
       "      <td id=\"T_0846d_row1_col0\" class=\"data row1 col0\" >5.874334</td>\n",
       "      <td id=\"T_0846d_row1_col1\" class=\"data row1 col1\" >3.489000</td>\n",
       "      <td id=\"T_0846d_row1_col2\" class=\"data row1 col2\" >1.963625</td>\n",
       "    </tr>\n",
       "    <tr>\n",
       "      <th id=\"T_0846d_level0_row2\" class=\"row_heading level0 row2\" >153</th>\n",
       "      <td id=\"T_0846d_row2_col0\" class=\"data row2 col0\" >10.823323</td>\n",
       "      <td id=\"T_0846d_row2_col1\" class=\"data row2 col1\" >9.230794</td>\n",
       "      <td id=\"T_0846d_row2_col2\" class=\"data row2 col2\" >3.654038</td>\n",
       "    </tr>\n",
       "    <tr>\n",
       "      <th id=\"T_0846d_level0_row3\" class=\"row_heading level0 row3\" >221</th>\n",
       "      <td id=\"T_0846d_row3_col0\" class=\"data row3 col0\" >15.380747</td>\n",
       "      <td id=\"T_0846d_row3_col1\" class=\"data row3 col1\" >18.237491</td>\n",
       "      <td id=\"T_0846d_row3_col2\" class=\"data row3 col2\" >7.194427</td>\n",
       "    </tr>\n",
       "    <tr>\n",
       "      <th id=\"T_0846d_level0_row4\" class=\"row_heading level0 row4\" >289</th>\n",
       "      <td id=\"T_0846d_row4_col0\" class=\"data row4 col0\" >19.967717</td>\n",
       "      <td id=\"T_0846d_row4_col1\" class=\"data row4 col1\" >26.766150</td>\n",
       "      <td id=\"T_0846d_row4_col2\" class=\"data row4 col2\" >9.779930</td>\n",
       "    </tr>\n",
       "    <tr>\n",
       "      <th id=\"T_0846d_level0_row5\" class=\"row_heading level0 row5\" >357</th>\n",
       "      <td id=\"T_0846d_row5_col0\" class=\"data row5 col0\" >25.443217</td>\n",
       "      <td id=\"T_0846d_row5_col1\" class=\"data row5 col1\" >35.175671</td>\n",
       "      <td id=\"T_0846d_row5_col2\" class=\"data row5 col2\" >12.677795</td>\n",
       "    </tr>\n",
       "    <tr>\n",
       "      <th id=\"T_0846d_level0_row6\" class=\"row_heading level0 row6\" >425</th>\n",
       "      <td id=\"T_0846d_row6_col0\" class=\"data row6 col0\" >33.186029</td>\n",
       "      <td id=\"T_0846d_row6_col1\" class=\"data row6 col1\" >46.899587</td>\n",
       "      <td id=\"T_0846d_row6_col2\" class=\"data row6 col2\" >15.786970</td>\n",
       "    </tr>\n",
       "    <tr>\n",
       "      <th id=\"T_0846d_level0_row7\" class=\"row_heading level0 row7\" >493</th>\n",
       "      <td id=\"T_0846d_row7_col0\" class=\"data row7 col0\" >33.994150</td>\n",
       "      <td id=\"T_0846d_row7_col1\" class=\"data row7 col1\" >58.415879</td>\n",
       "      <td id=\"T_0846d_row7_col2\" class=\"data row7 col2\" >18.830637</td>\n",
       "    </tr>\n",
       "  </tbody>\n",
       "</table>\n"
      ],
      "text/plain": [
       "<pandas.io.formats.style.Styler at 0x7fc451064700>"
      ]
     },
     "execution_count": 13,
     "metadata": {},
     "output_type": "execute_result"
    }
   ],
   "source": [
    "df_viz.style.apply(highlight_minimum_time, axis=1)"
   ]
  },
  {
   "cell_type": "markdown",
   "metadata": {},
   "source": [
    "### Measure time with running with increasing number of row"
   ]
  },
  {
   "cell_type": "code",
   "execution_count": 14,
   "metadata": {},
   "outputs": [
    {
     "name": "stdout",
     "output_type": "stream",
     "text": [
      "1 of 8 complete (8950, 17)\n",
      "2 of 8 complete (44750, 17)\n",
      "3 of 8 complete (80550, 17)\n",
      "4 of 8 complete (116350, 17)\n",
      "5 of 8 complete (152150, 17)\n",
      "6 of 8 complete (187950, 17)\n",
      "7 of 8 complete (223750, 17)\n",
      "8 of 8 complete (259550, 17)\n"
     ]
    }
   ],
   "source": [
    "res = []\n",
    "\n",
    "for idx, i in enumerate(multiples):\n",
    "    data = np.tile(df_data_np.T, i).T\n",
    "    o_1 = %timeit -o -q StandardScaler().fit_transform(data)\n",
    "    o_2 = %timeit -o -q standard(data)\n",
    "    o_3 = %timeit -o -q standard_parallel(data)\n",
    "    \n",
    "    res.append((data.shape[0], o_1.best, o_2.best, o_3.best))\n",
    "    print('{0} of {1} complete {2}'.format(idx + 1, len(multiples), data.shape))"
   ]
  },
  {
   "cell_type": "code",
   "execution_count": 15,
   "metadata": {},
   "outputs": [],
   "source": [
    "df_viz = pd.DataFrame(res, columns = ['num_rows', 'sklearn', 'numba CPU', 'numba CPU parallel'])\n",
    "df_viz = df_viz.set_index('num_rows')\n",
    "df_viz = df_viz.apply(lambda x: 1000 * x)"
   ]
  },
  {
   "cell_type": "code",
   "execution_count": 16,
   "metadata": {},
   "outputs": [
    {
     "data": {
      "text/plain": [
       "<matplotlib.legend.Legend at 0x7fc450ef7220>"
      ]
     },
     "execution_count": 16,
     "metadata": {},
     "output_type": "execute_result"
    },
    {
     "data": {
      "image/png": "[encoded data removed]",
      "text/plain": [
       "<Figure size 720x360 with 1 Axes>"
      ]
     },
     "metadata": {},
     "output_type": "display_data"
    }
   ],
   "source": [
    "ax = df_viz.plot()\n",
    "ax.set_title('Standard scale: n rows by 17 columns')\n",
    "ax.set_xlabel('Number of rows')\n",
    "ax.set_ylabel('Time (ms)')\n",
    "plt.legend(prop={'size': 14})"
   ]
  },
  {
   "cell_type": "markdown",
   "metadata": {},
   "source": [
    "### Table measuring strategies check time"
   ]
  },
  {
   "cell_type": "code",
   "execution_count": 17,
   "metadata": {},
   "outputs": [
    {
     "data": {
      "text/html": [
       "<style type=\"text/css\">\n",
       "#T_dcefb_row0_col2, #T_dcefb_row1_col2, #T_dcefb_row2_col2, #T_dcefb_row3_col2, #T_dcefb_row4_col2, #T_dcefb_row5_col2, #T_dcefb_row6_col2, #T_dcefb_row7_col2 {\n",
       "  background-color: yellow;\n",
       "}\n",
       "</style>\n",
       "<table id=\"T_dcefb\">\n",
       "  <thead>\n",
       "    <tr>\n",
       "      <th class=\"blank level0\" >&nbsp;</th>\n",
       "      <th id=\"T_dcefb_level0_col0\" class=\"col_heading level0 col0\" >sklearn</th>\n",
       "      <th id=\"T_dcefb_level0_col1\" class=\"col_heading level0 col1\" >numba CPU</th>\n",
       "      <th id=\"T_dcefb_level0_col2\" class=\"col_heading level0 col2\" >numba CPU parallel</th>\n",
       "    </tr>\n",
       "    <tr>\n",
       "      <th class=\"index_name level0\" >num_rows</th>\n",
       "      <th class=\"blank col0\" >&nbsp;</th>\n",
       "      <th class=\"blank col1\" >&nbsp;</th>\n",
       "      <th class=\"blank col2\" >&nbsp;</th>\n",
       "    </tr>\n",
       "  </thead>\n",
       "  <tbody>\n",
       "    <tr>\n",
       "      <th id=\"T_dcefb_level0_row0\" class=\"row_heading level0 row0\" >8950</th>\n",
       "      <td id=\"T_dcefb_row0_col0\" class=\"data row0 col0\" >0.982479</td>\n",
       "      <td id=\"T_dcefb_row0_col1\" class=\"data row0 col1\" >0.515121</td>\n",
       "      <td id=\"T_dcefb_row0_col2\" class=\"data row0 col2\" >0.249854</td>\n",
       "    </tr>\n",
       "    <tr>\n",
       "      <th id=\"T_dcefb_level0_row1\" class=\"row_heading level0 row1\" >44750</th>\n",
       "      <td id=\"T_dcefb_row1_col0\" class=\"data row1 col0\" >4.752008</td>\n",
       "      <td id=\"T_dcefb_row1_col1\" class=\"data row1 col1\" >2.593286</td>\n",
       "      <td id=\"T_dcefb_row1_col2\" class=\"data row1 col2\" >0.893738</td>\n",
       "    </tr>\n",
       "    <tr>\n",
       "      <th id=\"T_dcefb_level0_row2\" class=\"row_heading level0 row2\" >80550</th>\n",
       "      <td id=\"T_dcefb_row2_col0\" class=\"data row2 col0\" >8.964196</td>\n",
       "      <td id=\"T_dcefb_row2_col1\" class=\"data row2 col1\" >4.702574</td>\n",
       "      <td id=\"T_dcefb_row2_col2\" class=\"data row2 col2\" >1.544029</td>\n",
       "    </tr>\n",
       "    <tr>\n",
       "      <th id=\"T_dcefb_level0_row3\" class=\"row_heading level0 row3\" >116350</th>\n",
       "      <td id=\"T_dcefb_row3_col0\" class=\"data row3 col0\" >13.610843</td>\n",
       "      <td id=\"T_dcefb_row3_col1\" class=\"data row3 col1\" >6.831162</td>\n",
       "      <td id=\"T_dcefb_row3_col2\" class=\"data row3 col2\" >2.227793</td>\n",
       "    </tr>\n",
       "    <tr>\n",
       "      <th id=\"T_dcefb_level0_row4\" class=\"row_heading level0 row4\" >152150</th>\n",
       "      <td id=\"T_dcefb_row4_col0\" class=\"data row4 col0\" >17.865559</td>\n",
       "      <td id=\"T_dcefb_row4_col1\" class=\"data row4 col1\" >8.952275</td>\n",
       "      <td id=\"T_dcefb_row4_col2\" class=\"data row4 col2\" >2.893306</td>\n",
       "    </tr>\n",
       "    <tr>\n",
       "      <th id=\"T_dcefb_level0_row5\" class=\"row_heading level0 row5\" >187950</th>\n",
       "      <td id=\"T_dcefb_row5_col0\" class=\"data row5 col0\" >23.177604</td>\n",
       "      <td id=\"T_dcefb_row5_col1\" class=\"data row5 col1\" >11.015213</td>\n",
       "      <td id=\"T_dcefb_row5_col2\" class=\"data row5 col2\" >3.727481</td>\n",
       "    </tr>\n",
       "    <tr>\n",
       "      <th id=\"T_dcefb_level0_row6\" class=\"row_heading level0 row6\" >223750</th>\n",
       "      <td id=\"T_dcefb_row6_col0\" class=\"data row6 col0\" >26.275896</td>\n",
       "      <td id=\"T_dcefb_row6_col1\" class=\"data row6 col1\" >13.093938</td>\n",
       "      <td id=\"T_dcefb_row6_col2\" class=\"data row6 col2\" >4.459181</td>\n",
       "    </tr>\n",
       "    <tr>\n",
       "      <th id=\"T_dcefb_level0_row7\" class=\"row_heading level0 row7\" >259550</th>\n",
       "      <td id=\"T_dcefb_row7_col0\" class=\"data row7 col0\" >32.280579</td>\n",
       "      <td id=\"T_dcefb_row7_col1\" class=\"data row7 col1\" >15.143415</td>\n",
       "      <td id=\"T_dcefb_row7_col2\" class=\"data row7 col2\" >4.940158</td>\n",
       "    </tr>\n",
       "  </tbody>\n",
       "</table>\n"
      ],
      "text/plain": [
       "<pandas.io.formats.style.Styler at 0x7fc472226d60>"
      ]
     },
     "execution_count": 17,
     "metadata": {},
     "output_type": "execute_result"
    }
   ],
   "source": [
    "df_viz.style.apply(highlight_minimum_time, axis=1)"
   ]
  }
 ],
 "metadata": {
  "accelerator": "GPU",
  "colab": {
   "gpuType": "T4",
   "provenance": [],
   "toc_visible": true
  },
  "kernelspec": {
   "display_name": "Python 3 (ipykernel)",
   "language": "python",
   "name": "python3"
  },
  "language_info": {
   "codemirror_mode": {
    "name": "ipython",
    "version": 3
   },
   "file_extension": ".py",
   "mimetype": "text/x-python",
   "name": "python",
   "nbconvert_exporter": "python",
   "pygments_lexer": "ipython3",
   "version": "3.9.12"
  }
 },
 "nbformat": 4,
 "nbformat_minor": 1
}
