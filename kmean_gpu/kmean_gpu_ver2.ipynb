{
  "nbformat": 4,
  "nbformat_minor": 0,
  "metadata": {
    "colab": {
      "provenance": [],
      "gpuType": "T4"
    },
    "kernelspec": {
      "name": "python3",
      "display_name": "Python 3"
    },
    "language_info": {
      "name": "python"
    },
    "accelerator": "GPU"
  },
  "cells": [
    {
      "cell_type": "markdown",
      "source": [
        "# Import lib"
      ],
      "metadata": {
        "id": "9NviTMz16FJi"
      }
    },
    {
      "cell_type": "code",
      "execution_count": 92,
      "metadata": {
        "id": "HXb5JRxf5MhT"
      },
      "outputs": [],
      "source": [
        "import math\n",
        "\n",
        "import pandas as pd\n",
        "import numpy as np\n",
        "from numba import cuda, void, float64, int32\n",
        "import numba as nb\n",
        "import time\n",
        "import copy"
      ]
    },
    {
      "cell_type": "markdown",
      "source": [
        "# Preprocess (temp)"
      ],
      "metadata": {
        "id": "mytDIqPH6Ic3"
      }
    },
    {
      "cell_type": "code",
      "source": [
        "df = pd.read_csv('data/CC GENERAL.csv')\n",
        "\n",
        "df['MINIMUM_PAYMENTS'] = df['MINIMUM_PAYMENTS'].fillna(df['MINIMUM_PAYMENTS'].median())\n",
        "df['CREDIT_LIMIT'] = df['CREDIT_LIMIT'].fillna(df['CREDIT_LIMIT'].mean())\n",
        "\n",
        "df = df.drop('CUST_ID', axis=1)\n",
        "np_data = df.to_numpy()"
      ],
      "metadata": {
        "id": "NXiEpD1J5OD1"
      },
      "execution_count": 93,
      "outputs": []
    },
    {
      "cell_type": "markdown",
      "source": [
        "# MSE"
      ],
      "metadata": {
        "id": "22rZB3tD9_L6"
      }
    },
    {
      "cell_type": "code",
      "source": [
        "def mse(result_1, result_2):\n",
        "  return (np.square(result_1 - result_2)).mean()"
      ],
      "metadata": {
        "id": "siNPC2wO9-cO"
      },
      "execution_count": 94,
      "outputs": []
    },
    {
      "cell_type": "markdown",
      "source": [
        "# Init k and centroids"
      ],
      "metadata": {
        "id": "ouWmrkT-6LNO"
      }
    },
    {
      "cell_type": "code",
      "source": [
        "k = 20\n",
        "centroid = np_data[np.random.randint(np_data.shape[0], size=k), :]"
      ],
      "metadata": {
        "id": "t_rnEu656OfL"
      },
      "execution_count": 95,
      "outputs": []
    },
    {
      "cell_type": "markdown",
      "source": [
        "# Distance"
      ],
      "metadata": {
        "id": "uhxhawZC6T2-"
      }
    },
    {
      "cell_type": "markdown",
      "source": [
        "## CPU"
      ],
      "metadata": {
        "id": "vAKG2FKN6a3F"
      }
    },
    {
      "cell_type": "code",
      "source": [
        "def calc_distance_cpu(data, data_centroid):\n",
        "    dist = np.zeros((data.shape[0], data_centroid.shape[0]))\n",
        "    for i in range(data.shape[0]):\n",
        "        for j in range(data_centroid.shape[0]):\n",
        "            dist[i][j] = np.linalg.norm(data[i] - data_centroid[j])\n",
        "    return dist"
      ],
      "metadata": {
        "id": "bRmJbmAo6cOa"
      },
      "execution_count": 96,
      "outputs": []
    },
    {
      "cell_type": "markdown",
      "source": [
        "## GPU"
      ],
      "metadata": {
        "id": "fNRUvl_j6nuv"
      }
    },
    {
      "cell_type": "markdown",
      "source": [
        "### Preparation"
      ],
      "metadata": {
        "id": "c0dWOv2o6ycY"
      }
    },
    {
      "cell_type": "markdown",
      "source": [
        "Calculate thread per block and block per grid"
      ],
      "metadata": {
        "id": "q_BNpD2f7Lvb"
      }
    },
    {
      "cell_type": "code",
      "source": [
        "def calc_dimension_for_distance(data, data_centroid):\n",
        "    def next_power_of_2(x):\n",
        "      return 1 << (x - 1).bit_length()\n",
        "    real_dim_x = data_centroid.shape[0]\n",
        "    dim_x = next_power_of_2(real_dim_x)\n",
        "    dim_y = dim_x\n",
        "    thread_per_blocks = (dim_x, dim_y)\n",
        "    blocks_per_grid_x = 1\n",
        "    blocks_per_grid_y = math.ceil(data.shape[0] / thread_per_blocks[0])\n",
        "    blocks_per_grid = (blocks_per_grid_x, blocks_per_grid_y)\n",
        "    return thread_per_blocks, blocks_per_grid"
      ],
      "metadata": {
        "id": "b-PDMNCZ7FCy"
      },
      "execution_count": 97,
      "outputs": []
    },
    {
      "cell_type": "code",
      "source": [
        "dist_tpb, dist_bpg = calc_dimension_for_distance(np_data, centroid)"
      ],
      "metadata": {
        "id": "sO2agFLT7K4I"
      },
      "execution_count": 98,
      "outputs": []
    },
    {
      "cell_type": "markdown",
      "source": [
        "Copy data to device"
      ],
      "metadata": {
        "id": "rfj9Cgtt697q"
      }
    },
    {
      "cell_type": "code",
      "source": [
        "np_data_device = cuda.to_device(np_data)"
      ],
      "metadata": {
        "id": "0_3DwCOR6rk0"
      },
      "execution_count": 99,
      "outputs": []
    },
    {
      "cell_type": "markdown",
      "source": [
        "### GPU distance"
      ],
      "metadata": {
        "id": "YpBtpPZX7bnw"
      }
    },
    {
      "cell_type": "markdown",
      "source": [
        "Ver 1"
      ],
      "metadata": {
        "id": "dWmOnHXv7t3s"
      }
    },
    {
      "cell_type": "code",
      "source": [
        "@cuda.jit(void(nb.types.Array(dtype=float64, ndim=2, layout=\"F\"), nb.types.Array(dtype=float64, ndim=2, layout=\"C\"), nb.types.Array(dtype=float64, ndim=2, layout=\"C\")))\n",
        "def calc_distance_kernel_ver1(data, data_centroid, result):\n",
        "    r = cuda.blockIdx.y * cuda.blockDim.y + cuda.threadIdx.y\n",
        "    c = cuda.blockIdx.x * cuda.blockDim.x + cuda.threadIdx.x\n",
        "    if r < data.shape[0] and c < data_centroid.shape[0]:\n",
        "        total = 0\n",
        "        for i in range(data_centroid.shape[1]):\n",
        "            total += math.pow(data[r][i] - data_centroid[c][i], 2)\n",
        "        result[r, c] = math.sqrt(total)"
      ],
      "metadata": {
        "id": "PQoyzqVF7tFU"
      },
      "execution_count": 100,
      "outputs": []
    },
    {
      "cell_type": "code",
      "source": [
        "def calc_distance_gpu_ver1(data, data_centroid):\n",
        "    result = np.zeros((data.shape[0], data_centroid.shape[0]))\n",
        "    # data_device = cuda.to_device(data) # old version\n",
        "    data_device = data\n",
        "    centroid_device = cuda.to_device(data_centroid)\n",
        "    result_device = cuda.to_device(result)\n",
        "\n",
        "    # invoke kernel\n",
        "    calc_distance_kernel_ver1[dist_bpg, dist_tpb](data_device, centroid_device, result_device)\n",
        "    result = result_device.copy_to_host()\n",
        "    return result"
      ],
      "metadata": {
        "id": "wUyoypOG6oyk"
      },
      "execution_count": 101,
      "outputs": []
    },
    {
      "cell_type": "markdown",
      "source": [
        "Ver 2 (use share memory)"
      ],
      "metadata": {
        "id": "IhLIj3-v_OW9"
      }
    },
    {
      "cell_type": "code",
      "source": [
        "shared_data_shape_0 = dist_tpb[0]\n",
        "shared_data_shape_1 = np_data.shape[1]"
      ],
      "metadata": {
        "id": "_TDACCMelzxm"
      },
      "execution_count": 102,
      "outputs": []
    },
    {
      "cell_type": "code",
      "source": [
        "(shared_data_shape_0, shared_data_shape_1)"
      ],
      "metadata": {
        "colab": {
          "base_uri": "https://localhost:8080/"
        },
        "id": "MmdNHcX7mPiE",
        "outputId": "3490fe22-eff8-404e-d6ba-a69f5efb4b1c"
      },
      "execution_count": 103,
      "outputs": [
        {
          "output_type": "execute_result",
          "data": {
            "text/plain": [
              "(32, 17)"
            ]
          },
          "metadata": {},
          "execution_count": 103
        }
      ]
    },
    {
      "cell_type": "code",
      "source": [
        "shared_centroid_shape_0 = centroid.shape[0]\n",
        "shared_centroid_shape_1 = centroid.shape[1]"
      ],
      "metadata": {
        "id": "q7XRiadpmZnl"
      },
      "execution_count": 104,
      "outputs": []
    },
    {
      "cell_type": "code",
      "source": [
        "(shared_centroid_shape_0, shared_centroid_shape_1)"
      ],
      "metadata": {
        "colab": {
          "base_uri": "https://localhost:8080/"
        },
        "id": "p2rM65CImhpr",
        "outputId": "c2766e48-b072-4131-9b84-a382dff7a4e1"
      },
      "execution_count": 105,
      "outputs": [
        {
          "output_type": "execute_result",
          "data": {
            "text/plain": [
              "(20, 17)"
            ]
          },
          "metadata": {},
          "execution_count": 105
        }
      ]
    },
    {
      "cell_type": "code",
      "source": [
        "@cuda.jit(void(nb.types.Array(dtype=float64, ndim=2, layout=\"F\"), nb.types.Array(dtype=float64, ndim=2, layout=\"C\"), nb.types.Array(dtype=float64, ndim=2, layout=\"C\")))\n",
        "def calc_distance_kernel_ver2(data, data_centroid, result):\n",
        "\n",
        "    shared_centroid = cuda.shared.array(shape=(shared_centroid_shape_0, shared_centroid_shape_1), dtype=float64)\n",
        "    shared_data = cuda.shared.array(shape=(shared_data_shape_0, shared_data_shape_1), dtype=float64)\n",
        "\n",
        "    r = cuda.blockIdx.y * cuda.blockDim.y + cuda.threadIdx.y\n",
        "    c = cuda.blockIdx.x * cuda.blockDim.x + cuda.threadIdx.x\n",
        "\n",
        "    if(cuda.threadIdx.y == 0 and cuda.threadIdx.x < data_centroid.shape[0]):\n",
        "      for i in range(data_centroid.shape[1]):\n",
        "        shared_centroid[cuda.threadIdx.x, i] = data_centroid[c, i]\n",
        "\n",
        "    if(cuda.threadIdx.x == 0 and cuda.threadIdx.y < data.shape[0]):\n",
        "      for i in range(data.shape[1]):\n",
        "        shared_data[cuda.threadIdx.y, i] = data[r, i]\n",
        "\n",
        "    cuda.syncthreads()\n",
        "\n",
        "\n",
        "    if r < data.shape[0] and c < data_centroid.shape[0]:\n",
        "      total = 0\n",
        "      for i in range(shared_centroid.shape[1]):\n",
        "          total += math.pow(shared_data[cuda.threadIdx.y][i] - shared_centroid[cuda.threadIdx.x][i], 2)\n",
        "      result[r, c] = math.sqrt(total)"
      ],
      "metadata": {
        "id": "L8aOQo8D_M5G"
      },
      "execution_count": 106,
      "outputs": []
    },
    {
      "cell_type": "code",
      "source": [
        "def calc_distance_gpu_ver2(data, data_centroid):\n",
        "    result = np.zeros((data.shape[0], data_centroid.shape[0]))\n",
        "    # data_device = cuda.to_device(data) # old version\n",
        "    data_device = data\n",
        "    centroid_device = cuda.to_device(data_centroid)\n",
        "    result_device = cuda.to_device(result)\n",
        "\n",
        "    # invoke kernel\n",
        "    calc_distance_kernel_ver2[dist_bpg, dist_tpb](data_device, centroid_device, result_device)\n",
        "    result = result_device.copy_to_host()\n",
        "    return result"
      ],
      "metadata": {
        "id": "W9sSow5b_Qk_"
      },
      "execution_count": 107,
      "outputs": []
    },
    {
      "cell_type": "markdown",
      "source": [
        "## Compare GPU and CPU distance"
      ],
      "metadata": {
        "id": "qyvR3KrE8IeY"
      }
    },
    {
      "cell_type": "markdown",
      "source": [
        "GPU_VER1"
      ],
      "metadata": {
        "id": "q7h5fSkj_fs0"
      }
    },
    {
      "cell_type": "code",
      "source": [
        "dist_v1_gpu_time_start = time.perf_counter()\n",
        "calculated_dist_gpu_ver1 = calc_distance_gpu_ver1(np_data_device, centroid)\n",
        "dist_v1_gpu_time_end = time.perf_counter()"
      ],
      "metadata": {
        "id": "j_nKQcMu85ly"
      },
      "execution_count": 108,
      "outputs": []
    },
    {
      "cell_type": "code",
      "source": [
        "dist_v1_gpu_time_end - dist_v1_gpu_time_start"
      ],
      "metadata": {
        "colab": {
          "base_uri": "https://localhost:8080/"
        },
        "id": "zJdgTlWU9QhZ",
        "outputId": "ee9ff496-0c77-4ea4-f9cb-3aa99223ced6"
      },
      "execution_count": 109,
      "outputs": [
        {
          "output_type": "execute_result",
          "data": {
            "text/plain": [
              "0.015124813000056747"
            ]
          },
          "metadata": {},
          "execution_count": 109
        }
      ]
    },
    {
      "cell_type": "markdown",
      "source": [
        "GPU_VER2"
      ],
      "metadata": {
        "id": "cStxUgL6_yb1"
      }
    },
    {
      "cell_type": "code",
      "source": [
        "dist_v2_gpu_time_start = time.perf_counter()\n",
        "calculated_dist_gpu_ver2 = calc_distance_gpu_ver2(np_data_device, centroid)\n",
        "dist_v2_gpu_time_end = time.perf_counter()"
      ],
      "metadata": {
        "id": "whZJisxS_4Jj"
      },
      "execution_count": 110,
      "outputs": []
    },
    {
      "cell_type": "code",
      "source": [
        "dist_v2_gpu_time_end - dist_v2_gpu_time_start"
      ],
      "metadata": {
        "colab": {
          "base_uri": "https://localhost:8080/"
        },
        "id": "agg8_GLo_5Ow",
        "outputId": "5da07f34-b143-400d-ef30-0496a5f924a0"
      },
      "execution_count": 111,
      "outputs": [
        {
          "output_type": "execute_result",
          "data": {
            "text/plain": [
              "0.014887919000102556"
            ]
          },
          "metadata": {},
          "execution_count": 111
        }
      ]
    },
    {
      "cell_type": "markdown",
      "source": [
        "CPU"
      ],
      "metadata": {
        "id": "k6AqmtLM_kBB"
      }
    },
    {
      "cell_type": "code",
      "source": [
        "dist_cpu_time_start = time.perf_counter()\n",
        "calculated_dist_cpu = calc_distance_cpu(np_data, centroid)\n",
        "dist_cpu_time_end = time.perf_counter()"
      ],
      "metadata": {
        "id": "TiLguSJY9B9e"
      },
      "execution_count": 112,
      "outputs": []
    },
    {
      "cell_type": "code",
      "source": [
        "dist_cpu_time_end - dist_cpu_time_start"
      ],
      "metadata": {
        "colab": {
          "base_uri": "https://localhost:8080/"
        },
        "id": "aMJW7xaU9cxT",
        "outputId": "5ee713d2-9070-48e9-9c49-069de1edc907"
      },
      "execution_count": 113,
      "outputs": [
        {
          "output_type": "execute_result",
          "data": {
            "text/plain": [
              "0.9990115020000303"
            ]
          },
          "metadata": {},
          "execution_count": 113
        }
      ]
    },
    {
      "cell_type": "markdown",
      "source": [
        "MSE CPU and GPU_VER1"
      ],
      "metadata": {
        "id": "dq5b6Lcl_lga"
      }
    },
    {
      "cell_type": "code",
      "source": [
        "mse(calculated_dist_cpu, calculated_dist_gpu_ver1)"
      ],
      "metadata": {
        "colab": {
          "base_uri": "https://localhost:8080/"
        },
        "id": "hESlpn1J94AJ",
        "outputId": "40a36a8a-1680-4bb5-fe00-720b82666403"
      },
      "execution_count": 114,
      "outputs": [
        {
          "output_type": "execute_result",
          "data": {
            "text/plain": [
              "4.908467127644166e-25"
            ]
          },
          "metadata": {},
          "execution_count": 114
        }
      ]
    },
    {
      "cell_type": "markdown",
      "source": [
        "MSE CPU and GPU_VER2"
      ],
      "metadata": {
        "id": "kQemS1_R__1L"
      }
    },
    {
      "cell_type": "code",
      "source": [
        "mse(calculated_dist_cpu, calculated_dist_gpu_ver2)"
      ],
      "metadata": {
        "colab": {
          "base_uri": "https://localhost:8080/"
        },
        "id": "zcoPYj_WACBJ",
        "outputId": "fe3a065d-ec1c-4e01-8a49-8601c68c4f9b"
      },
      "execution_count": 115,
      "outputs": [
        {
          "output_type": "execute_result",
          "data": {
            "text/plain": [
              "4.908467127644166e-25"
            ]
          },
          "metadata": {},
          "execution_count": 115
        }
      ]
    },
    {
      "cell_type": "markdown",
      "source": [
        "# Nearest centroid"
      ],
      "metadata": {
        "id": "xj5NLstPCyum"
      }
    },
    {
      "cell_type": "code",
      "source": [
        "calculated_dist_cpu = calc_distance_cpu(np_data, centroid)"
      ],
      "metadata": {
        "id": "-5fUtT7BDe0Q"
      },
      "execution_count": 116,
      "outputs": []
    },
    {
      "cell_type": "markdown",
      "source": [
        "## CPU"
      ],
      "metadata": {
        "id": "-ZNMEVKgC_mi"
      }
    },
    {
      "cell_type": "markdown",
      "source": [
        "Ver 1 using numpy"
      ],
      "metadata": {
        "id": "A944TieQSdph"
      }
    },
    {
      "cell_type": "code",
      "source": [
        "def get_nearest_centroid_cpu_ver1(distance):\n",
        "    return np.argmin(distance, axis=1)"
      ],
      "metadata": {
        "id": "SRjlxx3cC_PG"
      },
      "execution_count": 117,
      "outputs": []
    },
    {
      "cell_type": "markdown",
      "source": [
        "Ver 2"
      ],
      "metadata": {
        "id": "Ri_j3PXXSf4F"
      }
    },
    {
      "cell_type": "code",
      "source": [
        "def get_nearest_centroid_cpu_ver2(distance):\n",
        "    num_samples, num_centroids = distance.shape\n",
        "    nearest_centroid = np.zeros(num_samples, dtype=np.int32)\n",
        "\n",
        "    for i in range(num_samples):\n",
        "        min_dist = distance[i, 0]\n",
        "        min_idx = 0\n",
        "        for j in range(1, num_centroids):\n",
        "            if distance[i, j] < min_dist:\n",
        "                min_dist = distance[i, j]\n",
        "                min_idx = j\n",
        "        nearest_centroid[i] = min_idx\n",
        "\n",
        "    return nearest_centroid"
      ],
      "metadata": {
        "id": "UoCxFJOvSaoQ"
      },
      "execution_count": 118,
      "outputs": []
    },
    {
      "cell_type": "markdown",
      "source": [
        "## GPU"
      ],
      "metadata": {
        "id": "2J9ge1w3DKQE"
      }
    },
    {
      "cell_type": "markdown",
      "source": [
        "### Preparation"
      ],
      "metadata": {
        "id": "ttl_2zWOD9-f"
      }
    },
    {
      "cell_type": "code",
      "source": [
        "def calc_dimension_for_nearest_centroid(distance):\n",
        "    block_size = 64\n",
        "    grid_size = (distance.shape[0] + block_size - 1) // block_size\n",
        "    return block_size, grid_size"
      ],
      "metadata": {
        "id": "-MKAgfqCEAZU"
      },
      "execution_count": 119,
      "outputs": []
    },
    {
      "cell_type": "code",
      "source": [
        "nearest_tpb, nearest_bpg = calc_dimension_for_nearest_centroid(calculated_dist_cpu)"
      ],
      "metadata": {
        "id": "OBz6-JMXEYFq"
      },
      "execution_count": 120,
      "outputs": []
    },
    {
      "cell_type": "markdown",
      "source": [
        "### GPU nearest centroids"
      ],
      "metadata": {
        "id": "imiEXmU1FEnZ"
      }
    },
    {
      "cell_type": "code",
      "source": [
        "@cuda.jit(void(nb.types.Array(dtype=float64, ndim=2, layout=\"C\"), nb.types.Array(dtype=int32, ndim=1, layout=\"C\")))\n",
        "def find_min_distance_kernel(distance, nearest_centroid):\n",
        "  r = cuda.blockIdx.x * cuda.blockDim.x + cuda.threadIdx.x\n",
        "  shape = distance.shape\n",
        "  if r < shape[0]:\n",
        "    data = distance[r]\n",
        "    min_distance = data[0]\n",
        "    min_idx = 0\n",
        "    for c in range(1, shape[1]):\n",
        "        current_value = data[c]\n",
        "        if current_value < min_distance:\n",
        "            min_distance = current_value\n",
        "            min_idx = c\n",
        "    nearest_centroid[r] = min_idx"
      ],
      "metadata": {
        "id": "2Yc9V2w8FIg0"
      },
      "execution_count": 121,
      "outputs": []
    },
    {
      "cell_type": "code",
      "source": [
        "def get_nearest_centroid_gpu(distance):  # Using GPU\n",
        "    nearest_centroid = np.zeros(distance.shape[0], dtype=np.int32)\n",
        "    distance_device = cuda.to_device(distance)\n",
        "    nearest_centroid_device = cuda.to_device(nearest_centroid)\n",
        "    find_min_distance_kernel[nearest_bpg, nearest_tpb](distance_device, nearest_centroid_device)\n",
        "\n",
        "    resolved_nearest_centroid = nearest_centroid_device.copy_to_host()\n",
        "    return resolved_nearest_centroid"
      ],
      "metadata": {
        "id": "k7XXa2M5F4tZ"
      },
      "execution_count": 122,
      "outputs": []
    },
    {
      "cell_type": "markdown",
      "source": [
        "## Comapre GPU and CPU"
      ],
      "metadata": {
        "id": "DfO6j_eHGTeW"
      }
    },
    {
      "cell_type": "markdown",
      "source": [
        "GPU"
      ],
      "metadata": {
        "id": "F-lqBkAyHGfv"
      }
    },
    {
      "cell_type": "code",
      "source": [
        "nearest_gpu_time_start = time.perf_counter()\n",
        "calculated_nearest_gpu = get_nearest_centroid_gpu(calculated_dist_cpu)\n",
        "nearest_gpu_time_end = time.perf_counter()"
      ],
      "metadata": {
        "id": "io_uq_LXG_lk"
      },
      "execution_count": 123,
      "outputs": []
    },
    {
      "cell_type": "code",
      "source": [
        "nearest_gpu_time_end - nearest_gpu_time_start"
      ],
      "metadata": {
        "colab": {
          "base_uri": "https://localhost:8080/"
        },
        "outputId": "1582a6d9-b79b-46d8-95ed-e3f9c166614c",
        "id": "khXyFfhOG_lk"
      },
      "execution_count": 124,
      "outputs": [
        {
          "output_type": "execute_result",
          "data": {
            "text/plain": [
              "0.002677933000086341"
            ]
          },
          "metadata": {},
          "execution_count": 124
        }
      ]
    },
    {
      "cell_type": "markdown",
      "source": [
        "CPU"
      ],
      "metadata": {
        "id": "3q_5iNqZG_lk"
      }
    },
    {
      "cell_type": "markdown",
      "source": [
        "Ver 1"
      ],
      "metadata": {
        "id": "OljVq67dS8IN"
      }
    },
    {
      "cell_type": "code",
      "source": [
        "nearest_cpu_ver1_time_start = time.perf_counter()\n",
        "calculated_nearest_cpu_ver1 = get_nearest_centroid_cpu_ver1(calculated_dist_cpu)\n",
        "nearest_cpu_ver1_time_end = time.perf_counter()"
      ],
      "metadata": {
        "id": "-PvYhnqiG_lk"
      },
      "execution_count": 125,
      "outputs": []
    },
    {
      "cell_type": "code",
      "source": [
        "nearest_cpu_ver1_time_end - nearest_cpu_ver1_time_start"
      ],
      "metadata": {
        "colab": {
          "base_uri": "https://localhost:8080/"
        },
        "outputId": "9eefc5f3-f602-4e08-8aae-956aa060e74c",
        "id": "qXZLQNzfG_ll"
      },
      "execution_count": 126,
      "outputs": [
        {
          "output_type": "execute_result",
          "data": {
            "text/plain": [
              "0.0008630420002191386"
            ]
          },
          "metadata": {},
          "execution_count": 126
        }
      ]
    },
    {
      "cell_type": "markdown",
      "source": [
        "Ver 2"
      ],
      "metadata": {
        "id": "N6dj6KnyS9bI"
      }
    },
    {
      "cell_type": "code",
      "source": [
        "nearest_cpu_ver2_time_start = time.perf_counter()\n",
        "calculated_nearest_cpu_ver2 = get_nearest_centroid_cpu_ver2(calculated_dist_cpu)\n",
        "nearest_cpu_ver2_time_end = time.perf_counter()"
      ],
      "metadata": {
        "id": "63yxAX9RTH9s"
      },
      "execution_count": 127,
      "outputs": []
    },
    {
      "cell_type": "code",
      "source": [
        "nearest_cpu_ver2_time_end - nearest_cpu_ver2_time_start"
      ],
      "metadata": {
        "colab": {
          "base_uri": "https://localhost:8080/"
        },
        "id": "sgbeqHIsTNMc",
        "outputId": "1d14cec5-5ebb-4fbf-c0ee-8240ac1e029f"
      },
      "execution_count": 128,
      "outputs": [
        {
          "output_type": "execute_result",
          "data": {
            "text/plain": [
              "0.03950971199992637"
            ]
          },
          "metadata": {},
          "execution_count": 128
        }
      ]
    },
    {
      "cell_type": "markdown",
      "source": [
        "MSE CPU Ver 1 and GPU"
      ],
      "metadata": {
        "id": "pE35uNj1G_ll"
      }
    },
    {
      "cell_type": "code",
      "source": [
        "mse(calculated_nearest_cpu_ver1, calculated_nearest_gpu)"
      ],
      "metadata": {
        "colab": {
          "base_uri": "https://localhost:8080/"
        },
        "outputId": "cd6f11bf-2f1d-4ec1-9ca6-50059cfe49a3",
        "id": "v1yD8rwAG_ll"
      },
      "execution_count": 129,
      "outputs": [
        {
          "output_type": "execute_result",
          "data": {
            "text/plain": [
              "0.0"
            ]
          },
          "metadata": {},
          "execution_count": 129
        }
      ]
    },
    {
      "cell_type": "markdown",
      "source": [
        "MSE CPU Ver 2 and GPU"
      ],
      "metadata": {
        "id": "aoJcWl13Taat"
      }
    },
    {
      "cell_type": "code",
      "source": [
        "mse(calculated_nearest_cpu_ver2, calculated_nearest_gpu)"
      ],
      "metadata": {
        "colab": {
          "base_uri": "https://localhost:8080/"
        },
        "outputId": "4e3ee64d-6df7-4334-ac2f-c02579048deb",
        "id": "9dkIbVWeTaau"
      },
      "execution_count": 130,
      "outputs": [
        {
          "output_type": "execute_result",
          "data": {
            "text/plain": [
              "0.0"
            ]
          },
          "metadata": {},
          "execution_count": 130
        }
      ]
    },
    {
      "cell_type": "markdown",
      "source": [
        "# KMEAN"
      ],
      "metadata": {
        "id": "QJspDnK1ICEQ"
      }
    },
    {
      "cell_type": "code",
      "source": [
        "def get_new_centroids(data, data_nearest_centroid, number_of_centroid):\n",
        "    result_centroids = np.zeros((number_of_centroid, data.shape[1]))\n",
        "    for i in range(number_of_centroid):\n",
        "        result_centroids[i] = data[np.where(data_nearest_centroid == i)].mean(axis=0)\n",
        "    return result_centroids"
      ],
      "metadata": {
        "id": "5Y4joO66JAWZ"
      },
      "execution_count": 131,
      "outputs": []
    },
    {
      "cell_type": "markdown",
      "source": [
        "## CPU"
      ],
      "metadata": {
        "id": "Uj4RpH_MIICf"
      }
    },
    {
      "cell_type": "code",
      "source": [
        "def kmean_cpu(data, initial_centroid):\n",
        "    centroid_cpu = copy.deepcopy(initial_centroid)\n",
        "    has_changed_centroid = True\n",
        "    while has_changed_centroid:\n",
        "        calculated_dist = calc_distance_cpu(data, centroid_cpu)  # calculated dist\n",
        "        nearest_centroid = get_nearest_centroid_cpu_ver1(calculated_dist)  # assigned to centroid\n",
        "        new_centroid = get_new_centroids(data, nearest_centroid, k)\n",
        "        if np.all(new_centroid == centroid_cpu):\n",
        "            has_changed_centroid = False\n",
        "        else:\n",
        "            centroid_cpu = new_centroid\n",
        "    return centroid_cpu"
      ],
      "metadata": {
        "id": "gQPr5crzIenw"
      },
      "execution_count": 132,
      "outputs": []
    },
    {
      "cell_type": "markdown",
      "source": [
        "## GPU"
      ],
      "metadata": {
        "id": "vvN9bwRjJT3r"
      }
    },
    {
      "cell_type": "code",
      "source": [
        "def kmean_gpu(data, initial_centroid):\n",
        "    centroid_gpu = copy.deepcopy(initial_centroid)\n",
        "    has_changed_centroid = True\n",
        "    while has_changed_centroid:\n",
        "        calculated_dist = calc_distance_gpu_ver2(np_data_device, centroid_gpu)  # calculated dist\n",
        "        nearest_centroid = get_nearest_centroid_gpu(calculated_dist)  # assigned to centroid\n",
        "        new_centroid = get_new_centroids(data, nearest_centroid, k)\n",
        "        if np.all(new_centroid == centroid_gpu):\n",
        "            has_changed_centroid = False\n",
        "        else:\n",
        "            centroid_gpu = new_centroid\n",
        "    return centroid_gpu"
      ],
      "metadata": {
        "id": "-Whomt-rJYws"
      },
      "execution_count": 133,
      "outputs": []
    },
    {
      "cell_type": "markdown",
      "source": [
        "## Compare CPU vs GPU"
      ],
      "metadata": {
        "id": "CUT2KCOCKD7M"
      }
    },
    {
      "cell_type": "markdown",
      "source": [
        "### RUN CPU"
      ],
      "metadata": {
        "id": "cjCjIBD7KgZy"
      }
    },
    {
      "cell_type": "code",
      "source": [
        "kmean_cpu_start = time.perf_counter()\n",
        "kmean_cpu_result = kmean_cpu(np_data, centroid)\n",
        "kmean_cpu_end = time.perf_counter()"
      ],
      "metadata": {
        "id": "thuz6s5YKHrf"
      },
      "execution_count": 134,
      "outputs": []
    },
    {
      "cell_type": "code",
      "source": [
        "kmean_cpu_end - kmean_cpu_start"
      ],
      "metadata": {
        "colab": {
          "base_uri": "https://localhost:8080/"
        },
        "id": "_m4wodqYKZmR",
        "outputId": "40bf8517-5636-4205-c643-3d96c2a9bfee"
      },
      "execution_count": 135,
      "outputs": [
        {
          "output_type": "execute_result",
          "data": {
            "text/plain": [
              "76.43915714399964"
            ]
          },
          "metadata": {},
          "execution_count": 135
        }
      ]
    },
    {
      "cell_type": "markdown",
      "source": [
        "### RUN GPU"
      ],
      "metadata": {
        "id": "BzALjP8eKjSl"
      }
    },
    {
      "cell_type": "code",
      "source": [
        "kmean_gpu_start = time.perf_counter()\n",
        "kmean_gpu_result = kmean_gpu(np_data, centroid)\n",
        "kmean_gpu_end = time.perf_counter()"
      ],
      "metadata": {
        "id": "T1N340pwKp4d"
      },
      "execution_count": 136,
      "outputs": []
    },
    {
      "cell_type": "code",
      "source": [
        "kmean_gpu_end - kmean_gpu_start"
      ],
      "metadata": {
        "colab": {
          "base_uri": "https://localhost:8080/"
        },
        "id": "TCxqdXKCKunh",
        "outputId": "18391d72-3bbc-4cc1-b063-bd54e11c5380"
      },
      "execution_count": 137,
      "outputs": [
        {
          "output_type": "execute_result",
          "data": {
            "text/plain": [
              "0.663698251000369"
            ]
          },
          "metadata": {},
          "execution_count": 137
        }
      ]
    },
    {
      "cell_type": "markdown",
      "source": [
        "### Compare"
      ],
      "metadata": {
        "id": "1uaxOBDgs6ay"
      }
    },
    {
      "cell_type": "code",
      "source": [
        "mse(kmean_cpu_result, kmean_gpu_result)"
      ],
      "metadata": {
        "colab": {
          "base_uri": "https://localhost:8080/"
        },
        "id": "klfQXK21s9kA",
        "outputId": "4552d78f-d1b6-4c18-e4b6-9bb09788d11a"
      },
      "execution_count": 138,
      "outputs": [
        {
          "output_type": "execute_result",
          "data": {
            "text/plain": [
              "0.0"
            ]
          },
          "metadata": {},
          "execution_count": 138
        }
      ]
    }
  ]
}