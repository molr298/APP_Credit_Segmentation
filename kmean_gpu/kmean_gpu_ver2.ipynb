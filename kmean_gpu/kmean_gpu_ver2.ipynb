{
  "nbformat": 4,
  "nbformat_minor": 0,
  "metadata": {
    "colab": {
      "provenance": [],
      "gpuType": "T4"
    },
    "kernelspec": {
      "name": "python3",
      "display_name": "Python 3"
    },
    "language_info": {
      "name": "python"
    },
    "accelerator": "GPU"
  },
  "cells": [
    {
      "cell_type": "markdown",
      "source": [
        "# Import lib"
      ],
      "metadata": {
        "id": "9NviTMz16FJi"
      }
    },
    {
      "cell_type": "code",
      "execution_count": 71,
      "metadata": {
        "id": "HXb5JRxf5MhT"
      },
      "outputs": [],
      "source": [
        "import math\n",
        "\n",
        "import pandas as pd\n",
        "import numpy as np\n",
        "from numba import cuda, void, float64, int32\n",
        "import numba as nb\n",
        "import time\n",
        "import copy"
      ]
    },
    {
      "cell_type": "markdown",
      "source": [
        "# Preprocess (temp)"
      ],
      "metadata": {
        "id": "mytDIqPH6Ic3"
      }
    },
    {
      "cell_type": "code",
      "source": [
        "df = pd.read_csv('data/CC GENERAL.csv')\n",
        "\n",
        "df['MINIMUM_PAYMENTS'] = df['MINIMUM_PAYMENTS'].fillna(df['MINIMUM_PAYMENTS'].median())\n",
        "df['CREDIT_LIMIT'] = df['CREDIT_LIMIT'].fillna(df['CREDIT_LIMIT'].mean())\n",
        "\n",
        "df = df.drop('CUST_ID', axis=1)\n",
        "np_data = df.to_numpy()"
      ],
      "metadata": {
        "id": "NXiEpD1J5OD1"
      },
      "execution_count": 72,
      "outputs": []
    },
    {
      "cell_type": "markdown",
      "source": [
        "# MSE"
      ],
      "metadata": {
        "id": "22rZB3tD9_L6"
      }
    },
    {
      "cell_type": "code",
      "source": [
        "def mse(result_1, result_2):\n",
        "  return (np.square(result_1 - result_2)).mean()"
      ],
      "metadata": {
        "id": "siNPC2wO9-cO"
      },
      "execution_count": 73,
      "outputs": []
    },
    {
      "cell_type": "markdown",
      "source": [
        "# Init k and centroids"
      ],
      "metadata": {
        "id": "ouWmrkT-6LNO"
      }
    },
    {
      "cell_type": "code",
      "source": [
        "k = 20\n",
        "centroid = np_data[np.random.randint(np_data.shape[0], size=k), :]"
      ],
      "metadata": {
        "id": "t_rnEu656OfL"
      },
      "execution_count": 74,
      "outputs": []
    },
    {
      "cell_type": "markdown",
      "source": [
        "# Distance"
      ],
      "metadata": {
        "id": "uhxhawZC6T2-"
      }
    },
    {
      "cell_type": "markdown",
      "source": [
        "## CPU"
      ],
      "metadata": {
        "id": "vAKG2FKN6a3F"
      }
    },
    {
      "cell_type": "code",
      "source": [
        "def calc_distance_cpu(data, data_centroid):\n",
        "    dist = np.zeros((data.shape[0], data_centroid.shape[0]))\n",
        "    for i in range(data.shape[0]):\n",
        "        for j in range(data_centroid.shape[0]):\n",
        "            dist[i][j] = np.linalg.norm(data[i] - data_centroid[j])\n",
        "    return dist"
      ],
      "metadata": {
        "id": "bRmJbmAo6cOa"
      },
      "execution_count": 75,
      "outputs": []
    },
    {
      "cell_type": "markdown",
      "source": [
        "## GPU"
      ],
      "metadata": {
        "id": "fNRUvl_j6nuv"
      }
    },
    {
      "cell_type": "markdown",
      "source": [
        "### Preparation"
      ],
      "metadata": {
        "id": "c0dWOv2o6ycY"
      }
    },
    {
      "cell_type": "markdown",
      "source": [
        "Calculate thread per block and block per grid"
      ],
      "metadata": {
        "id": "q_BNpD2f7Lvb"
      }
    },
    {
      "cell_type": "code",
      "source": [
        "def calc_dimension_for_distance(data, data_centroid):\n",
        "    def next_power_of_2(x):\n",
        "      return 1 << (x - 1).bit_length()\n",
        "    real_dim_x = data_centroid.shape[0]\n",
        "    dim_x = next_power_of_2(real_dim_x)\n",
        "    dim_y = dim_x\n",
        "    thread_per_blocks = (dim_x, dim_y)\n",
        "    blocks_per_grid_x = 1\n",
        "    blocks_per_grid_y = math.ceil(data.shape[0] / thread_per_blocks[0])\n",
        "    blocks_per_grid = (blocks_per_grid_x, blocks_per_grid_y)\n",
        "    return thread_per_blocks, blocks_per_grid"
      ],
      "metadata": {
        "id": "b-PDMNCZ7FCy"
      },
      "execution_count": 76,
      "outputs": []
    },
    {
      "cell_type": "code",
      "source": [
        "dist_tpb, dist_bpg = calc_dimension_for_distance(np_data, centroid)"
      ],
      "metadata": {
        "id": "sO2agFLT7K4I"
      },
      "execution_count": 77,
      "outputs": []
    },
    {
      "cell_type": "markdown",
      "source": [
        "Copy data to device"
      ],
      "metadata": {
        "id": "rfj9Cgtt697q"
      }
    },
    {
      "cell_type": "code",
      "source": [
        "np_data_device = cuda.to_device(np_data)"
      ],
      "metadata": {
        "id": "0_3DwCOR6rk0"
      },
      "execution_count": 78,
      "outputs": []
    },
    {
      "cell_type": "markdown",
      "source": [
        "### GPU distance"
      ],
      "metadata": {
        "id": "YpBtpPZX7bnw"
      }
    },
    {
      "cell_type": "markdown",
      "source": [
        "Ver 1"
      ],
      "metadata": {
        "id": "dWmOnHXv7t3s"
      }
    },
    {
      "cell_type": "code",
      "source": [
        "@cuda.jit(void(nb.types.Array(dtype=float64, ndim=2, layout=\"F\"), nb.types.Array(dtype=float64, ndim=2, layout=\"C\"), nb.types.Array(dtype=float64, ndim=2, layout=\"C\")))\n",
        "def calc_distance_kernel_ver1(data, data_centroid, result):\n",
        "    r = cuda.blockIdx.y * cuda.blockDim.y + cuda.threadIdx.y\n",
        "    c = cuda.blockIdx.x * cuda.blockDim.x + cuda.threadIdx.x\n",
        "    if r < data.shape[0] and c < data_centroid.shape[0]:\n",
        "        total = 0\n",
        "        for i in range(data_centroid.shape[1]):\n",
        "            total += math.pow(data[r][i] - data_centroid[c][i], 2)\n",
        "        result[r, c] = math.sqrt(total)"
      ],
      "metadata": {
        "id": "PQoyzqVF7tFU"
      },
      "execution_count": 79,
      "outputs": []
    },
    {
      "cell_type": "code",
      "source": [
        "def calc_distance_gpu_ver1(data, data_centroid):\n",
        "    result = np.zeros((data.shape[0], data_centroid.shape[0]))\n",
        "    # data_device = cuda.to_device(data) # old version\n",
        "    data_device = data\n",
        "    centroid_device = cuda.to_device(data_centroid)\n",
        "    result_device = cuda.to_device(result)\n",
        "\n",
        "    # invoke kernel\n",
        "    calc_distance_kernel_ver1[dist_bpg, dist_tpb](data_device, centroid_device, result_device)\n",
        "    result = result_device.copy_to_host()\n",
        "    return result"
      ],
      "metadata": {
        "id": "wUyoypOG6oyk"
      },
      "execution_count": 80,
      "outputs": []
    },
    {
      "cell_type": "markdown",
      "source": [
        "Ver 2 (use share memory)"
      ],
      "metadata": {
        "id": "IhLIj3-v_OW9"
      }
    },
    {
      "cell_type": "code",
      "source": [
        "@cuda.jit(void(nb.types.Array(dtype=float64, ndim=2, layout=\"F\"), nb.types.Array(dtype=float64, ndim=2, layout=\"C\"), nb.types.Array(dtype=float64, ndim=2, layout=\"C\")))\n",
        "def calc_distance_kernel_ver2(data, data_centroid, result):\n",
        "    r = cuda.blockIdx.y * cuda.blockDim.y + cuda.threadIdx.y\n",
        "    c = cuda.blockIdx.x * cuda.blockDim.x + cuda.threadIdx.x\n",
        "    if r < data.shape[0] and c < data_centroid.shape[0]:\n",
        "        total = 0\n",
        "        for i in range(data_centroid.shape[1]):\n",
        "            total += math.pow(data[r][i] - data_centroid[c][i], 2)\n",
        "        result[r, c] = math.sqrt(total)"
      ],
      "metadata": {
        "id": "L8aOQo8D_M5G"
      },
      "execution_count": 81,
      "outputs": []
    },
    {
      "cell_type": "code",
      "source": [
        "def calc_distance_gpu_ver2(data, data_centroid):\n",
        "    result = np.zeros((data.shape[0], data_centroid.shape[0]))\n",
        "    # data_device = cuda.to_device(data) # old version\n",
        "    data_device = data\n",
        "    centroid_device = cuda.to_device(data_centroid)\n",
        "    result_device = cuda.to_device(result)\n",
        "\n",
        "    # invoke kernel\n",
        "    calc_distance_kernel_ver1[dist_bpg, dist_tpb](data_device, centroid_device, result_device)\n",
        "    result = result_device.copy_to_host()\n",
        "    return result"
      ],
      "metadata": {
        "id": "W9sSow5b_Qk_"
      },
      "execution_count": 82,
      "outputs": []
    },
    {
      "cell_type": "markdown",
      "source": [
        "## Compare GPU and CPU distance"
      ],
      "metadata": {
        "id": "qyvR3KrE8IeY"
      }
    },
    {
      "cell_type": "markdown",
      "source": [
        "GPU_VER1"
      ],
      "metadata": {
        "id": "q7h5fSkj_fs0"
      }
    },
    {
      "cell_type": "code",
      "source": [
        "dist_v1_gpu_time_start = time.perf_counter()\n",
        "calculated_dist_gpu_ver1 = calc_distance_gpu_ver1(np_data_device, centroid)\n",
        "dist_v1_gpu_time_end = time.perf_counter()"
      ],
      "metadata": {
        "id": "j_nKQcMu85ly"
      },
      "execution_count": 83,
      "outputs": []
    },
    {
      "cell_type": "code",
      "source": [
        "dist_v1_gpu_time_end - dist_v1_gpu_time_start"
      ],
      "metadata": {
        "colab": {
          "base_uri": "https://localhost:8080/"
        },
        "id": "zJdgTlWU9QhZ",
        "outputId": "91b12600-5f76-41de-8ac8-ba365edcbd25"
      },
      "execution_count": 84,
      "outputs": [
        {
          "output_type": "execute_result",
          "data": {
            "text/plain": [
              "0.015032066999992821"
            ]
          },
          "metadata": {},
          "execution_count": 84
        }
      ]
    },
    {
      "cell_type": "markdown",
      "source": [
        "GPU_VER2"
      ],
      "metadata": {
        "id": "cStxUgL6_yb1"
      }
    },
    {
      "cell_type": "code",
      "source": [
        "dist_v2_gpu_time_start = time.perf_counter()\n",
        "calculated_dist_gpu_ver2 = calc_distance_gpu_ver2(np_data_device, centroid)\n",
        "dist_v2_gpu_time_end = time.perf_counter()"
      ],
      "metadata": {
        "id": "whZJisxS_4Jj"
      },
      "execution_count": 85,
      "outputs": []
    },
    {
      "cell_type": "code",
      "source": [
        "dist_v2_gpu_time_end - dist_v2_gpu_time_start"
      ],
      "metadata": {
        "colab": {
          "base_uri": "https://localhost:8080/"
        },
        "id": "agg8_GLo_5Ow",
        "outputId": "4d95f170-4868-477d-bbce-fbc5d04b4b0a"
      },
      "execution_count": 86,
      "outputs": [
        {
          "output_type": "execute_result",
          "data": {
            "text/plain": [
              "0.014395087000593776"
            ]
          },
          "metadata": {},
          "execution_count": 86
        }
      ]
    },
    {
      "cell_type": "markdown",
      "source": [
        "CPU"
      ],
      "metadata": {
        "id": "k6AqmtLM_kBB"
      }
    },
    {
      "cell_type": "code",
      "source": [
        "dist_cpu_time_start = time.perf_counter()\n",
        "calculated_dist_cpu = calc_distance_cpu(np_data, centroid)\n",
        "dist_cpu_time_end = time.perf_counter()"
      ],
      "metadata": {
        "id": "TiLguSJY9B9e"
      },
      "execution_count": 87,
      "outputs": []
    },
    {
      "cell_type": "code",
      "source": [
        "dist_cpu_time_end - dist_cpu_time_start"
      ],
      "metadata": {
        "colab": {
          "base_uri": "https://localhost:8080/"
        },
        "id": "aMJW7xaU9cxT",
        "outputId": "1c4ea4c9-9dea-4572-f4ed-4e23970c6d82"
      },
      "execution_count": 88,
      "outputs": [
        {
          "output_type": "execute_result",
          "data": {
            "text/plain": [
              "1.183340772999145"
            ]
          },
          "metadata": {},
          "execution_count": 88
        }
      ]
    },
    {
      "cell_type": "markdown",
      "source": [
        "MSE CPU and GPU_VER1"
      ],
      "metadata": {
        "id": "dq5b6Lcl_lga"
      }
    },
    {
      "cell_type": "code",
      "source": [
        "mse(calculated_dist_cpu, calculated_dist_gpu_ver1)"
      ],
      "metadata": {
        "colab": {
          "base_uri": "https://localhost:8080/"
        },
        "id": "hESlpn1J94AJ",
        "outputId": "018cb5b7-1fb6-4cee-d0ac-be2031d69c8b"
      },
      "execution_count": 89,
      "outputs": [
        {
          "output_type": "execute_result",
          "data": {
            "text/plain": [
              "5.190650484134233e-25"
            ]
          },
          "metadata": {},
          "execution_count": 89
        }
      ]
    },
    {
      "cell_type": "markdown",
      "source": [
        "MSE CPU and GPU_VER2"
      ],
      "metadata": {
        "id": "kQemS1_R__1L"
      }
    },
    {
      "cell_type": "code",
      "source": [
        "mse(calculated_dist_cpu, calculated_dist_gpu_ver2)"
      ],
      "metadata": {
        "colab": {
          "base_uri": "https://localhost:8080/"
        },
        "id": "zcoPYj_WACBJ",
        "outputId": "16992f39-e542-4610-8836-8a5925f7b454"
      },
      "execution_count": 90,
      "outputs": [
        {
          "output_type": "execute_result",
          "data": {
            "text/plain": [
              "5.190650484134233e-25"
            ]
          },
          "metadata": {},
          "execution_count": 90
        }
      ]
    },
    {
      "cell_type": "markdown",
      "source": [
        "# Nearest centroid"
      ],
      "metadata": {
        "id": "xj5NLstPCyum"
      }
    },
    {
      "cell_type": "code",
      "source": [
        "calculated_dist_cpu = calc_distance_cpu(np_data, centroid)"
      ],
      "metadata": {
        "id": "-5fUtT7BDe0Q"
      },
      "execution_count": 91,
      "outputs": []
    },
    {
      "cell_type": "markdown",
      "source": [
        "## CPU"
      ],
      "metadata": {
        "id": "-ZNMEVKgC_mi"
      }
    },
    {
      "cell_type": "markdown",
      "source": [
        "Ver 1 using numpy"
      ],
      "metadata": {
        "id": "A944TieQSdph"
      }
    },
    {
      "cell_type": "code",
      "source": [
        "def get_nearest_centroid_cpu_ver1(distance):\n",
        "    return np.argmin(distance, axis=1)"
      ],
      "metadata": {
        "id": "SRjlxx3cC_PG"
      },
      "execution_count": 92,
      "outputs": []
    },
    {
      "cell_type": "markdown",
      "source": [
        "Ver 2"
      ],
      "metadata": {
        "id": "Ri_j3PXXSf4F"
      }
    },
    {
      "cell_type": "code",
      "source": [
        "def get_nearest_centroid_cpu_ver2(distance):\n",
        "    num_samples, num_centroids = distance.shape\n",
        "    nearest_centroid = np.zeros(num_samples, dtype=np.int32)\n",
        "\n",
        "    for i in range(num_samples):\n",
        "        min_dist = distance[i, 0]\n",
        "        min_idx = 0\n",
        "        for j in range(1, num_centroids):\n",
        "            if distance[i, j] < min_dist:\n",
        "                min_dist = distance[i, j]\n",
        "                min_idx = j\n",
        "        nearest_centroid[i] = min_idx\n",
        "\n",
        "    return nearest_centroid"
      ],
      "metadata": {
        "id": "UoCxFJOvSaoQ"
      },
      "execution_count": 93,
      "outputs": []
    },
    {
      "cell_type": "markdown",
      "source": [
        "## GPU"
      ],
      "metadata": {
        "id": "2J9ge1w3DKQE"
      }
    },
    {
      "cell_type": "markdown",
      "source": [
        "### Preparation"
      ],
      "metadata": {
        "id": "ttl_2zWOD9-f"
      }
    },
    {
      "cell_type": "code",
      "source": [
        "def calc_dimension_for_nearest_centroid(distance):\n",
        "    block_size = 64\n",
        "    grid_size = (distance.shape[0] + block_size - 1) // block_size\n",
        "    return block_size, grid_size"
      ],
      "metadata": {
        "id": "-MKAgfqCEAZU"
      },
      "execution_count": 94,
      "outputs": []
    },
    {
      "cell_type": "code",
      "source": [
        "nearest_tpb, nearest_bpg = calc_dimension_for_nearest_centroid(calculated_dist_cpu)"
      ],
      "metadata": {
        "id": "OBz6-JMXEYFq"
      },
      "execution_count": 95,
      "outputs": []
    },
    {
      "cell_type": "markdown",
      "source": [
        "### GPU nearest centroids"
      ],
      "metadata": {
        "id": "imiEXmU1FEnZ"
      }
    },
    {
      "cell_type": "code",
      "source": [
        "@cuda.jit(void(nb.types.Array(dtype=float64, ndim=2, layout=\"C\"), nb.types.Array(dtype=int32, ndim=1, layout=\"C\")))\n",
        "def find_min_distance_kernel(distance, nearest_centroid):\n",
        "  r = cuda.blockIdx.x * cuda.blockDim.x + cuda.threadIdx.x\n",
        "  shape = distance.shape\n",
        "  if r < shape[0]:\n",
        "    data = distance[r]\n",
        "    min_distance = data[0]\n",
        "    min_idx = 0\n",
        "    for c in range(1, shape[1]):\n",
        "        current_value = data[c]\n",
        "        if current_value < min_distance:\n",
        "            min_distance = current_value\n",
        "            min_idx = c\n",
        "    nearest_centroid[r] = min_idx"
      ],
      "metadata": {
        "id": "2Yc9V2w8FIg0"
      },
      "execution_count": 96,
      "outputs": []
    },
    {
      "cell_type": "code",
      "source": [
        "def get_nearest_centroid_gpu(distance):  # Using GPU\n",
        "    nearest_centroid = np.zeros(distance.shape[0], dtype=np.int32)\n",
        "    distance_device = cuda.to_device(distance)\n",
        "    nearest_centroid_device = cuda.to_device(nearest_centroid)\n",
        "    find_min_distance_kernel[nearest_bpg, nearest_tpb](distance_device, nearest_centroid_device)\n",
        "\n",
        "    resolved_nearest_centroid = nearest_centroid_device.copy_to_host()\n",
        "    return resolved_nearest_centroid"
      ],
      "metadata": {
        "id": "k7XXa2M5F4tZ"
      },
      "execution_count": 97,
      "outputs": []
    },
    {
      "cell_type": "markdown",
      "source": [
        "## Comapre GPU and CPU"
      ],
      "metadata": {
        "id": "DfO6j_eHGTeW"
      }
    },
    {
      "cell_type": "markdown",
      "source": [
        "GPU"
      ],
      "metadata": {
        "id": "F-lqBkAyHGfv"
      }
    },
    {
      "cell_type": "code",
      "source": [
        "nearest_gpu_time_start = time.perf_counter()\n",
        "calculated_nearest_gpu = get_nearest_centroid_gpu(calculated_dist_cpu)\n",
        "nearest_gpu_time_end = time.perf_counter()"
      ],
      "metadata": {
        "id": "io_uq_LXG_lk"
      },
      "execution_count": 98,
      "outputs": []
    },
    {
      "cell_type": "code",
      "source": [
        "nearest_gpu_time_end - nearest_gpu_time_start"
      ],
      "metadata": {
        "colab": {
          "base_uri": "https://localhost:8080/"
        },
        "outputId": "18bd6479-a3a2-44c7-c32d-16619aaa1f4a",
        "id": "khXyFfhOG_lk"
      },
      "execution_count": 99,
      "outputs": [
        {
          "output_type": "execute_result",
          "data": {
            "text/plain": [
              "0.004648686999644269"
            ]
          },
          "metadata": {},
          "execution_count": 99
        }
      ]
    },
    {
      "cell_type": "markdown",
      "source": [
        "CPU"
      ],
      "metadata": {
        "id": "3q_5iNqZG_lk"
      }
    },
    {
      "cell_type": "markdown",
      "source": [
        "Ver 1"
      ],
      "metadata": {
        "id": "OljVq67dS8IN"
      }
    },
    {
      "cell_type": "code",
      "source": [
        "nearest_cpu_ver1_time_start = time.perf_counter()\n",
        "calculated_nearest_cpu_ver1 = get_nearest_centroid_cpu_ver1(calculated_dist_cpu)\n",
        "nearest_cpu_ver1_time_end = time.perf_counter()"
      ],
      "metadata": {
        "id": "-PvYhnqiG_lk"
      },
      "execution_count": 100,
      "outputs": []
    },
    {
      "cell_type": "code",
      "source": [
        "nearest_cpu_ver1_time_end - nearest_cpu_ver1_time_start"
      ],
      "metadata": {
        "colab": {
          "base_uri": "https://localhost:8080/"
        },
        "outputId": "f1e01d9e-b45d-4d8f-ab77-6183919916f0",
        "id": "qXZLQNzfG_ll"
      },
      "execution_count": 101,
      "outputs": [
        {
          "output_type": "execute_result",
          "data": {
            "text/plain": [
              "0.0008093070009635994"
            ]
          },
          "metadata": {},
          "execution_count": 101
        }
      ]
    },
    {
      "cell_type": "markdown",
      "source": [
        "Ver 2"
      ],
      "metadata": {
        "id": "N6dj6KnyS9bI"
      }
    },
    {
      "cell_type": "code",
      "source": [
        "nearest_cpu_ver2_time_start = time.perf_counter()\n",
        "calculated_nearest_cpu_ver2 = get_nearest_centroid_cpu_ver2(calculated_dist_cpu)\n",
        "nearest_cpu_ver2_time_end = time.perf_counter()"
      ],
      "metadata": {
        "id": "63yxAX9RTH9s"
      },
      "execution_count": 102,
      "outputs": []
    },
    {
      "cell_type": "code",
      "source": [
        "nearest_cpu_ver2_time_end - nearest_cpu_ver2_time_start"
      ],
      "metadata": {
        "colab": {
          "base_uri": "https://localhost:8080/"
        },
        "id": "sgbeqHIsTNMc",
        "outputId": "e6721f5f-25d8-4f45-d942-7611a7ad8354"
      },
      "execution_count": 103,
      "outputs": [
        {
          "output_type": "execute_result",
          "data": {
            "text/plain": [
              "0.037659809000615496"
            ]
          },
          "metadata": {},
          "execution_count": 103
        }
      ]
    },
    {
      "cell_type": "markdown",
      "source": [
        "MSE CPU Ver 1 and GPU"
      ],
      "metadata": {
        "id": "pE35uNj1G_ll"
      }
    },
    {
      "cell_type": "code",
      "source": [
        "mse(calculated_nearest_cpu_ver1, calculated_nearest_gpu)"
      ],
      "metadata": {
        "colab": {
          "base_uri": "https://localhost:8080/"
        },
        "outputId": "8dc7d20f-47c6-436b-e408-ef09534c468d",
        "id": "v1yD8rwAG_ll"
      },
      "execution_count": 104,
      "outputs": [
        {
          "output_type": "execute_result",
          "data": {
            "text/plain": [
              "0.0"
            ]
          },
          "metadata": {},
          "execution_count": 104
        }
      ]
    },
    {
      "cell_type": "markdown",
      "source": [
        "MSE CPU Ver 2 and GPU"
      ],
      "metadata": {
        "id": "aoJcWl13Taat"
      }
    },
    {
      "cell_type": "code",
      "source": [
        "mse(calculated_nearest_cpu_ver2, calculated_nearest_gpu)"
      ],
      "metadata": {
        "colab": {
          "base_uri": "https://localhost:8080/"
        },
        "outputId": "ce6758f6-cde4-4906-b8fe-71f35af58ef7",
        "id": "9dkIbVWeTaau"
      },
      "execution_count": 105,
      "outputs": [
        {
          "output_type": "execute_result",
          "data": {
            "text/plain": [
              "0.0"
            ]
          },
          "metadata": {},
          "execution_count": 105
        }
      ]
    }
  ]
}