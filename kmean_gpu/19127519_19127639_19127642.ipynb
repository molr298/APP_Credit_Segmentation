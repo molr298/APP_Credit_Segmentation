{
  "nbformat": 4,
  "nbformat_minor": 0,
  "metadata": {
    "colab": {
      "provenance": [],
      "gpuType": "T4"
    },
    "kernelspec": {
      "name": "python3",
      "display_name": "Python 3"
    },
    "language_info": {
      "name": "python"
    },
    "accelerator": "GPU"
  },
  "cells": [
    {
      "cell_type": "markdown",
      "source": [
        "# Applied Parallel Programming\n",
        "## Project: Parallelize K-means\n"
      ],
      "metadata": {
        "id": "L1q0n7E7DvJc"
      }
    },
    {
      "cell_type": "markdown",
      "source": [
        "| Họ tên | MSSV |\n",
        "|----------|----------|\n",
        "| Võ Nhất Huy | 19127642 |\n",
        "| Phan Vĩ Giai | 19127639 |\n",
        "| Nguyễn Ngọc Phước | 19127519 |\n"
      ],
      "metadata": {
        "id": "vn-GHGsnS_nZ"
      }
    },
    {
      "cell_type": "markdown",
      "source": [
        "# Import lib"
      ],
      "metadata": {
        "id": "9NviTMz16FJi"
      }
    },
    {
      "cell_type": "code",
      "execution_count": 3,
      "metadata": {
        "id": "HXb5JRxf5MhT"
      },
      "outputs": [],
      "source": [
        "import math\n",
        "\n",
        "import pandas as pd\n",
        "import numpy as np\n",
        "from numba import cuda, void, float64, int32, jit, njit\n",
        "import numba as nb\n",
        "import time\n",
        "import copy"
      ]
    },
    {
      "cell_type": "markdown",
      "source": [
        "# Preprocess (temp)"
      ],
      "metadata": {
        "id": "mytDIqPH6Ic3"
      }
    },
    {
      "cell_type": "code",
      "source": [
        "df = pd.read_csv('data/CC GENERAL.csv')\n",
        "\n",
        "df['MINIMUM_PAYMENTS'] = df['MINIMUM_PAYMENTS'].fillna(df['MINIMUM_PAYMENTS'].median())\n",
        "df['CREDIT_LIMIT'] = df['CREDIT_LIMIT'].fillna(df['CREDIT_LIMIT'].mean())\n",
        "\n",
        "df = df.drop('CUST_ID', axis=1)\n",
        "np_data = df.to_numpy()"
      ],
      "metadata": {
        "id": "NXiEpD1J5OD1"
      },
      "execution_count": 4,
      "outputs": []
    },
    {
      "cell_type": "markdown",
      "source": [
        "# MSE"
      ],
      "metadata": {
        "id": "22rZB3tD9_L6"
      }
    },
    {
      "cell_type": "code",
      "source": [
        "def mse(result_1, result_2):\n",
        "  return (np.square(result_1 - result_2)).mean()"
      ],
      "metadata": {
        "id": "siNPC2wO9-cO"
      },
      "execution_count": 5,
      "outputs": []
    },
    {
      "cell_type": "markdown",
      "source": [
        "# Init k and centroids"
      ],
      "metadata": {
        "id": "ouWmrkT-6LNO"
      }
    },
    {
      "cell_type": "code",
      "source": [
        "k = 20\n",
        "centroid = np_data[np.random.randint(np_data.shape[0], size=k), :]"
      ],
      "metadata": {
        "id": "t_rnEu656OfL"
      },
      "execution_count": 6,
      "outputs": []
    },
    {
      "cell_type": "code",
      "source": [],
      "metadata": {
        "id": "u08Xa4hISHAg"
      },
      "execution_count": 6,
      "outputs": []
    },
    {
      "cell_type": "markdown",
      "source": [
        "# Distance"
      ],
      "metadata": {
        "id": "uhxhawZC6T2-"
      }
    },
    {
      "cell_type": "markdown",
      "source": [
        "## CPU"
      ],
      "metadata": {
        "id": "vAKG2FKN6a3F"
      }
    },
    {
      "cell_type": "code",
      "source": [
        "def calc_distance_cpu(data, data_centroid):\n",
        "    dist = np.zeros((data.shape[0], data_centroid.shape[0]))\n",
        "    for i in range(data.shape[0]):\n",
        "        for j in range(data_centroid.shape[0]):\n",
        "            dist[i][j] = np.linalg.norm(data[i] - data_centroid[j])\n",
        "    return dist"
      ],
      "metadata": {
        "id": "bRmJbmAo6cOa"
      },
      "execution_count": 7,
      "outputs": []
    },
    {
      "cell_type": "markdown",
      "source": [
        "## GPU"
      ],
      "metadata": {
        "id": "fNRUvl_j6nuv"
      }
    },
    {
      "cell_type": "markdown",
      "source": [
        "### Preparation"
      ],
      "metadata": {
        "id": "c0dWOv2o6ycY"
      }
    },
    {
      "cell_type": "markdown",
      "source": [
        "Calculate thread per block and block per grid"
      ],
      "metadata": {
        "id": "q_BNpD2f7Lvb"
      }
    },
    {
      "cell_type": "code",
      "source": [
        "def calc_dimension_for_distance(data, data_centroid):\n",
        "    def next_power_of_2(x):\n",
        "      return 1 << (x - 1).bit_length()\n",
        "    real_dim_x = data_centroid.shape[0]\n",
        "    dim_x = next_power_of_2(real_dim_x)\n",
        "    dim_y = dim_x\n",
        "    thread_per_blocks = (dim_x, dim_y)\n",
        "    blocks_per_grid_x = 1\n",
        "    blocks_per_grid_y = math.ceil(data.shape[0] / thread_per_blocks[0])\n",
        "    blocks_per_grid = (blocks_per_grid_x, blocks_per_grid_y)\n",
        "    return thread_per_blocks, blocks_per_grid"
      ],
      "metadata": {
        "id": "b-PDMNCZ7FCy"
      },
      "execution_count": 8,
      "outputs": []
    },
    {
      "cell_type": "code",
      "source": [
        "dist_tpb, dist_bpg = calc_dimension_for_distance(np_data, centroid)"
      ],
      "metadata": {
        "id": "sO2agFLT7K4I"
      },
      "execution_count": 9,
      "outputs": []
    },
    {
      "cell_type": "markdown",
      "source": [
        "Copy data to device"
      ],
      "metadata": {
        "id": "rfj9Cgtt697q"
      }
    },
    {
      "cell_type": "code",
      "source": [
        "np_data_device = cuda.to_device(np_data)"
      ],
      "metadata": {
        "id": "0_3DwCOR6rk0"
      },
      "execution_count": 10,
      "outputs": []
    },
    {
      "cell_type": "markdown",
      "source": [
        "### GPU distance"
      ],
      "metadata": {
        "id": "YpBtpPZX7bnw"
      }
    },
    {
      "cell_type": "markdown",
      "source": [
        "Ver 1"
      ],
      "metadata": {
        "id": "dWmOnHXv7t3s"
      }
    },
    {
      "cell_type": "code",
      "source": [
        "@cuda.jit(void(nb.types.Array(dtype=float64, ndim=2, layout=\"F\"), nb.types.Array(dtype=float64, ndim=2, layout=\"C\"), nb.types.Array(dtype=float64, ndim=2, layout=\"C\")))\n",
        "def calc_distance_kernel_ver1(data, data_centroid, result):\n",
        "    r = cuda.blockIdx.y * cuda.blockDim.y + cuda.threadIdx.y\n",
        "    c = cuda.blockIdx.x * cuda.blockDim.x + cuda.threadIdx.x\n",
        "    if r < data.shape[0] and c < data_centroid.shape[0]:\n",
        "        total = 0\n",
        "        for i in range(data_centroid.shape[1]):\n",
        "            total += math.pow(data[r][i] - data_centroid[c][i], 2)\n",
        "        result[r, c] = math.sqrt(total)"
      ],
      "metadata": {
        "id": "PQoyzqVF7tFU"
      },
      "execution_count": 11,
      "outputs": []
    },
    {
      "cell_type": "code",
      "source": [
        "def calc_distance_gpu_ver1(data, data_centroid):\n",
        "    result = np.zeros((data.shape[0], data_centroid.shape[0]))\n",
        "    # data_device = cuda.to_device(data) # old version\n",
        "    data_device = data\n",
        "    centroid_device = cuda.to_device(data_centroid)\n",
        "    result_device = cuda.to_device(result)\n",
        "\n",
        "    # invoke kernel\n",
        "    calc_distance_kernel_ver1[dist_bpg, dist_tpb](data_device, centroid_device, result_device)\n",
        "    result = result_device.copy_to_host()\n",
        "    return result"
      ],
      "metadata": {
        "id": "wUyoypOG6oyk"
      },
      "execution_count": 12,
      "outputs": []
    },
    {
      "cell_type": "markdown",
      "source": [
        "Ver 2 (use share memory)"
      ],
      "metadata": {
        "id": "IhLIj3-v_OW9"
      }
    },
    {
      "cell_type": "code",
      "source": [
        "shared_data_shape_0 = dist_tpb[0]\n",
        "shared_data_shape_1 = np_data.shape[1]"
      ],
      "metadata": {
        "id": "_TDACCMelzxm"
      },
      "execution_count": 13,
      "outputs": []
    },
    {
      "cell_type": "code",
      "source": [
        "(shared_data_shape_0, shared_data_shape_1)"
      ],
      "metadata": {
        "colab": {
          "base_uri": "https://localhost:8080/"
        },
        "id": "MmdNHcX7mPiE",
        "outputId": "885b89cf-36fe-4fa8-b6a7-16217f68e277"
      },
      "execution_count": 14,
      "outputs": [
        {
          "output_type": "execute_result",
          "data": {
            "text/plain": [
              "(32, 17)"
            ]
          },
          "metadata": {},
          "execution_count": 14
        }
      ]
    },
    {
      "cell_type": "code",
      "source": [
        "shared_centroid_shape_0 = centroid.shape[0]\n",
        "shared_centroid_shape_1 = centroid.shape[1]"
      ],
      "metadata": {
        "id": "q7XRiadpmZnl"
      },
      "execution_count": 15,
      "outputs": []
    },
    {
      "cell_type": "code",
      "source": [
        "(shared_centroid_shape_0, shared_centroid_shape_1)"
      ],
      "metadata": {
        "colab": {
          "base_uri": "https://localhost:8080/"
        },
        "id": "p2rM65CImhpr",
        "outputId": "70beb25e-d344-49ab-eb24-0324133b8857"
      },
      "execution_count": 16,
      "outputs": [
        {
          "output_type": "execute_result",
          "data": {
            "text/plain": [
              "(20, 17)"
            ]
          },
          "metadata": {},
          "execution_count": 16
        }
      ]
    },
    {
      "cell_type": "code",
      "source": [
        "@cuda.jit(void(nb.types.Array(dtype=float64, ndim=2, layout=\"F\"), nb.types.Array(dtype=float64, ndim=2, layout=\"C\"), nb.types.Array(dtype=float64, ndim=2, layout=\"C\")))\n",
        "def calc_distance_kernel_ver2(data, data_centroid, result):\n",
        "\n",
        "    shared_centroid = cuda.shared.array(shape=(shared_centroid_shape_0, shared_centroid_shape_1), dtype=float64)\n",
        "    shared_data = cuda.shared.array(shape=(shared_data_shape_0, shared_data_shape_1), dtype=float64)\n",
        "\n",
        "    r = cuda.blockIdx.y * cuda.blockDim.y + cuda.threadIdx.y\n",
        "    c = cuda.blockIdx.x * cuda.blockDim.x + cuda.threadIdx.x\n",
        "\n",
        "    if(cuda.threadIdx.y == 0 and cuda.threadIdx.x < data_centroid.shape[0]):\n",
        "      for i in range(data_centroid.shape[1]):\n",
        "        shared_centroid[cuda.threadIdx.x, i] = data_centroid[c, i]\n",
        "\n",
        "    if(cuda.threadIdx.x == 0 and cuda.threadIdx.y < data.shape[0]):\n",
        "      for i in range(data.shape[1]):\n",
        "        shared_data[cuda.threadIdx.y, i] = data[r, i]\n",
        "\n",
        "    cuda.syncthreads()\n",
        "\n",
        "\n",
        "    if r < data.shape[0] and c < data_centroid.shape[0]:\n",
        "      total = 0\n",
        "      for i in range(shared_centroid.shape[1]):\n",
        "          total += math.pow(shared_data[cuda.threadIdx.y][i] - shared_centroid[cuda.threadIdx.x][i], 2)\n",
        "      result[r, c] = math.sqrt(total)"
      ],
      "metadata": {
        "id": "L8aOQo8D_M5G"
      },
      "execution_count": 17,
      "outputs": []
    },
    {
      "cell_type": "code",
      "source": [
        "def calc_distance_gpu_ver2(data, data_centroid):\n",
        "    result = np.zeros((data.shape[0], data_centroid.shape[0]))\n",
        "    # data_device = cuda.to_device(data) # old version\n",
        "    data_device = data\n",
        "    centroid_device = cuda.to_device(data_centroid)\n",
        "    result_device = cuda.to_device(result)\n",
        "\n",
        "    # invoke kernel\n",
        "    calc_distance_kernel_ver2[dist_bpg, dist_tpb](data_device, centroid_device, result_device)\n",
        "    result = result_device.copy_to_host()\n",
        "    return result"
      ],
      "metadata": {
        "id": "W9sSow5b_Qk_"
      },
      "execution_count": 18,
      "outputs": []
    },
    {
      "cell_type": "markdown",
      "source": [
        "## Compare GPU and CPU distance"
      ],
      "metadata": {
        "id": "qyvR3KrE8IeY"
      }
    },
    {
      "cell_type": "markdown",
      "source": [
        "GPU_VER1"
      ],
      "metadata": {
        "id": "q7h5fSkj_fs0"
      }
    },
    {
      "cell_type": "code",
      "source": [
        "dist_v1_gpu_time_start = time.perf_counter()\n",
        "calculated_dist_gpu_ver1 = calc_distance_gpu_ver1(np_data_device, centroid)\n",
        "dist_v1_gpu_time_end = time.perf_counter()"
      ],
      "metadata": {
        "id": "j_nKQcMu85ly"
      },
      "execution_count": 19,
      "outputs": []
    },
    {
      "cell_type": "code",
      "source": [
        "dist_v1_gpu_time_end - dist_v1_gpu_time_start"
      ],
      "metadata": {
        "colab": {
          "base_uri": "https://localhost:8080/"
        },
        "id": "zJdgTlWU9QhZ",
        "outputId": "4d631b5f-4b54-49e4-b6df-0d2dd373f7df"
      },
      "execution_count": 20,
      "outputs": [
        {
          "output_type": "execute_result",
          "data": {
            "text/plain": [
              "0.01422590099991794"
            ]
          },
          "metadata": {},
          "execution_count": 20
        }
      ]
    },
    {
      "cell_type": "markdown",
      "source": [
        "GPU_VER2"
      ],
      "metadata": {
        "id": "cStxUgL6_yb1"
      }
    },
    {
      "cell_type": "code",
      "source": [
        "dist_v2_gpu_time_start = time.perf_counter()\n",
        "calculated_dist_gpu_ver2 = calc_distance_gpu_ver2(np_data_device, centroid)\n",
        "dist_v2_gpu_time_end = time.perf_counter()"
      ],
      "metadata": {
        "id": "whZJisxS_4Jj"
      },
      "execution_count": 21,
      "outputs": []
    },
    {
      "cell_type": "code",
      "source": [
        "dist_v2_gpu_time_end - dist_v2_gpu_time_start"
      ],
      "metadata": {
        "colab": {
          "base_uri": "https://localhost:8080/"
        },
        "id": "agg8_GLo_5Ow",
        "outputId": "20685409-6cbe-45cc-8747-ddad10f00657"
      },
      "execution_count": 22,
      "outputs": [
        {
          "output_type": "execute_result",
          "data": {
            "text/plain": [
              "0.014658077000149206"
            ]
          },
          "metadata": {},
          "execution_count": 22
        }
      ]
    },
    {
      "cell_type": "markdown",
      "source": [
        "CPU"
      ],
      "metadata": {
        "id": "k6AqmtLM_kBB"
      }
    },
    {
      "cell_type": "code",
      "source": [
        "dist_cpu_time_start = time.perf_counter()\n",
        "calculated_dist_cpu = calc_distance_cpu(np_data, centroid)\n",
        "dist_cpu_time_end = time.perf_counter()"
      ],
      "metadata": {
        "id": "TiLguSJY9B9e"
      },
      "execution_count": 23,
      "outputs": []
    },
    {
      "cell_type": "code",
      "source": [
        "dist_cpu_time_end - dist_cpu_time_start"
      ],
      "metadata": {
        "colab": {
          "base_uri": "https://localhost:8080/"
        },
        "id": "aMJW7xaU9cxT",
        "outputId": "fb163e6c-7769-4a4e-fc6b-7583e714e610"
      },
      "execution_count": 24,
      "outputs": [
        {
          "output_type": "execute_result",
          "data": {
            "text/plain": [
              "0.809712524999668"
            ]
          },
          "metadata": {},
          "execution_count": 24
        }
      ]
    },
    {
      "cell_type": "markdown",
      "source": [
        "MSE CPU and GPU_VER1"
      ],
      "metadata": {
        "id": "dq5b6Lcl_lga"
      }
    },
    {
      "cell_type": "code",
      "source": [
        "mse(calculated_dist_cpu, calculated_dist_gpu_ver1)"
      ],
      "metadata": {
        "colab": {
          "base_uri": "https://localhost:8080/"
        },
        "id": "hESlpn1J94AJ",
        "outputId": "31765385-eb83-4a3f-eadf-859936e303fe"
      },
      "execution_count": 25,
      "outputs": [
        {
          "output_type": "execute_result",
          "data": {
            "text/plain": [
              "1.1262358763279552e-24"
            ]
          },
          "metadata": {},
          "execution_count": 25
        }
      ]
    },
    {
      "cell_type": "markdown",
      "source": [
        "MSE CPU and GPU_VER2"
      ],
      "metadata": {
        "id": "kQemS1_R__1L"
      }
    },
    {
      "cell_type": "code",
      "source": [
        "mse(calculated_dist_cpu, calculated_dist_gpu_ver2)"
      ],
      "metadata": {
        "colab": {
          "base_uri": "https://localhost:8080/"
        },
        "id": "zcoPYj_WACBJ",
        "outputId": "21c5a170-f3a2-4d0a-abce-a1594b403f3d"
      },
      "execution_count": 26,
      "outputs": [
        {
          "output_type": "execute_result",
          "data": {
            "text/plain": [
              "1.1262358763279552e-24"
            ]
          },
          "metadata": {},
          "execution_count": 26
        }
      ]
    },
    {
      "cell_type": "markdown",
      "source": [
        "# Nearest centroid"
      ],
      "metadata": {
        "id": "xj5NLstPCyum"
      }
    },
    {
      "cell_type": "code",
      "source": [
        "calculated_dist_cpu = calc_distance_cpu(np_data, centroid)"
      ],
      "metadata": {
        "id": "-5fUtT7BDe0Q"
      },
      "execution_count": 27,
      "outputs": []
    },
    {
      "cell_type": "markdown",
      "source": [
        "## CPU"
      ],
      "metadata": {
        "id": "-ZNMEVKgC_mi"
      }
    },
    {
      "cell_type": "markdown",
      "source": [
        "Ver 1 using numpy"
      ],
      "metadata": {
        "id": "A944TieQSdph"
      }
    },
    {
      "cell_type": "code",
      "source": [
        "def get_nearest_centroid_cpu_ver1(distance):\n",
        "    return np.argmin(distance, axis=1)"
      ],
      "metadata": {
        "id": "SRjlxx3cC_PG"
      },
      "execution_count": 28,
      "outputs": []
    },
    {
      "cell_type": "markdown",
      "source": [
        "Ver 2"
      ],
      "metadata": {
        "id": "Ri_j3PXXSf4F"
      }
    },
    {
      "cell_type": "code",
      "source": [
        "def get_nearest_centroid_cpu_ver2(distance):\n",
        "    num_samples, num_centroids = distance.shape\n",
        "    nearest_centroid = np.zeros(num_samples, dtype=np.int32)\n",
        "\n",
        "    for i in range(num_samples):\n",
        "        min_dist = distance[i, 0]\n",
        "        min_idx = 0\n",
        "        for j in range(1, num_centroids):\n",
        "            if distance[i, j] < min_dist:\n",
        "                min_dist = distance[i, j]\n",
        "                min_idx = j\n",
        "        nearest_centroid[i] = min_idx\n",
        "\n",
        "    return nearest_centroid"
      ],
      "metadata": {
        "id": "UoCxFJOvSaoQ"
      },
      "execution_count": 29,
      "outputs": []
    },
    {
      "cell_type": "markdown",
      "source": [
        "## GPU"
      ],
      "metadata": {
        "id": "2J9ge1w3DKQE"
      }
    },
    {
      "cell_type": "markdown",
      "source": [
        "### Preparation"
      ],
      "metadata": {
        "id": "ttl_2zWOD9-f"
      }
    },
    {
      "cell_type": "code",
      "source": [
        "def calc_dimension_for_nearest_centroid(distance):\n",
        "    block_size = 64\n",
        "    grid_size = (distance.shape[0] + block_size - 1) // block_size\n",
        "    return block_size, grid_size"
      ],
      "metadata": {
        "id": "-MKAgfqCEAZU"
      },
      "execution_count": 30,
      "outputs": []
    },
    {
      "cell_type": "code",
      "source": [
        "nearest_tpb, nearest_bpg = calc_dimension_for_nearest_centroid(calculated_dist_cpu)"
      ],
      "metadata": {
        "id": "OBz6-JMXEYFq"
      },
      "execution_count": 31,
      "outputs": []
    },
    {
      "cell_type": "markdown",
      "source": [
        "### GPU nearest centroids"
      ],
      "metadata": {
        "id": "imiEXmU1FEnZ"
      }
    },
    {
      "cell_type": "code",
      "source": [
        "@cuda.jit(void(nb.types.Array(dtype=float64, ndim=2, layout=\"C\"), nb.types.Array(dtype=int32, ndim=1, layout=\"C\")))\n",
        "def find_min_distance_kernel(distance, nearest_centroid):\n",
        "  r = cuda.blockIdx.x * cuda.blockDim.x + cuda.threadIdx.x\n",
        "  shape = distance.shape\n",
        "  if r < shape[0]:\n",
        "    data = distance[r]\n",
        "    min_distance = data[0]\n",
        "    min_idx = 0\n",
        "    for c in range(1, shape[1]):\n",
        "        current_value = data[c]\n",
        "        if current_value < min_distance:\n",
        "            min_distance = current_value\n",
        "            min_idx = c\n",
        "    nearest_centroid[r] = min_idx"
      ],
      "metadata": {
        "id": "2Yc9V2w8FIg0"
      },
      "execution_count": 32,
      "outputs": []
    },
    {
      "cell_type": "code",
      "source": [
        "def get_nearest_centroid_gpu(distance):  # Using GPU\n",
        "    nearest_centroid = np.zeros(distance.shape[0], dtype=np.int32)\n",
        "    distance_device = cuda.to_device(distance)\n",
        "    nearest_centroid_device = cuda.to_device(nearest_centroid)\n",
        "    find_min_distance_kernel[nearest_bpg, nearest_tpb](distance_device, nearest_centroid_device)\n",
        "\n",
        "    resolved_nearest_centroid = nearest_centroid_device.copy_to_host()\n",
        "    return resolved_nearest_centroid"
      ],
      "metadata": {
        "id": "k7XXa2M5F4tZ"
      },
      "execution_count": 33,
      "outputs": []
    },
    {
      "cell_type": "markdown",
      "source": [
        "## Comapre GPU and CPU"
      ],
      "metadata": {
        "id": "DfO6j_eHGTeW"
      }
    },
    {
      "cell_type": "markdown",
      "source": [
        "GPU"
      ],
      "metadata": {
        "id": "F-lqBkAyHGfv"
      }
    },
    {
      "cell_type": "code",
      "source": [
        "nearest_gpu_time_start = time.perf_counter()\n",
        "calculated_nearest_gpu = get_nearest_centroid_gpu(calculated_dist_cpu)\n",
        "nearest_gpu_time_end = time.perf_counter()"
      ],
      "metadata": {
        "id": "io_uq_LXG_lk"
      },
      "execution_count": 34,
      "outputs": []
    },
    {
      "cell_type": "code",
      "source": [
        "nearest_gpu_time_end - nearest_gpu_time_start"
      ],
      "metadata": {
        "colab": {
          "base_uri": "https://localhost:8080/"
        },
        "outputId": "c7f37da1-e70c-4f5f-b3a2-2eee90d6289d",
        "id": "khXyFfhOG_lk"
      },
      "execution_count": 35,
      "outputs": [
        {
          "output_type": "execute_result",
          "data": {
            "text/plain": [
              "0.005132002000209468"
            ]
          },
          "metadata": {},
          "execution_count": 35
        }
      ]
    },
    {
      "cell_type": "markdown",
      "source": [
        "CPU"
      ],
      "metadata": {
        "id": "3q_5iNqZG_lk"
      }
    },
    {
      "cell_type": "markdown",
      "source": [
        "Ver 1"
      ],
      "metadata": {
        "id": "OljVq67dS8IN"
      }
    },
    {
      "cell_type": "code",
      "source": [
        "nearest_cpu_ver1_time_start = time.perf_counter()\n",
        "calculated_nearest_cpu_ver1 = get_nearest_centroid_cpu_ver1(calculated_dist_cpu)\n",
        "nearest_cpu_ver1_time_end = time.perf_counter()"
      ],
      "metadata": {
        "id": "-PvYhnqiG_lk"
      },
      "execution_count": 36,
      "outputs": []
    },
    {
      "cell_type": "code",
      "source": [
        "nearest_cpu_ver1_time_end - nearest_cpu_ver1_time_start"
      ],
      "metadata": {
        "colab": {
          "base_uri": "https://localhost:8080/"
        },
        "outputId": "139c1454-32f1-4089-8463-13609fe32852",
        "id": "qXZLQNzfG_ll"
      },
      "execution_count": 37,
      "outputs": [
        {
          "output_type": "execute_result",
          "data": {
            "text/plain": [
              "0.002971857999909844"
            ]
          },
          "metadata": {},
          "execution_count": 37
        }
      ]
    },
    {
      "cell_type": "markdown",
      "source": [
        "Ver 2"
      ],
      "metadata": {
        "id": "N6dj6KnyS9bI"
      }
    },
    {
      "cell_type": "code",
      "source": [
        "nearest_cpu_ver2_time_start = time.perf_counter()\n",
        "calculated_nearest_cpu_ver2 = get_nearest_centroid_cpu_ver2(calculated_dist_cpu)\n",
        "nearest_cpu_ver2_time_end = time.perf_counter()"
      ],
      "metadata": {
        "id": "63yxAX9RTH9s"
      },
      "execution_count": 38,
      "outputs": []
    },
    {
      "cell_type": "code",
      "source": [
        "nearest_cpu_ver2_time_end - nearest_cpu_ver2_time_start"
      ],
      "metadata": {
        "colab": {
          "base_uri": "https://localhost:8080/"
        },
        "id": "sgbeqHIsTNMc",
        "outputId": "b1e3fd02-beed-4edb-8e67-37bd088fa6c6"
      },
      "execution_count": 39,
      "outputs": [
        {
          "output_type": "execute_result",
          "data": {
            "text/plain": [
              "0.044832120000137365"
            ]
          },
          "metadata": {},
          "execution_count": 39
        }
      ]
    },
    {
      "cell_type": "markdown",
      "source": [
        "MSE CPU Ver 1 and GPU"
      ],
      "metadata": {
        "id": "pE35uNj1G_ll"
      }
    },
    {
      "cell_type": "code",
      "source": [
        "mse(calculated_nearest_cpu_ver1, calculated_nearest_gpu)"
      ],
      "metadata": {
        "colab": {
          "base_uri": "https://localhost:8080/"
        },
        "outputId": "68d93061-37a9-4e14-f40c-dda068d1df96",
        "id": "v1yD8rwAG_ll"
      },
      "execution_count": 40,
      "outputs": [
        {
          "output_type": "execute_result",
          "data": {
            "text/plain": [
              "0.0"
            ]
          },
          "metadata": {},
          "execution_count": 40
        }
      ]
    },
    {
      "cell_type": "markdown",
      "source": [
        "MSE CPU Ver 2 and GPU"
      ],
      "metadata": {
        "id": "aoJcWl13Taat"
      }
    },
    {
      "cell_type": "code",
      "source": [
        "mse(calculated_nearest_cpu_ver2, calculated_nearest_gpu)"
      ],
      "metadata": {
        "colab": {
          "base_uri": "https://localhost:8080/"
        },
        "outputId": "5283372c-2334-4767-98d8-10b38506e7c3",
        "id": "9dkIbVWeTaau"
      },
      "execution_count": 41,
      "outputs": [
        {
          "output_type": "execute_result",
          "data": {
            "text/plain": [
              "0.0"
            ]
          },
          "metadata": {},
          "execution_count": 41
        }
      ]
    },
    {
      "cell_type": "markdown",
      "source": [
        "# KMEAN"
      ],
      "metadata": {
        "id": "QJspDnK1ICEQ"
      }
    },
    {
      "cell_type": "code",
      "source": [
        "def get_new_centroids(data, data_nearest_centroid, number_of_centroid):\n",
        "    result_centroids = np.zeros((number_of_centroid, data.shape[1]))\n",
        "    for i in range(number_of_centroid):\n",
        "        result_centroids[i] = data[np.where(data_nearest_centroid == i)].mean(axis=0)\n",
        "    return result_centroids"
      ],
      "metadata": {
        "id": "5Y4joO66JAWZ"
      },
      "execution_count": 42,
      "outputs": []
    },
    {
      "cell_type": "markdown",
      "source": [
        "## CPU"
      ],
      "metadata": {
        "id": "Uj4RpH_MIICf"
      }
    },
    {
      "cell_type": "code",
      "source": [
        "def kmean_cpu(data, initial_centroid):\n",
        "    centroid_cpu = copy.deepcopy(initial_centroid)\n",
        "    has_changed_centroid = True\n",
        "    while has_changed_centroid:\n",
        "        calculated_dist = calc_distance_cpu(data, centroid_cpu)  # calculated dist\n",
        "        nearest_centroid = get_nearest_centroid_cpu_ver1(calculated_dist)  # assigned to centroid\n",
        "        new_centroid = get_new_centroids(data, nearest_centroid, k)\n",
        "        if np.all(new_centroid == centroid_cpu):\n",
        "            has_changed_centroid = False\n",
        "        else:\n",
        "            centroid_cpu = new_centroid\n",
        "    return centroid_cpu"
      ],
      "metadata": {
        "id": "gQPr5crzIenw"
      },
      "execution_count": 43,
      "outputs": []
    },
    {
      "cell_type": "markdown",
      "source": [
        "## GPU"
      ],
      "metadata": {
        "id": "vvN9bwRjJT3r"
      }
    },
    {
      "cell_type": "code",
      "source": [
        "def kmean_gpu_v1(data, data_device, initial_centroid):\n",
        "    centroid_gpu = copy.deepcopy(initial_centroid)\n",
        "    has_changed_centroid = True\n",
        "    while has_changed_centroid:\n",
        "        calculated_dist = calc_distance_gpu_ver1(data_device, centroid_gpu)  # calculated dist\n",
        "        nearest_centroid = get_nearest_centroid_gpu(calculated_dist)  # assigned to centroid\n",
        "        new_centroid = get_new_centroids(data, nearest_centroid, k)\n",
        "        if np.all(new_centroid == centroid_gpu):\n",
        "            has_changed_centroid = False\n",
        "        else:\n",
        "            centroid_gpu = new_centroid\n",
        "    return centroid_gpu"
      ],
      "metadata": {
        "id": "v12cCj3Ih8JW"
      },
      "execution_count": 44,
      "outputs": []
    },
    {
      "cell_type": "code",
      "source": [
        "def kmean_gpu(data, data_device, initial_centroid):\n",
        "    centroid_gpu = copy.deepcopy(initial_centroid)\n",
        "    has_changed_centroid = True\n",
        "    while has_changed_centroid:\n",
        "        calculated_dist = calc_distance_gpu_ver2(data_device, centroid_gpu)  # calculated dist\n",
        "        nearest_centroid = get_nearest_centroid_gpu(calculated_dist)  # assigned to centroid\n",
        "        new_centroid = get_new_centroids(data, nearest_centroid, k)\n",
        "        if np.all(new_centroid == centroid_gpu):\n",
        "            has_changed_centroid = False\n",
        "        else:\n",
        "            centroid_gpu = new_centroid\n",
        "    return centroid_gpu"
      ],
      "metadata": {
        "id": "-Whomt-rJYws"
      },
      "execution_count": 45,
      "outputs": []
    },
    {
      "cell_type": "markdown",
      "source": [
        "## Compare CPU vs GPU"
      ],
      "metadata": {
        "id": "CUT2KCOCKD7M"
      }
    },
    {
      "cell_type": "markdown",
      "source": [
        "### RUN CPU"
      ],
      "metadata": {
        "id": "cjCjIBD7KgZy"
      }
    },
    {
      "cell_type": "code",
      "source": [
        "kmean_cpu_start = time.perf_counter()\n",
        "kmean_cpu_result = kmean_cpu(np_data, centroid)\n",
        "kmean_cpu_end = time.perf_counter()"
      ],
      "metadata": {
        "id": "thuz6s5YKHrf"
      },
      "execution_count": 46,
      "outputs": []
    },
    {
      "cell_type": "code",
      "source": [
        "kmean_cpu_end - kmean_cpu_start"
      ],
      "metadata": {
        "colab": {
          "base_uri": "https://localhost:8080/"
        },
        "id": "_m4wodqYKZmR",
        "outputId": "01cb8655-73c2-42d3-9005-b4a952410fcb"
      },
      "execution_count": 47,
      "outputs": [
        {
          "output_type": "execute_result",
          "data": {
            "text/plain": [
              "56.2862761790002"
            ]
          },
          "metadata": {},
          "execution_count": 47
        }
      ]
    },
    {
      "cell_type": "code",
      "source": [
        "def CPU_runtime(data, centroid):\n",
        "  kmean_cpu_start = time.perf_counter()\n",
        "  kmean_cpu_result = kmean_cpu(data, centroid)\n",
        "  kmean_cpu_end = time.perf_counter()\n",
        "  return kmean_cpu_end - kmean_cpu_start"
      ],
      "metadata": {
        "id": "V1mYghXEY2-J"
      },
      "execution_count": 48,
      "outputs": []
    },
    {
      "cell_type": "markdown",
      "source": [
        "### RUN GPU"
      ],
      "metadata": {
        "id": "BzALjP8eKjSl"
      }
    },
    {
      "cell_type": "code",
      "source": [
        "kmean_gpu_start = time.perf_counter()\n",
        "kmean_gpu_result = kmean_gpu(np_data, np_data_device, centroid)\n",
        "kmean_gpu_end = time.perf_counter()"
      ],
      "metadata": {
        "id": "T1N340pwKp4d"
      },
      "execution_count": 49,
      "outputs": []
    },
    {
      "cell_type": "code",
      "source": [
        "kmean_gpu_end - kmean_gpu_start"
      ],
      "metadata": {
        "colab": {
          "base_uri": "https://localhost:8080/"
        },
        "id": "TCxqdXKCKunh",
        "outputId": "ea5c53fa-f9e0-4701-c8f7-c79c90e3b13c"
      },
      "execution_count": 50,
      "outputs": [
        {
          "output_type": "execute_result",
          "data": {
            "text/plain": [
              "0.7040964279999571"
            ]
          },
          "metadata": {},
          "execution_count": 50
        }
      ]
    },
    {
      "cell_type": "code",
      "source": [
        "def GPU_runtime(data, centroid):\n",
        "  kmean_gpu_start = time.perf_counter()\n",
        "  kmean_gpu_result = kmean_gpu(data, centroid)\n",
        "  kmean_gpu_end = time.perf_counter()\n",
        "  return kmean_gpu_end - kmean_gpu_start"
      ],
      "metadata": {
        "id": "OumRCAjlR4rp"
      },
      "execution_count": 51,
      "outputs": []
    },
    {
      "cell_type": "markdown",
      "source": [
        "### Compare"
      ],
      "metadata": {
        "id": "1uaxOBDgs6ay"
      }
    },
    {
      "cell_type": "code",
      "source": [
        "mse(kmean_cpu_result, kmean_gpu_result)"
      ],
      "metadata": {
        "colab": {
          "base_uri": "https://localhost:8080/"
        },
        "id": "klfQXK21s9kA",
        "outputId": "4d83fef5-b9df-40f5-99af-ecc969cedeff"
      },
      "execution_count": 52,
      "outputs": [
        {
          "output_type": "execute_result",
          "data": {
            "text/plain": [
              "0.0"
            ]
          },
          "metadata": {},
          "execution_count": 52
        }
      ]
    },
    {
      "cell_type": "markdown",
      "source": [
        "# Visualization"
      ],
      "metadata": {
        "id": "gU4r7RrpFCEH"
      }
    },
    {
      "cell_type": "code",
      "source": [
        "import seaborn as sns\n",
        "import matplotlib.pyplot as plt\n",
        "\n",
        "def plot_line_chart(x, y_arr, y_name, x_label, y_label, title):\n",
        "    sns.set(style=\"whitegrid\")\n",
        "    plt.figure(figsize=(10, 6))\n",
        "\n",
        "    for i in range(len(y_arr)):\n",
        "      plt.plot(x, y_arr[i], label=y_name[i])\n",
        "\n",
        "    plt.xlabel(x_label)\n",
        "    plt.ylabel(y_label)\n",
        "    plt.title(title)\n",
        "    plt.legend()\n",
        "    plt.show()\n",
        "\n",
        "x_values = [1, 2, 3, 4, 5, 6, 7, 8]"
      ],
      "metadata": {
        "id": "iNvrjwn1PrbO"
      },
      "execution_count": 84,
      "outputs": []
    },
    {
      "cell_type": "code",
      "source": [
        "# Split dataset\n",
        "print(np_data.shape)\n"
      ],
      "metadata": {
        "colab": {
          "base_uri": "https://localhost:8080/"
        },
        "id": "2qMuwYQGIfSG",
        "outputId": "7ad755ca-79c1-4efc-aba5-fa6891902041"
      },
      "execution_count": 53,
      "outputs": [
        {
          "output_type": "stream",
          "name": "stdout",
          "text": [
            "(8950, 17)\n"
          ]
        }
      ]
    },
    {
      "cell_type": "code",
      "source": [
        "from sklearn.preprocessing import StandardScaler\n",
        "multiples = range(1, 30, 4)\n",
        "res = []\n",
        "for idx, i in enumerate(multiples):\n",
        "    data = np.tile(df.T, i).T\n",
        "    res.append(data)\n",
        "    print('{0} of {1} complete {2}'.format(idx + 1, len(multiples), data.shape))"
      ],
      "metadata": {
        "colab": {
          "base_uri": "https://localhost:8080/"
        },
        "id": "XIWxUug8XeW0",
        "outputId": "570b13eb-ba03-4ca4-ca07-c15e4c12d227"
      },
      "execution_count": 54,
      "outputs": [
        {
          "output_type": "stream",
          "name": "stdout",
          "text": [
            "1 of 8 complete (8950, 17)\n",
            "2 of 8 complete (44750, 17)\n",
            "3 of 8 complete (80550, 17)\n",
            "4 of 8 complete (116350, 17)\n",
            "5 of 8 complete (152150, 17)\n",
            "6 of 8 complete (187950, 17)\n",
            "7 of 8 complete (223750, 17)\n",
            "8 of 8 complete (259550, 17)\n"
          ]
        }
      ]
    },
    {
      "cell_type": "code",
      "source": [
        "centroids = []\n",
        "device_datas = []\n",
        "for data in res:\n",
        "  data_device = cuda.to_device(copy.deepcopy(data))\n",
        "  device_datas.append(data_device)\n",
        "  k = 20\n",
        "  centroid = data[np.random.randint(data.shape[0], size=k), :]\n",
        "  centroids.append(centroid)"
      ],
      "metadata": {
        "id": "gek-wHDzSdur"
      },
      "execution_count": 55,
      "outputs": []
    },
    {
      "cell_type": "code",
      "source": [
        "def apply_function(func, *args, **kwargs):\n",
        "  time_start = time.perf_counter()\n",
        "  func(*args, **kwargs)\n",
        "  time_end = time.perf_counter()\n",
        "  return time_end - time_start"
      ],
      "metadata": {
        "id": "gP21_h1pUwgb"
      },
      "execution_count": 56,
      "outputs": []
    },
    {
      "cell_type": "markdown",
      "source": [
        "### Calculate Distance"
      ],
      "metadata": {
        "id": "BiprkiyWGs9U"
      }
    },
    {
      "cell_type": "code",
      "source": [
        "# Array runtime of GPU\n",
        "CPU_distance_runtimes = []\n",
        "CPU_distance_result = []\n",
        "for i in range(len(res)):\n",
        "  CPU_distance_runtimes.append(apply_function(calc_distance_cpu, res[i], centroids[i]))\n",
        "  print(CPU_distance_runtimes)"
      ],
      "metadata": {
        "id": "PO2S-3bWHGU2",
        "colab": {
          "base_uri": "https://localhost:8080/"
        },
        "outputId": "1696063c-b784-4136-b197-0bdb00a30ab4"
      },
      "execution_count": 57,
      "outputs": [
        {
          "output_type": "stream",
          "name": "stdout",
          "text": [
            "[0.7812537919999158]\n",
            "[0.7812537919999158, 4.539182557999993]\n",
            "[0.7812537919999158, 4.539182557999993, 9.434683366000172]\n",
            "[0.7812537919999158, 4.539182557999993, 9.434683366000172, 13.795359632999862]\n",
            "[0.7812537919999158, 4.539182557999993, 9.434683366000172, 13.795359632999862, 17.05990962900023]\n",
            "[0.7812537919999158, 4.539182557999993, 9.434683366000172, 13.795359632999862, 17.05990962900023, 21.1093420279999]\n",
            "[0.7812537919999158, 4.539182557999993, 9.434683366000172, 13.795359632999862, 17.05990962900023, 21.1093420279999, 24.729382100000294]\n",
            "[0.7812537919999158, 4.539182557999993, 9.434683366000172, 13.795359632999862, 17.05990962900023, 21.1093420279999, 24.729382100000294, 29.299932937999984]\n"
          ]
        }
      ]
    },
    {
      "cell_type": "code",
      "source": [
        "# Array runtime of GPU\n",
        "GPUv1_distance_runtimes = []\n",
        "GPUv1_distance_result = []\n",
        "for i in range(len(res)):\n",
        "  GPUv1_distance_runtimes.append(apply_function(calc_distance_gpu_ver1, res[i], centroids[i]))\n",
        "  print(GPUv1_distance_runtimes)"
      ],
      "metadata": {
        "id": "v7avlgTtHVUM",
        "colab": {
          "base_uri": "https://localhost:8080/"
        },
        "outputId": "91135d32-a481-4eca-a6c2-d02e74f7bdea"
      },
      "execution_count": 100,
      "outputs": [
        {
          "output_type": "stream",
          "name": "stdout",
          "text": [
            "[0.023735644000225875]\n",
            "[0.023735644000225875, 0.019358634000127495]\n",
            "[0.023735644000225875, 0.019358634000127495, 0.02425163599946245]\n",
            "[0.023735644000225875, 0.019358634000127495, 0.02425163599946245, 0.029635409999173135]\n",
            "[0.023735644000225875, 0.019358634000127495, 0.02425163599946245, 0.029635409999173135, 0.038540915999874414]\n",
            "[0.023735644000225875, 0.019358634000127495, 0.02425163599946245, 0.029635409999173135, 0.038540915999874414, 0.03911441499985813]\n",
            "[0.023735644000225875, 0.019358634000127495, 0.02425163599946245, 0.029635409999173135, 0.038540915999874414, 0.03911441499985813, 0.04830773499998031]\n",
            "[0.023735644000225875, 0.019358634000127495, 0.02425163599946245, 0.029635409999173135, 0.038540915999874414, 0.03911441499985813, 0.04830773499998031, 0.056088690999786195]\n"
          ]
        }
      ]
    },
    {
      "cell_type": "code",
      "source": [
        "# Array runtime of GPU\n",
        "distances_for_min = []\n",
        "GPUv2_distance_runtimes = []\n",
        "GPUv2_distance_result = []\n",
        "for i in range(len(res)):\n",
        "  GPUv2_distance_runtimes.append(apply_function(calc_distance_gpu_ver2, res[i], centroids[i]))\n",
        "  print(GPUv2_distance_runtimes)\n",
        "  distances_for_min.append(calc_distance_gpu_ver2(res[i], centroids[i]))"
      ],
      "metadata": {
        "id": "z7ztMZvbHhKX",
        "colab": {
          "base_uri": "https://localhost:8080/"
        },
        "outputId": "61864ca0-96f7-4aa4-98b2-88d8ad3d35dc"
      },
      "execution_count": 105,
      "outputs": [
        {
          "output_type": "stream",
          "name": "stdout",
          "text": [
            "[0.015566854000098829]\n",
            "[0.015566854000098829, 0.024227707000136434]\n",
            "[0.015566854000098829, 0.024227707000136434, 0.024054081000031147]\n",
            "[0.015566854000098829, 0.024227707000136434, 0.024054081000031147, 0.031870782000623876]\n",
            "[0.015566854000098829, 0.024227707000136434, 0.024054081000031147, 0.031870782000623876, 0.03633473700028844]\n",
            "[0.015566854000098829, 0.024227707000136434, 0.024054081000031147, 0.031870782000623876, 0.03633473700028844, 0.04128673300056107]\n",
            "[0.015566854000098829, 0.024227707000136434, 0.024054081000031147, 0.031870782000623876, 0.03633473700028844, 0.04128673300056107, 0.0463584120006999]\n",
            "[0.015566854000098829, 0.024227707000136434, 0.024054081000031147, 0.031870782000623876, 0.03633473700028844, 0.04128673300056107, 0.0463584120006999, 0.05232940799942298]\n"
          ]
        }
      ]
    },
    {
      "cell_type": "code",
      "source": [
        "y_arr = [CPU_distance_runtimes, GPUv1_distance_runtimes, GPUv2_distance_runtimes]\n",
        "y_name = [\"CPU\", \"GPU_v1\", \"GPU_v2\"]\n",
        "plot_line_chart(x_values, y_arr, y_name, \"Size of dataset (x original dataset)\",  \"time(s)\", \"Line Chart\")"
      ],
      "metadata": {
        "colab": {
          "base_uri": "https://localhost:8080/",
          "height": 573
        },
        "id": "6-IgR8OjPuGR",
        "outputId": "8b8f1f2e-26e5-48df-917f-f7ca3e8fa28a"
      },
      "execution_count": 87,
      "outputs": [
        {
          "output_type": "display_data",
          "data": {
            "text/plain": [
              "<Figure size 1000x600 with 1 Axes>"
            ],
            "image/png": "[encoded data removed]"
          },
          "metadata": {}
        }
      ]
    },
    {
      "cell_type": "code",
      "source": [
        "y_arr = [GPUv1_distance_runtimes, GPUv2_distance_runtimes]\n",
        "y_name = [\"GPU_v1\", \"GPU_v2\"]\n",
        "plot_line_chart(x_values, y_arr, y_name, \"Size of dataset (x original dataset)\",  \"time(s)\", \"Line Chart\")"
      ],
      "metadata": {
        "colab": {
          "base_uri": "https://localhost:8080/",
          "height": 573
        },
        "id": "T_O5qoTLQA3e",
        "outputId": "ffc5b65e-ca2e-4357-ba55-ab77c3e973f6"
      },
      "execution_count": 106,
      "outputs": [
        {
          "output_type": "display_data",
          "data": {
            "text/plain": [
              "<Figure size 1000x600 with 1 Axes>"
            ],
            "image/png": "[encoded data removed]"
          },
          "metadata": {}
        }
      ]
    },
    {
      "cell_type": "markdown",
      "source": [
        "***Nhận xét***\n",
        "- Thời gian của các hàm tính khoảng cách đều tăng theo kích thước của dataset\n",
        "- Thời gian thực thi của GPU sử dụng share memory có cải thiện so với không sử dụng, tuy nhiên kết quả không quá rõ rệt"
      ],
      "metadata": {
        "id": "U3wLBZkBQv6D"
      }
    },
    {
      "cell_type": "markdown",
      "source": [
        "### Find min"
      ],
      "metadata": {
        "id": "xlkZE7h3Gy_C"
      }
    },
    {
      "cell_type": "code",
      "source": [
        "# Array runtime of GPU\n",
        "CPUv1_min_runtimes = []\n",
        "for i in range(len(res)):\n",
        "  CPUv1_min_runtimes.append(apply_function(get_nearest_centroid_cpu_ver1, distances_for_min[i]))\n",
        "  print(CPUv1_min_runtimes)"
      ],
      "metadata": {
        "id": "QuqtjvRzKe6-",
        "colab": {
          "base_uri": "https://localhost:8080/"
        },
        "outputId": "61f4eb1c-a493-45e8-a6bd-29b3ae055430"
      },
      "execution_count": 69,
      "outputs": [
        {
          "output_type": "stream",
          "name": "stdout",
          "text": [
            "[0.0004523220000010042]\n",
            "[0.0004523220000010042, 0.003012322999893513]\n",
            "[0.0004523220000010042, 0.003012322999893513, 0.0027121660000375414]\n",
            "[0.0004523220000010042, 0.003012322999893513, 0.0027121660000375414, 0.004833174999930634]\n",
            "[0.0004523220000010042, 0.003012322999893513, 0.0027121660000375414, 0.004833174999930634, 0.004236606999711512]\n",
            "[0.0004523220000010042, 0.003012322999893513, 0.0027121660000375414, 0.004833174999930634, 0.004236606999711512, 0.004971008000211441]\n",
            "[0.0004523220000010042, 0.003012322999893513, 0.0027121660000375414, 0.004833174999930634, 0.004236606999711512, 0.004971008000211441, 0.0057601450002948695]\n",
            "[0.0004523220000010042, 0.003012322999893513, 0.0027121660000375414, 0.004833174999930634, 0.004236606999711512, 0.004971008000211441, 0.0057601450002948695, 0.00644402700027058]\n"
          ]
        }
      ]
    },
    {
      "cell_type": "code",
      "source": [
        "# Array runtime of GPU\n",
        "CPUv2_min_runtimes = []\n",
        "for i in range(len(res)):\n",
        "  CPUv2_min_runtimes.append(apply_function(get_nearest_centroid_cpu_ver2, distances_for_min[i]))\n",
        "  print(CPUv2_min_runtimes)"
      ],
      "metadata": {
        "colab": {
          "base_uri": "https://localhost:8080/"
        },
        "id": "NSxExaUQNThO",
        "outputId": "cce10f37-9628-4648-e84a-02eef3fe5a47"
      },
      "execution_count": 70,
      "outputs": [
        {
          "output_type": "stream",
          "name": "stdout",
          "text": [
            "[0.04154789600033837]\n",
            "[0.04154789600033837, 0.1614775739999459]\n",
            "[0.04154789600033837, 0.1614775739999459, 0.29889226299974325]\n",
            "[0.04154789600033837, 0.1614775739999459, 0.29889226299974325, 0.43374090499992235]\n",
            "[0.04154789600033837, 0.1614775739999459, 0.29889226299974325, 0.43374090499992235, 0.6018152169999667]\n",
            "[0.04154789600033837, 0.1614775739999459, 0.29889226299974325, 0.43374090499992235, 0.6018152169999667, 0.7150486780001302]\n",
            "[0.04154789600033837, 0.1614775739999459, 0.29889226299974325, 0.43374090499992235, 0.6018152169999667, 0.7150486780001302, 0.8238658880000003]\n",
            "[0.04154789600033837, 0.1614775739999459, 0.29889226299974325, 0.43374090499992235, 0.6018152169999667, 0.7150486780001302, 0.8238658880000003, 1.2420424619999721]\n"
          ]
        }
      ]
    },
    {
      "cell_type": "code",
      "source": [
        "# Array runtime of GPU\n",
        "GPU_min_runtimes = []\n",
        "for i in range(len(res)):\n",
        "  GPU_min_runtimes.append(apply_function(get_nearest_centroid_gpu, distances_for_min[i]))\n",
        "  print(GPU_min_runtimes)"
      ],
      "metadata": {
        "colab": {
          "base_uri": "https://localhost:8080/"
        },
        "id": "LIW6DQB4NiWw",
        "outputId": "b1196d24-3d02-4564-e702-3c9f3b55ac22"
      },
      "execution_count": 111,
      "outputs": [
        {
          "output_type": "stream",
          "name": "stdout",
          "text": [
            "[0.005023848000746511]\n",
            "[0.005023848000746511, 0.0037626590001309523]\n",
            "[0.005023848000746511, 0.0037626590001309523, 0.004927066999698582]\n",
            "[0.005023848000746511, 0.0037626590001309523, 0.004927066999698582, 0.006268873999943025]\n",
            "[0.005023848000746511, 0.0037626590001309523, 0.004927066999698582, 0.006268873999943025, 0.014140990000669262]\n",
            "[0.005023848000746511, 0.0037626590001309523, 0.004927066999698582, 0.006268873999943025, 0.014140990000669262, 0.009185504000015499]\n",
            "[0.005023848000746511, 0.0037626590001309523, 0.004927066999698582, 0.006268873999943025, 0.014140990000669262, 0.009185504000015499, 0.010304207000444876]\n",
            "[0.005023848000746511, 0.0037626590001309523, 0.004927066999698582, 0.006268873999943025, 0.014140990000669262, 0.009185504000015499, 0.010304207000444876, 0.015714088000095217]\n"
          ]
        }
      ]
    },
    {
      "cell_type": "code",
      "source": [
        "y_arr = [CPUv1_min_runtimes, CPUv2_min_runtimes, GPU_min_runtimes]\n",
        "y_name = [\"CPU_v1\", \"CPU_v2\", \"GPU\"]\n",
        "plot_line_chart(x_values, y_arr, y_name, \"Size of dataset (x original dataset)\",  \"time(s)\", \"Line Chart\")"
      ],
      "metadata": {
        "colab": {
          "base_uri": "https://localhost:8080/",
          "height": 573
        },
        "id": "-leO4bvIQJmh",
        "outputId": "850b66ad-8d70-422b-9a48-5530722f25d2"
      },
      "execution_count": 112,
      "outputs": [
        {
          "output_type": "display_data",
          "data": {
            "text/plain": [
              "<Figure size 1000x600 with 1 Axes>"
            ],
            "image/png": "[encoded data removed]"
          },
          "metadata": {}
        }
      ]
    },
    {
      "cell_type": "code",
      "source": [
        "y_arr = [CPUv1_min_runtimes, GPU_min_runtimes]\n",
        "y_name = [\"CPU_v1\", \"GPU\"]\n",
        "plot_line_chart(x_values, y_arr, y_name, \"Size of dataset (x original dataset)\",  \"time(s)\", \"Line Chart\")"
      ],
      "metadata": {
        "colab": {
          "base_uri": "https://localhost:8080/",
          "height": 573
        },
        "id": "oGnOYamoQU_f",
        "outputId": "6e70fc4e-2971-4196-bedd-9415920c55e9"
      },
      "execution_count": 113,
      "outputs": [
        {
          "output_type": "display_data",
          "data": {
            "text/plain": [
              "<Figure size 1000x600 with 1 Axes>"
            ],
            "image/png": "[encoded data removed]"
          },
          "metadata": {}
        }
      ]
    },
    {
      "cell_type": "markdown",
      "source": [
        "***Nhận xét***\n",
        "- Thời gian của các hàm tính khoảng cách đều tăng theo kích thước của dataset\n",
        "- Khi so sánh với tìm min sử dụng numpy, hàm chạy bằng cuda có kết quả lâu hơn và kém ổn định hơn"
      ],
      "metadata": {
        "id": "MRcOh5OYRrBJ"
      }
    },
    {
      "cell_type": "markdown",
      "source": [
        "### Kmean"
      ],
      "metadata": {
        "id": "AsRA0ISTKdc_"
      }
    },
    {
      "cell_type": "code",
      "source": [
        "# Array runtime of GPU\n",
        "GPU_v1_runtimes = []\n",
        "for i in range(len(res)):\n",
        "  GPU_v1_runtimes.append(apply_function(kmean_gpu_v1, res[i], device_datas[i], centroids[i]))\n",
        "  print(GPU_v1_runtimes)"
      ],
      "metadata": {
        "colab": {
          "base_uri": "https://localhost:8080/"
        },
        "id": "um6L1wV2m9T6",
        "outputId": "a3d3a9e8-c6d3-420e-e8bb-05a800a54da5"
      },
      "execution_count": 63,
      "outputs": [
        {
          "output_type": "stream",
          "name": "stdout",
          "text": [
            "[0.6933514129996183]\n",
            "[0.6933514129996183, 0.9181449610000527]\n",
            "[0.6933514129996183, 0.9181449610000527, 1.994452205000016]\n",
            "[0.6933514129996183, 0.9181449610000527, 1.994452205000016, 2.35202719300014]\n",
            "[0.6933514129996183, 0.9181449610000527, 1.994452205000016, 2.35202719300014, 2.7267417820003175]\n",
            "[0.6933514129996183, 0.9181449610000527, 1.994452205000016, 2.35202719300014, 2.7267417820003175, 3.211458885999946]\n",
            "[0.6933514129996183, 0.9181449610000527, 1.994452205000016, 2.35202719300014, 2.7267417820003175, 3.211458885999946, 3.5934961769999063]\n",
            "[0.6933514129996183, 0.9181449610000527, 1.994452205000016, 2.35202719300014, 2.7267417820003175, 3.211458885999946, 3.5934961769999063, 5.588706569999886]\n"
          ]
        }
      ]
    },
    {
      "cell_type": "code",
      "source": [
        "# Array runtime of GPU\n",
        "GPU_runtimes = []\n",
        "for i in range(len(res)):\n",
        "  GPU_runtimes.append(apply_function(kmean_gpu, res[i], device_datas[i], centroids[i]))\n",
        "  print(GPU_runtimes)"
      ],
      "metadata": {
        "colab": {
          "base_uri": "https://localhost:8080/"
        },
        "id": "uBmeXmdAa7nL",
        "outputId": "49a1fc24-f215-4522-842a-65c27ab04c82"
      },
      "execution_count": 64,
      "outputs": [
        {
          "output_type": "stream",
          "name": "stdout",
          "text": [
            "[0.7641980919997877]\n",
            "[0.7641980919997877, 0.8977621989997715]\n",
            "[0.7641980919997877, 0.8977621989997715, 1.9296043849999478]\n",
            "[0.7641980919997877, 0.8977621989997715, 1.9296043849999478, 2.077715452999655]\n",
            "[0.7641980919997877, 0.8977621989997715, 1.9296043849999478, 2.077715452999655, 1.9175415820000126]\n",
            "[0.7641980919997877, 0.8977621989997715, 1.9296043849999478, 2.077715452999655, 1.9175415820000126, 2.936119848999624]\n",
            "[0.7641980919997877, 0.8977621989997715, 1.9296043849999478, 2.077715452999655, 1.9175415820000126, 2.936119848999624, 3.9357823400000598]\n",
            "[0.7641980919997877, 0.8977621989997715, 1.9296043849999478, 2.077715452999655, 1.9175415820000126, 2.936119848999624, 3.9357823400000598, 5.196698955999636]\n"
          ]
        }
      ]
    },
    {
      "cell_type": "code",
      "source": [
        "# # Array runtime of CPU\n",
        "# CPU_runtimes = []\n",
        "# for i in range(len(res)):\n",
        "#   runtime = apply_function(kmean_cpu, res[i], centroids[i])\n",
        "#   CPU_runtimes.append(runtime)\n",
        "#   print(CPU_runtimes)"
      ],
      "metadata": {
        "id": "YQNnpYGLhzZH"
      },
      "execution_count": 66,
      "outputs": []
    },
    {
      "cell_type": "code",
      "source": [
        "from sklearn.cluster import KMeans\n",
        "def kmean_sklearn(data, init_centroid):\n",
        "  kmeans = KMeans(n_clusters=20, init=init_centroid, n_init=\"auto\", random_state=42)\n",
        "  kmeans.fit(data)\n",
        "\n",
        "sklearn_runtimes = []\n",
        "for i in range(len(res)):\n",
        "  runtime = apply_function(kmean_sklearn, res[i], centroids[i])\n",
        "  sklearn_runtimes.append(runtime)\n",
        "  print(sklearn_runtimes)\n"
      ],
      "metadata": {
        "colab": {
          "base_uri": "https://localhost:8080/"
        },
        "id": "KlXThCGimIS8",
        "outputId": "dbd23fce-b768-4480-bf87-4686e84561b5"
      },
      "execution_count": 67,
      "outputs": [
        {
          "output_type": "stream",
          "name": "stderr",
          "text": [
            "/usr/local/lib/python3.10/dist-packages/sklearn/cluster/_kmeans.py:878: FutureWarning: elementwise comparison failed; returning scalar instead, but in the future will perform elementwise comparison\n",
            "  if self.init == \"k-means++\":\n",
            "/usr/local/lib/python3.10/dist-packages/sklearn/cluster/_kmeans.py:1362: RuntimeWarning: Explicit initial center position passed: performing only one init in KMeans instead of n_init=10.\n",
            "  super()._check_params_vs_input(X, default_n_init=10)\n"
          ]
        },
        {
          "output_type": "stream",
          "name": "stdout",
          "text": [
            "[0.8502752429999418]\n"
          ]
        },
        {
          "output_type": "stream",
          "name": "stderr",
          "text": [
            "/usr/local/lib/python3.10/dist-packages/sklearn/cluster/_kmeans.py:878: FutureWarning: elementwise comparison failed; returning scalar instead, but in the future will perform elementwise comparison\n",
            "  if self.init == \"k-means++\":\n",
            "/usr/local/lib/python3.10/dist-packages/sklearn/cluster/_kmeans.py:1362: RuntimeWarning: Explicit initial center position passed: performing only one init in KMeans instead of n_init=10.\n",
            "  super()._check_params_vs_input(X, default_n_init=10)\n"
          ]
        },
        {
          "output_type": "stream",
          "name": "stdout",
          "text": [
            "[0.8502752429999418, 0.5576341150003827]\n"
          ]
        },
        {
          "output_type": "stream",
          "name": "stderr",
          "text": [
            "/usr/local/lib/python3.10/dist-packages/sklearn/cluster/_kmeans.py:878: FutureWarning: elementwise comparison failed; returning scalar instead, but in the future will perform elementwise comparison\n",
            "  if self.init == \"k-means++\":\n",
            "/usr/local/lib/python3.10/dist-packages/sklearn/cluster/_kmeans.py:1362: RuntimeWarning: Explicit initial center position passed: performing only one init in KMeans instead of n_init=10.\n",
            "  super()._check_params_vs_input(X, default_n_init=10)\n"
          ]
        },
        {
          "output_type": "stream",
          "name": "stdout",
          "text": [
            "[0.8502752429999418, 0.5576341150003827, 1.1124139959997592]\n"
          ]
        },
        {
          "output_type": "stream",
          "name": "stderr",
          "text": [
            "/usr/local/lib/python3.10/dist-packages/sklearn/cluster/_kmeans.py:878: FutureWarning: elementwise comparison failed; returning scalar instead, but in the future will perform elementwise comparison\n",
            "  if self.init == \"k-means++\":\n",
            "/usr/local/lib/python3.10/dist-packages/sklearn/cluster/_kmeans.py:1362: RuntimeWarning: Explicit initial center position passed: performing only one init in KMeans instead of n_init=10.\n",
            "  super()._check_params_vs_input(X, default_n_init=10)\n"
          ]
        },
        {
          "output_type": "stream",
          "name": "stdout",
          "text": [
            "[0.8502752429999418, 0.5576341150003827, 1.1124139959997592, 0.5302677740000945]\n"
          ]
        },
        {
          "output_type": "stream",
          "name": "stderr",
          "text": [
            "/usr/local/lib/python3.10/dist-packages/sklearn/cluster/_kmeans.py:878: FutureWarning: elementwise comparison failed; returning scalar instead, but in the future will perform elementwise comparison\n",
            "  if self.init == \"k-means++\":\n",
            "/usr/local/lib/python3.10/dist-packages/sklearn/cluster/_kmeans.py:1362: RuntimeWarning: Explicit initial center position passed: performing only one init in KMeans instead of n_init=10.\n",
            "  super()._check_params_vs_input(X, default_n_init=10)\n"
          ]
        },
        {
          "output_type": "stream",
          "name": "stdout",
          "text": [
            "[0.8502752429999418, 0.5576341150003827, 1.1124139959997592, 0.5302677740000945, 0.7023446620000868]\n"
          ]
        },
        {
          "output_type": "stream",
          "name": "stderr",
          "text": [
            "/usr/local/lib/python3.10/dist-packages/sklearn/cluster/_kmeans.py:878: FutureWarning: elementwise comparison failed; returning scalar instead, but in the future will perform elementwise comparison\n",
            "  if self.init == \"k-means++\":\n",
            "/usr/local/lib/python3.10/dist-packages/sklearn/cluster/_kmeans.py:1362: RuntimeWarning: Explicit initial center position passed: performing only one init in KMeans instead of n_init=10.\n",
            "  super()._check_params_vs_input(X, default_n_init=10)\n"
          ]
        },
        {
          "output_type": "stream",
          "name": "stdout",
          "text": [
            "[0.8502752429999418, 0.5576341150003827, 1.1124139959997592, 0.5302677740000945, 0.7023446620000868, 0.7681286000001819]\n"
          ]
        },
        {
          "output_type": "stream",
          "name": "stderr",
          "text": [
            "/usr/local/lib/python3.10/dist-packages/sklearn/cluster/_kmeans.py:878: FutureWarning: elementwise comparison failed; returning scalar instead, but in the future will perform elementwise comparison\n",
            "  if self.init == \"k-means++\":\n",
            "/usr/local/lib/python3.10/dist-packages/sklearn/cluster/_kmeans.py:1362: RuntimeWarning: Explicit initial center position passed: performing only one init in KMeans instead of n_init=10.\n",
            "  super()._check_params_vs_input(X, default_n_init=10)\n"
          ]
        },
        {
          "output_type": "stream",
          "name": "stdout",
          "text": [
            "[0.8502752429999418, 0.5576341150003827, 1.1124139959997592, 0.5302677740000945, 0.7023446620000868, 0.7681286000001819, 1.4700246239999615]\n"
          ]
        },
        {
          "output_type": "stream",
          "name": "stderr",
          "text": [
            "/usr/local/lib/python3.10/dist-packages/sklearn/cluster/_kmeans.py:878: FutureWarning: elementwise comparison failed; returning scalar instead, but in the future will perform elementwise comparison\n",
            "  if self.init == \"k-means++\":\n",
            "/usr/local/lib/python3.10/dist-packages/sklearn/cluster/_kmeans.py:1362: RuntimeWarning: Explicit initial center position passed: performing only one init in KMeans instead of n_init=10.\n",
            "  super()._check_params_vs_input(X, default_n_init=10)\n"
          ]
        },
        {
          "output_type": "stream",
          "name": "stdout",
          "text": [
            "[0.8502752429999418, 0.5576341150003827, 1.1124139959997592, 0.5302677740000945, 0.7023446620000868, 0.7681286000001819, 1.4700246239999615, 2.2543606750000436]\n"
          ]
        }
      ]
    },
    {
      "cell_type": "code",
      "source": [
        "y_arr = [GPU_v1_runtimes, GPU_runtimes, sklearn_runtimes]\n",
        "y_name = [\"GPU_v1\", \"GPU_v2\", \"Sklearn\"]\n",
        "plot_line_chart(x_values, y_arr, y_name, \"Size of dataset (x original dataset)\",  \"time(s)\", \"Line Chart\")"
      ],
      "metadata": {
        "id": "zM-y7Cm5PoJS"
      },
      "execution_count": null,
      "outputs": []
    },
    {
      "cell_type": "code",
      "source": [
        "\n",
        "y_arr = [GPU_v1_runtimes, GPU_runtimes, sklearn_runtimes]\n",
        "y_name = [\"GPU_v1\", \"GPU_v2\", \"Sklearn\"]\n",
        "plot_line_chart(x_values, y_arr, y_name, \"Size of dataset (x original dataset)\",  \"time(s)\", \"Line Chart\")"
      ],
      "metadata": {
        "colab": {
          "base_uri": "https://localhost:8080/",
          "height": 573
        },
        "id": "XZrPg4fQmShh",
        "outputId": "67ac7cb1-31ea-46b4-f432-392fa0a053d9"
      },
      "execution_count": 74,
      "outputs": [
        {
          "output_type": "display_data",
          "data": {
            "text/plain": [
              "<Figure size 1000x600 with 1 Axes>"
            ],
            "image/png": "[encoded data removed]"
          },
          "metadata": {}
        }
      ]
    },
    {
      "cell_type": "markdown",
      "source": [
        "***Nhận xét***\n",
        "- Kết quả cho thấy GPU hoạt động khá tốt và nhanh hơn 1 chút ở dataset gốc khi so với sklearn.\n",
        "- Tuy nhiên với dataset lớn hơn, sklearn lại ổn định hơn và cho ra kết quả tốt hơn\n",
        "- Nhìn chung kết quả của GPU ver2 - có sử dụng share memory tương đối khả quan khi so với version 1"
      ],
      "metadata": {
        "id": "fQEZZ3KzSSCj"
      }
    }
  ]
}