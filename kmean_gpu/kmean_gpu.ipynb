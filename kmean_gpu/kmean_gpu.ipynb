{
  "nbformat": 4,
  "nbformat_minor": 0,
  "metadata": {
    "colab": {
      "provenance": [],
      "gpuType": "T4"
    },
    "kernelspec": {
      "name": "python3",
      "display_name": "Python 3"
    },
    "language_info": {
      "name": "python"
    },
    "accelerator": "GPU"
  },
  "cells": [
    {
      "cell_type": "code",
      "source": [
        "import math\n",
        "\n",
        "import pandas as pd\n",
        "import numpy as np\n",
        "from numba import cuda\n",
        "\n",
        "df = pd.read_csv('data/CC GENERAL.csv')\n",
        "\n",
        "print(df.head())\n",
        "print(\"======================\")\n",
        "print(df.isnull().sum())\n",
        "print(\"======================\")\n",
        "\n",
        "df['MINIMUM_PAYMENTS'] = df['MINIMUM_PAYMENTS'].fillna(df['MINIMUM_PAYMENTS'].median())\n",
        "df['CREDIT_LIMIT'] = df['CREDIT_LIMIT'].fillna(df['CREDIT_LIMIT'].mean())\n",
        "print(df.isnull().sum())\n",
        "print(\"======================\")\n",
        "\n",
        "df = df.drop('CUST_ID', axis=1)\n",
        "np_data = df.to_numpy()\n",
        "print(np_data.shape)\n",
        "print(\"======================\")"
      ],
      "metadata": {
        "colab": {
          "base_uri": "https://localhost:8080/"
        },
        "id": "kDX3bcZlDIlY",
        "outputId": "68dba367-30ae-42de-bc08-eac42af93b91"
      },
      "execution_count": 394,
      "outputs": [
        {
          "output_type": "stream",
          "name": "stdout",
          "text": [
            "  CUST_ID      BALANCE  BALANCE_FREQUENCY  PURCHASES  ONEOFF_PURCHASES  \\\n",
            "0  C10001    40.900749           0.818182      95.40              0.00   \n",
            "1  C10002  3202.467416           0.909091       0.00              0.00   \n",
            "2  C10003  2495.148862           1.000000     773.17            773.17   \n",
            "3  C10004  1666.670542           0.636364    1499.00           1499.00   \n",
            "4  C10005   817.714335           1.000000      16.00             16.00   \n",
            "\n",
            "   INSTALLMENTS_PURCHASES  CASH_ADVANCE  PURCHASES_FREQUENCY  \\\n",
            "0                    95.4      0.000000             0.166667   \n",
            "1                     0.0   6442.945483             0.000000   \n",
            "2                     0.0      0.000000             1.000000   \n",
            "3                     0.0    205.788017             0.083333   \n",
            "4                     0.0      0.000000             0.083333   \n",
            "\n",
            "   ONEOFF_PURCHASES_FREQUENCY  PURCHASES_INSTALLMENTS_FREQUENCY  \\\n",
            "0                    0.000000                          0.083333   \n",
            "1                    0.000000                          0.000000   \n",
            "2                    1.000000                          0.000000   \n",
            "3                    0.083333                          0.000000   \n",
            "4                    0.083333                          0.000000   \n",
            "\n",
            "   CASH_ADVANCE_FREQUENCY  CASH_ADVANCE_TRX  PURCHASES_TRX  CREDIT_LIMIT  \\\n",
            "0                0.000000                 0              2        1000.0   \n",
            "1                0.250000                 4              0        7000.0   \n",
            "2                0.000000                 0             12        7500.0   \n",
            "3                0.083333                 1              1        7500.0   \n",
            "4                0.000000                 0              1        1200.0   \n",
            "\n",
            "      PAYMENTS  MINIMUM_PAYMENTS  PRC_FULL_PAYMENT  TENURE  \n",
            "0   201.802084        139.509787          0.000000      12  \n",
            "1  4103.032597       1072.340217          0.222222      12  \n",
            "2   622.066742        627.284787          0.000000      12  \n",
            "3     0.000000               NaN          0.000000      12  \n",
            "4   678.334763        244.791237          0.000000      12  \n",
            "======================\n",
            "CUST_ID                               0\n",
            "BALANCE                               0\n",
            "BALANCE_FREQUENCY                     0\n",
            "PURCHASES                             0\n",
            "ONEOFF_PURCHASES                      0\n",
            "INSTALLMENTS_PURCHASES                0\n",
            "CASH_ADVANCE                          0\n",
            "PURCHASES_FREQUENCY                   0\n",
            "ONEOFF_PURCHASES_FREQUENCY            0\n",
            "PURCHASES_INSTALLMENTS_FREQUENCY      0\n",
            "CASH_ADVANCE_FREQUENCY                0\n",
            "CASH_ADVANCE_TRX                      0\n",
            "PURCHASES_TRX                         0\n",
            "CREDIT_LIMIT                          1\n",
            "PAYMENTS                              0\n",
            "MINIMUM_PAYMENTS                    313\n",
            "PRC_FULL_PAYMENT                      0\n",
            "TENURE                                0\n",
            "dtype: int64\n",
            "======================\n",
            "CUST_ID                             0\n",
            "BALANCE                             0\n",
            "BALANCE_FREQUENCY                   0\n",
            "PURCHASES                           0\n",
            "ONEOFF_PURCHASES                    0\n",
            "INSTALLMENTS_PURCHASES              0\n",
            "CASH_ADVANCE                        0\n",
            "PURCHASES_FREQUENCY                 0\n",
            "ONEOFF_PURCHASES_FREQUENCY          0\n",
            "PURCHASES_INSTALLMENTS_FREQUENCY    0\n",
            "CASH_ADVANCE_FREQUENCY              0\n",
            "CASH_ADVANCE_TRX                    0\n",
            "PURCHASES_TRX                       0\n",
            "CREDIT_LIMIT                        0\n",
            "PAYMENTS                            0\n",
            "MINIMUM_PAYMENTS                    0\n",
            "PRC_FULL_PAYMENT                    0\n",
            "TENURE                              0\n",
            "dtype: int64\n",
            "======================\n",
            "(8950, 17)\n",
            "======================\n"
          ]
        }
      ]
    },
    {
      "cell_type": "code",
      "source": [
        "k = 7\n",
        "centroid = np_data[np.random.randint(np_data.shape[0], size=k), :]"
      ],
      "metadata": {
        "id": "Bjz1zp8tDqkV"
      },
      "execution_count": 395,
      "outputs": []
    },
    {
      "cell_type": "code",
      "source": [
        "def next_power_of_2(x):\n",
        "    return 1 << (x - 1).bit_length()"
      ],
      "metadata": {
        "id": "J_OMfT4LDr8p"
      },
      "execution_count": 396,
      "outputs": []
    },
    {
      "cell_type": "code",
      "source": [
        "def calc_dimension_for_distance(data, data_centroid):\n",
        "    real_dim_x = data_centroid.shape[0]\n",
        "    dim_x = next_power_of_2(real_dim_x)\n",
        "    dim_y = dim_x\n",
        "    thread_per_blocks = (dim_x, dim_y)\n",
        "    blocks_per_grid_x = 1\n",
        "    blocks_per_grid_y = math.ceil(data.shape[0] / thread_per_blocks[0])\n",
        "    blocks_per_grid = (blocks_per_grid_x, blocks_per_grid_y)\n",
        "    return thread_per_blocks, blocks_per_grid"
      ],
      "metadata": {
        "id": "VvWME5LQDt5H"
      },
      "execution_count": 397,
      "outputs": []
    },
    {
      "cell_type": "code",
      "source": [
        "dist_tpb, dist_bpg = calc_dimension_for_distance(np_data, centroid)"
      ],
      "metadata": {
        "id": "qTu3JvCtDunZ"
      },
      "execution_count": 398,
      "outputs": []
    },
    {
      "cell_type": "code",
      "source": [
        "dist_tpb"
      ],
      "metadata": {
        "colab": {
          "base_uri": "https://localhost:8080/"
        },
        "id": "SJrMI852G5kn",
        "outputId": "5470bfc7-101d-4cd9-8f27-c30171f4d169"
      },
      "execution_count": 399,
      "outputs": [
        {
          "output_type": "execute_result",
          "data": {
            "text/plain": [
              "(8, 8)"
            ]
          },
          "metadata": {},
          "execution_count": 399
        }
      ]
    },
    {
      "cell_type": "code",
      "source": [
        "dist_bpg"
      ],
      "metadata": {
        "colab": {
          "base_uri": "https://localhost:8080/"
        },
        "id": "O677eejVG6ya",
        "outputId": "4a4cff4a-fe0a-49e3-be0a-05a0869e8f8b"
      },
      "execution_count": 400,
      "outputs": [
        {
          "output_type": "execute_result",
          "data": {
            "text/plain": [
              "(1, 1119)"
            ]
          },
          "metadata": {},
          "execution_count": 400
        }
      ]
    },
    {
      "cell_type": "code",
      "source": [
        "@cuda.jit\n",
        "def calc_distance_kernel(data, data_centroid, result):\n",
        "    r = cuda.blockIdx.y * cuda.blockDim.y + cuda.threadIdx.y\n",
        "    c = cuda.blockIdx.x * cuda.blockDim.x + cuda.threadIdx.x\n",
        "    if r < data.shape[0] and c < data_centroid.shape[0]:\n",
        "        # TODO(silentcat) : complete euclidian dist calculation of shape (data.shape[0], k)\n",
        "        result[r, c] =  1"
      ],
      "metadata": {
        "id": "IX2ZIB9aDweP"
      },
      "execution_count": 401,
      "outputs": []
    },
    {
      "cell_type": "code",
      "execution_count": 402,
      "metadata": {
        "id": "UOJmr4-iCg9d"
      },
      "outputs": [],
      "source": [
        "def calc_distance(data, data_centroid):\n",
        "    result = np.zeros((data.shape[0], data_centroid.shape[0]))\n",
        "    data_device = cuda.to_device(data)\n",
        "    centroid_device = cuda.to_device(centroid)\n",
        "    result_device = cuda.to_device(result)\n",
        "\n",
        "    # invoke kernel\n",
        "    calc_distance_kernel[dist_bpg, dist_tpb](data_device, centroid_device, result_device)\n",
        "\n",
        "    result = result_device.copy_to_host()\n",
        "    return result\n"
      ]
    },
    {
      "cell_type": "code",
      "source": [
        "calculated_dist =  calc_distance(np_data, centroid)"
      ],
      "metadata": {
        "id": "v1CKPZm-DEPf"
      },
      "execution_count": 403,
      "outputs": []
    },
    {
      "cell_type": "code",
      "source": [
        "calculated_dist"
      ],
      "metadata": {
        "colab": {
          "base_uri": "https://localhost:8080/"
        },
        "id": "OTNPKeumDYoE",
        "outputId": "98a6e399-8868-4dcd-d8ac-8d3f67367038"
      },
      "execution_count": 404,
      "outputs": [
        {
          "output_type": "execute_result",
          "data": {
            "text/plain": [
              "array([[17., 17., 17., ..., 17., 17., 17.],\n",
              "       [17., 17., 17., ..., 17., 17., 17.],\n",
              "       [17., 17., 17., ..., 17., 17., 17.],\n",
              "       ...,\n",
              "       [17., 17., 17., ..., 17., 17., 17.],\n",
              "       [17., 17., 17., ..., 17., 17., 17.],\n",
              "       [17., 17., 17., ..., 17., 17., 17.]])"
            ]
          },
          "metadata": {},
          "execution_count": 404
        }
      ]
    },
    {
      "cell_type": "code",
      "source": [
        "calculated_dist.shape"
      ],
      "metadata": {
        "colab": {
          "base_uri": "https://localhost:8080/"
        },
        "id": "CK_z340IGooM",
        "outputId": "5d37f10c-b16f-4bb1-c3c6-8bdea6d60264"
      },
      "execution_count": 405,
      "outputs": [
        {
          "output_type": "execute_result",
          "data": {
            "text/plain": [
              "(8950, 7)"
            ]
          },
          "metadata": {},
          "execution_count": 405
        }
      ]
    },
    {
      "cell_type": "code",
      "source": [
        "max(calculated_dist[:,0])"
      ],
      "metadata": {
        "colab": {
          "base_uri": "https://localhost:8080/"
        },
        "id": "odlqAwRtJSWi",
        "outputId": "e753233a-abfc-41d3-e463-9046db1707a7"
      },
      "execution_count": 406,
      "outputs": [
        {
          "output_type": "execute_result",
          "data": {
            "text/plain": [
              "17.0"
            ]
          },
          "metadata": {},
          "execution_count": 406
        }
      ]
    }
  ]
}