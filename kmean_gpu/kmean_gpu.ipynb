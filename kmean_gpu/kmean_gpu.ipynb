{
  "nbformat": 4,
  "nbformat_minor": 0,
  "metadata": {
    "colab": {
      "provenance": [],
      "gpuType": "T4"
    },
    "kernelspec": {
      "name": "python3",
      "display_name": "Python 3"
    },
    "language_info": {
      "name": "python"
    },
    "accelerator": "GPU"
  },
  "cells": [
    {
      "cell_type": "code",
      "source": [
        "import math\n",
        "\n",
        "import pandas as pd\n",
        "import numpy as np\n",
        "from numba import cuda\n",
        "import time\n",
        "\n",
        "df = pd.read_csv('data/CC GENERAL.csv')\n",
        "\n",
        "print(df.head())\n",
        "print(\"======================\")\n",
        "print(df.isnull().sum())\n",
        "print(\"======================\")\n",
        "\n",
        "df['MINIMUM_PAYMENTS'] = df['MINIMUM_PAYMENTS'].fillna(df['MINIMUM_PAYMENTS'].median())\n",
        "df['CREDIT_LIMIT'] = df['CREDIT_LIMIT'].fillna(df['CREDIT_LIMIT'].mean())\n",
        "print(df.isnull().sum())\n",
        "print(\"======================\")\n",
        "\n",
        "df = df.drop('CUST_ID', axis=1)\n",
        "np_data = df.to_numpy()\n",
        "print(np_data.shape)\n",
        "print(\"======================\")"
      ],
      "metadata": {
        "colab": {
          "base_uri": "https://localhost:8080/"
        },
        "id": "kDX3bcZlDIlY",
        "outputId": "f86fc4e5-5d67-48f8-9953-f24ae9ff42ff"
      },
      "execution_count": 339,
      "outputs": [
        {
          "output_type": "stream",
          "name": "stdout",
          "text": [
            "  CUST_ID      BALANCE  BALANCE_FREQUENCY  PURCHASES  ONEOFF_PURCHASES  \\\n",
            "0  C10001    40.900749           0.818182      95.40              0.00   \n",
            "1  C10002  3202.467416           0.909091       0.00              0.00   \n",
            "2  C10003  2495.148862           1.000000     773.17            773.17   \n",
            "3  C10004  1666.670542           0.636364    1499.00           1499.00   \n",
            "4  C10005   817.714335           1.000000      16.00             16.00   \n",
            "\n",
            "   INSTALLMENTS_PURCHASES  CASH_ADVANCE  PURCHASES_FREQUENCY  \\\n",
            "0                    95.4      0.000000             0.166667   \n",
            "1                     0.0   6442.945483             0.000000   \n",
            "2                     0.0      0.000000             1.000000   \n",
            "3                     0.0    205.788017             0.083333   \n",
            "4                     0.0      0.000000             0.083333   \n",
            "\n",
            "   ONEOFF_PURCHASES_FREQUENCY  PURCHASES_INSTALLMENTS_FREQUENCY  \\\n",
            "0                    0.000000                          0.083333   \n",
            "1                    0.000000                          0.000000   \n",
            "2                    1.000000                          0.000000   \n",
            "3                    0.083333                          0.000000   \n",
            "4                    0.083333                          0.000000   \n",
            "\n",
            "   CASH_ADVANCE_FREQUENCY  CASH_ADVANCE_TRX  PURCHASES_TRX  CREDIT_LIMIT  \\\n",
            "0                0.000000                 0              2        1000.0   \n",
            "1                0.250000                 4              0        7000.0   \n",
            "2                0.000000                 0             12        7500.0   \n",
            "3                0.083333                 1              1        7500.0   \n",
            "4                0.000000                 0              1        1200.0   \n",
            "\n",
            "      PAYMENTS  MINIMUM_PAYMENTS  PRC_FULL_PAYMENT  TENURE  \n",
            "0   201.802084        139.509787          0.000000      12  \n",
            "1  4103.032597       1072.340217          0.222222      12  \n",
            "2   622.066742        627.284787          0.000000      12  \n",
            "3     0.000000               NaN          0.000000      12  \n",
            "4   678.334763        244.791237          0.000000      12  \n",
            "======================\n",
            "CUST_ID                               0\n",
            "BALANCE                               0\n",
            "BALANCE_FREQUENCY                     0\n",
            "PURCHASES                             0\n",
            "ONEOFF_PURCHASES                      0\n",
            "INSTALLMENTS_PURCHASES                0\n",
            "CASH_ADVANCE                          0\n",
            "PURCHASES_FREQUENCY                   0\n",
            "ONEOFF_PURCHASES_FREQUENCY            0\n",
            "PURCHASES_INSTALLMENTS_FREQUENCY      0\n",
            "CASH_ADVANCE_FREQUENCY                0\n",
            "CASH_ADVANCE_TRX                      0\n",
            "PURCHASES_TRX                         0\n",
            "CREDIT_LIMIT                          1\n",
            "PAYMENTS                              0\n",
            "MINIMUM_PAYMENTS                    313\n",
            "PRC_FULL_PAYMENT                      0\n",
            "TENURE                                0\n",
            "dtype: int64\n",
            "======================\n",
            "CUST_ID                             0\n",
            "BALANCE                             0\n",
            "BALANCE_FREQUENCY                   0\n",
            "PURCHASES                           0\n",
            "ONEOFF_PURCHASES                    0\n",
            "INSTALLMENTS_PURCHASES              0\n",
            "CASH_ADVANCE                        0\n",
            "PURCHASES_FREQUENCY                 0\n",
            "ONEOFF_PURCHASES_FREQUENCY          0\n",
            "PURCHASES_INSTALLMENTS_FREQUENCY    0\n",
            "CASH_ADVANCE_FREQUENCY              0\n",
            "CASH_ADVANCE_TRX                    0\n",
            "PURCHASES_TRX                       0\n",
            "CREDIT_LIMIT                        0\n",
            "PAYMENTS                            0\n",
            "MINIMUM_PAYMENTS                    0\n",
            "PRC_FULL_PAYMENT                    0\n",
            "TENURE                              0\n",
            "dtype: int64\n",
            "======================\n",
            "(8950, 17)\n",
            "======================\n"
          ]
        }
      ]
    },
    {
      "cell_type": "code",
      "source": [
        "k = 20\n",
        "centroid = np_data[np.random.randint(np_data.shape[0], size=k), :]"
      ],
      "metadata": {
        "id": "Bjz1zp8tDqkV"
      },
      "execution_count": 340,
      "outputs": []
    },
    {
      "cell_type": "code",
      "source": [
        "def next_power_of_2(x):\n",
        "    return 1 << (x - 1).bit_length()"
      ],
      "metadata": {
        "id": "J_OMfT4LDr8p"
      },
      "execution_count": 341,
      "outputs": []
    },
    {
      "cell_type": "code",
      "source": [
        "def calc_dimension_for_distance(data, data_centroid):\n",
        "    real_dim_x = data_centroid.shape[0]\n",
        "    dim_x = next_power_of_2(real_dim_x)\n",
        "    dim_y = dim_x\n",
        "    thread_per_blocks = (dim_x, dim_y)\n",
        "    blocks_per_grid_x = 1\n",
        "    blocks_per_grid_y = math.ceil(data.shape[0] / thread_per_blocks[0])\n",
        "    blocks_per_grid = (blocks_per_grid_x, blocks_per_grid_y)\n",
        "    return thread_per_blocks, blocks_per_grid"
      ],
      "metadata": {
        "id": "VvWME5LQDt5H"
      },
      "execution_count": 342,
      "outputs": []
    },
    {
      "cell_type": "code",
      "source": [
        "dist_tpb, dist_bpg = calc_dimension_for_distance(np_data, centroid)"
      ],
      "metadata": {
        "id": "qTu3JvCtDunZ"
      },
      "execution_count": 343,
      "outputs": []
    },
    {
      "cell_type": "code",
      "source": [
        "dist_tpb"
      ],
      "metadata": {
        "colab": {
          "base_uri": "https://localhost:8080/"
        },
        "id": "SJrMI852G5kn",
        "outputId": "08f68957-b5b7-41e5-8c63-929cd97e8058"
      },
      "execution_count": 344,
      "outputs": [
        {
          "output_type": "execute_result",
          "data": {
            "text/plain": [
              "(32, 32)"
            ]
          },
          "metadata": {},
          "execution_count": 344
        }
      ]
    },
    {
      "cell_type": "code",
      "source": [
        "dist_bpg"
      ],
      "metadata": {
        "colab": {
          "base_uri": "https://localhost:8080/"
        },
        "id": "O677eejVG6ya",
        "outputId": "60710fcb-1124-4d82-f9bf-af29b3d7e7c5"
      },
      "execution_count": 345,
      "outputs": [
        {
          "output_type": "execute_result",
          "data": {
            "text/plain": [
              "(1, 280)"
            ]
          },
          "metadata": {},
          "execution_count": 345
        }
      ]
    },
    {
      "cell_type": "code",
      "source": [
        "@cuda.jit\n",
        "def calc_distance_kernel(data, data_centroid, result):\n",
        "    r = cuda.blockIdx.y * cuda.blockDim.y + cuda.threadIdx.y\n",
        "    c = cuda.blockIdx.x * cuda.blockDim.x + cuda.threadIdx.x\n",
        "    if r < data.shape[0] and c < data_centroid.shape[0]:\n",
        "        total = 0\n",
        "        for i in range(data_centroid.shape[1]):\n",
        "            total += math.pow(data[r][i] - data_centroid[c][i], 2)\n",
        "        result[r, c] = math.sqrt(total)"
      ],
      "metadata": {
        "id": "IX2ZIB9aDweP"
      },
      "execution_count": 346,
      "outputs": []
    },
    {
      "cell_type": "code",
      "source": [
        "dist_gpu_time_end = 0\n",
        "dist_gpu_time_start = 0"
      ],
      "metadata": {
        "id": "hB6nhwGVNbo4"
      },
      "execution_count": 347,
      "outputs": []
    },
    {
      "cell_type": "code",
      "execution_count": 348,
      "metadata": {
        "id": "UOJmr4-iCg9d"
      },
      "outputs": [],
      "source": [
        "def calc_distance_gpu(data, data_centroid):\n",
        "    result = np.zeros((data.shape[0], data_centroid.shape[0]))\n",
        "    data_device = cuda.to_device(data)\n",
        "    centroid_device = cuda.to_device(centroid)\n",
        "    result_device = cuda.to_device(result)\n",
        "\n",
        "    # invoke kernel\n",
        "    global dist_gpu_time_end\n",
        "    global dist_gpu_time_start\n",
        "    dist_gpu_time_start =time.perf_counter()\n",
        "    calc_distance_kernel[dist_bpg, dist_tpb](data_device, centroid_device, result_device)\n",
        "    dist_gpu_time_end =time.perf_counter()\n",
        "    result = result_device.copy_to_host()\n",
        "    return result\n"
      ]
    },
    {
      "cell_type": "code",
      "source": [
        "def calc_distance_cpu(data, data_centroid):\n",
        "    dist = np.zeros((data.shape[0], data_centroid.shape[0]))\n",
        "    for i in range(data.shape[0]):\n",
        "        for j in range(data_centroid.shape[0]):\n",
        "            dist[i][j] = np.linalg.norm(data[i] - centroid[j])\n",
        "    return dist"
      ],
      "metadata": {
        "id": "2YVRQ5STHwDp"
      },
      "execution_count": 349,
      "outputs": []
    },
    {
      "cell_type": "code",
      "source": [
        "calculated_dist_gpu =  calc_distance_gpu(np_data, centroid)\n",
        "dist_cpu_time_start =time.perf_counter()\n",
        "calculated_dist_cpu =  calc_distance_cpu(np_data, centroid)\n",
        "dist_cpu_time_end =time.perf_counter()"
      ],
      "metadata": {
        "id": "v1CKPZm-DEPf"
      },
      "execution_count": 350,
      "outputs": []
    },
    {
      "cell_type": "code",
      "source": [
        "calculated_dist_gpu"
      ],
      "metadata": {
        "colab": {
          "base_uri": "https://localhost:8080/"
        },
        "id": "OTNPKeumDYoE",
        "outputId": "60cf1f48-c390-4ed2-eccd-d5a60a0de0ee"
      },
      "execution_count": 351,
      "outputs": [
        {
          "output_type": "execute_result",
          "data": {
            "text/plain": [
              "array([[ 510.38193817, 2269.22264222, 3007.87986763, ..., 3847.54350287,\n",
              "        2685.06168171, 8067.85916792],\n",
              "       [9930.99336955, 8666.61549063, 8679.32795526, ..., 7702.30784737,\n",
              "        9055.22038425, 8410.41724789],\n",
              "       [6620.70628601, 4845.61413332, 4334.59719793, ..., 3884.02625104,\n",
              "        5637.30464265, 4740.51791811],\n",
              "       ...,\n",
              "       [ 522.78161114, 2304.09767121, 3016.03415218, ..., 3854.00933843,\n",
              "        2724.10904162, 8071.81613053],\n",
              "       [1008.37255051, 2769.32607502, 3515.47062355, ..., 4300.59923903,\n",
              "        3029.99841285, 8586.85672113],\n",
              "       [1593.52277655, 2431.8748401 , 3136.91411571, ..., 3136.09659326,\n",
              "        1861.04693005, 7666.58017801]])"
            ]
          },
          "metadata": {},
          "execution_count": 351
        }
      ]
    },
    {
      "cell_type": "code",
      "source": [
        "calculated_dist_gpu.shape"
      ],
      "metadata": {
        "colab": {
          "base_uri": "https://localhost:8080/"
        },
        "id": "VpIaeDj6IiTw",
        "outputId": "7c18d720-c23d-4640-b34a-6ad6e52ddb54"
      },
      "execution_count": 352,
      "outputs": [
        {
          "output_type": "execute_result",
          "data": {
            "text/plain": [
              "(8950, 20)"
            ]
          },
          "metadata": {},
          "execution_count": 352
        }
      ]
    },
    {
      "cell_type": "code",
      "source": [
        "dist_gpu_time_end - dist_gpu_time_start"
      ],
      "metadata": {
        "colab": {
          "base_uri": "https://localhost:8080/"
        },
        "id": "MZJUvytrM-Kl",
        "outputId": "7eedc0d1-da14-48c4-be8e-75fad670891a"
      },
      "execution_count": 353,
      "outputs": [
        {
          "output_type": "execute_result",
          "data": {
            "text/plain": [
              "0.3126320819999364"
            ]
          },
          "metadata": {},
          "execution_count": 353
        }
      ]
    },
    {
      "cell_type": "code",
      "source": [
        "calculated_dist_cpu"
      ],
      "metadata": {
        "colab": {
          "base_uri": "https://localhost:8080/"
        },
        "id": "j6oTIZEcH5Ch",
        "outputId": "564e40c7-780b-4971-b42d-433aa377d3ef"
      },
      "execution_count": 354,
      "outputs": [
        {
          "output_type": "execute_result",
          "data": {
            "text/plain": [
              "array([[ 510.38193817, 2269.22264222, 3007.87986763, ..., 3847.54350287,\n",
              "        2685.06168171, 8067.85916792],\n",
              "       [9930.99336955, 8666.61549063, 8679.32795526, ..., 7702.30784737,\n",
              "        9055.22038425, 8410.41724789],\n",
              "       [6620.70628601, 4845.61413332, 4334.59719793, ..., 3884.02625104,\n",
              "        5637.30464265, 4740.51791811],\n",
              "       ...,\n",
              "       [ 522.78161114, 2304.09767121, 3016.03415218, ..., 3854.00933843,\n",
              "        2724.10904162, 8071.81613053],\n",
              "       [1008.37255051, 2769.32607502, 3515.47062355, ..., 4300.59923903,\n",
              "        3029.99841285, 8586.85672113],\n",
              "       [1593.52277655, 2431.8748401 , 3136.91411571, ..., 3136.09659326,\n",
              "        1861.04693005, 7666.58017801]])"
            ]
          },
          "metadata": {},
          "execution_count": 354
        }
      ]
    },
    {
      "cell_type": "code",
      "source": [
        "calculated_dist_cpu.shape"
      ],
      "metadata": {
        "colab": {
          "base_uri": "https://localhost:8080/"
        },
        "id": "rrXSknlBIkNK",
        "outputId": "b68f94c6-7125-4214-bcc0-f74be5a97a01"
      },
      "execution_count": 355,
      "outputs": [
        {
          "output_type": "execute_result",
          "data": {
            "text/plain": [
              "(8950, 20)"
            ]
          },
          "metadata": {},
          "execution_count": 355
        }
      ]
    },
    {
      "cell_type": "code",
      "source": [
        "dist_cpu_time_end - dist_cpu_time_start"
      ],
      "metadata": {
        "colab": {
          "base_uri": "https://localhost:8080/"
        },
        "id": "JK37REacNG0m",
        "outputId": "ee59bbe3-5c42-405d-9ee8-3d87fc0c9453"
      },
      "execution_count": 356,
      "outputs": [
        {
          "output_type": "execute_result",
          "data": {
            "text/plain": [
              "2.0101311089999854"
            ]
          },
          "metadata": {},
          "execution_count": 356
        }
      ]
    }
  ]
}