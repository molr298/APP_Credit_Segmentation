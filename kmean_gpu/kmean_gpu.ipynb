{
  "nbformat": 4,
  "nbformat_minor": 0,
  "metadata": {
    "colab": {
      "provenance": [],
      "gpuType": "T4",
      "toc_visible": true
    },
    "kernelspec": {
      "name": "python3",
      "display_name": "Python 3"
    },
    "language_info": {
      "name": "python"
    },
    "accelerator": "GPU"
  },
  "cells": [
    {
      "cell_type": "code",
      "source": [
        "import math\n",
        "\n",
        "import pandas as pd\n",
        "import numpy as np\n",
        "from numba import cuda\n",
        "import time\n",
        "import copy\n",
        "\n",
        "\n",
        "df = pd.read_csv('data/CC GENERAL.csv')\n",
        "\n",
        "print(df.head())\n",
        "print(\"======================\")\n",
        "print(df.isnull().sum())\n",
        "print(\"======================\")\n",
        "\n",
        "df['MINIMUM_PAYMENTS'] = df['MINIMUM_PAYMENTS'].fillna(df['MINIMUM_PAYMENTS'].median())\n",
        "df['CREDIT_LIMIT'] = df['CREDIT_LIMIT'].fillna(df['CREDIT_LIMIT'].mean())\n",
        "print(df.isnull().sum())\n",
        "print(\"======================\")\n",
        "\n",
        "df = df.drop('CUST_ID', axis=1)\n",
        "np_data = df.to_numpy()\n",
        "print(np_data.shape)\n",
        "print(\"======================\")"
      ],
      "metadata": {
        "colab": {
          "base_uri": "https://localhost:8080/"
        },
        "id": "kDX3bcZlDIlY",
        "outputId": "fc0e3c54-538c-4605-d375-9673e436321f"
      },
      "execution_count": 65,
      "outputs": [
        {
          "output_type": "stream",
          "name": "stdout",
          "text": [
            "  CUST_ID      BALANCE  BALANCE_FREQUENCY  PURCHASES  ONEOFF_PURCHASES  \\\n",
            "0  C10001    40.900749           0.818182      95.40              0.00   \n",
            "1  C10002  3202.467416           0.909091       0.00              0.00   \n",
            "2  C10003  2495.148862           1.000000     773.17            773.17   \n",
            "3  C10004  1666.670542           0.636364    1499.00           1499.00   \n",
            "4  C10005   817.714335           1.000000      16.00             16.00   \n",
            "\n",
            "   INSTALLMENTS_PURCHASES  CASH_ADVANCE  PURCHASES_FREQUENCY  \\\n",
            "0                    95.4      0.000000             0.166667   \n",
            "1                     0.0   6442.945483             0.000000   \n",
            "2                     0.0      0.000000             1.000000   \n",
            "3                     0.0    205.788017             0.083333   \n",
            "4                     0.0      0.000000             0.083333   \n",
            "\n",
            "   ONEOFF_PURCHASES_FREQUENCY  PURCHASES_INSTALLMENTS_FREQUENCY  \\\n",
            "0                    0.000000                          0.083333   \n",
            "1                    0.000000                          0.000000   \n",
            "2                    1.000000                          0.000000   \n",
            "3                    0.083333                          0.000000   \n",
            "4                    0.083333                          0.000000   \n",
            "\n",
            "   CASH_ADVANCE_FREQUENCY  CASH_ADVANCE_TRX  PURCHASES_TRX  CREDIT_LIMIT  \\\n",
            "0                0.000000                 0              2        1000.0   \n",
            "1                0.250000                 4              0        7000.0   \n",
            "2                0.000000                 0             12        7500.0   \n",
            "3                0.083333                 1              1        7500.0   \n",
            "4                0.000000                 0              1        1200.0   \n",
            "\n",
            "      PAYMENTS  MINIMUM_PAYMENTS  PRC_FULL_PAYMENT  TENURE  \n",
            "0   201.802084        139.509787          0.000000      12  \n",
            "1  4103.032597       1072.340217          0.222222      12  \n",
            "2   622.066742        627.284787          0.000000      12  \n",
            "3     0.000000               NaN          0.000000      12  \n",
            "4   678.334763        244.791237          0.000000      12  \n",
            "======================\n",
            "CUST_ID                               0\n",
            "BALANCE                               0\n",
            "BALANCE_FREQUENCY                     0\n",
            "PURCHASES                             0\n",
            "ONEOFF_PURCHASES                      0\n",
            "INSTALLMENTS_PURCHASES                0\n",
            "CASH_ADVANCE                          0\n",
            "PURCHASES_FREQUENCY                   0\n",
            "ONEOFF_PURCHASES_FREQUENCY            0\n",
            "PURCHASES_INSTALLMENTS_FREQUENCY      0\n",
            "CASH_ADVANCE_FREQUENCY                0\n",
            "CASH_ADVANCE_TRX                      0\n",
            "PURCHASES_TRX                         0\n",
            "CREDIT_LIMIT                          1\n",
            "PAYMENTS                              0\n",
            "MINIMUM_PAYMENTS                    313\n",
            "PRC_FULL_PAYMENT                      0\n",
            "TENURE                                0\n",
            "dtype: int64\n",
            "======================\n",
            "CUST_ID                             0\n",
            "BALANCE                             0\n",
            "BALANCE_FREQUENCY                   0\n",
            "PURCHASES                           0\n",
            "ONEOFF_PURCHASES                    0\n",
            "INSTALLMENTS_PURCHASES              0\n",
            "CASH_ADVANCE                        0\n",
            "PURCHASES_FREQUENCY                 0\n",
            "ONEOFF_PURCHASES_FREQUENCY          0\n",
            "PURCHASES_INSTALLMENTS_FREQUENCY    0\n",
            "CASH_ADVANCE_FREQUENCY              0\n",
            "CASH_ADVANCE_TRX                    0\n",
            "PURCHASES_TRX                       0\n",
            "CREDIT_LIMIT                        0\n",
            "PAYMENTS                            0\n",
            "MINIMUM_PAYMENTS                    0\n",
            "PRC_FULL_PAYMENT                    0\n",
            "TENURE                              0\n",
            "dtype: int64\n",
            "======================\n",
            "(8950, 17)\n",
            "======================\n"
          ]
        }
      ]
    },
    {
      "cell_type": "code",
      "source": [
        "k = 20\n",
        "centroid = np_data[np.random.randint(np_data.shape[0], size=k), :]"
      ],
      "metadata": {
        "id": "Bjz1zp8tDqkV"
      },
      "execution_count": 66,
      "outputs": []
    },
    {
      "cell_type": "code",
      "source": [
        "def next_power_of_2(x):\n",
        "    return 1 << (x - 1).bit_length()"
      ],
      "metadata": {
        "id": "J_OMfT4LDr8p"
      },
      "execution_count": 67,
      "outputs": []
    },
    {
      "cell_type": "code",
      "source": [
        "def calc_dimension_for_distance(data, data_centroid):\n",
        "    real_dim_x = data_centroid.shape[0]\n",
        "    dim_x = next_power_of_2(real_dim_x)\n",
        "    dim_y = dim_x\n",
        "    thread_per_blocks = (dim_x, dim_y)\n",
        "    blocks_per_grid_x = 1\n",
        "    blocks_per_grid_y = math.ceil(data.shape[0] / thread_per_blocks[0])\n",
        "    blocks_per_grid = (blocks_per_grid_x, blocks_per_grid_y)\n",
        "    return thread_per_blocks, blocks_per_grid"
      ],
      "metadata": {
        "id": "VvWME5LQDt5H"
      },
      "execution_count": 68,
      "outputs": []
    },
    {
      "cell_type": "code",
      "source": [
        "dist_tpb, dist_bpg = calc_dimension_for_distance(np_data, centroid)"
      ],
      "metadata": {
        "id": "qTu3JvCtDunZ"
      },
      "execution_count": 69,
      "outputs": []
    },
    {
      "cell_type": "code",
      "source": [
        "dist_tpb"
      ],
      "metadata": {
        "colab": {
          "base_uri": "https://localhost:8080/"
        },
        "id": "SJrMI852G5kn",
        "outputId": "6f0aee11-3073-46aa-f6b1-6c15bc951c2c"
      },
      "execution_count": 70,
      "outputs": [
        {
          "output_type": "execute_result",
          "data": {
            "text/plain": [
              "(32, 32)"
            ]
          },
          "metadata": {},
          "execution_count": 70
        }
      ]
    },
    {
      "cell_type": "code",
      "source": [
        "dist_bpg"
      ],
      "metadata": {
        "colab": {
          "base_uri": "https://localhost:8080/"
        },
        "id": "O677eejVG6ya",
        "outputId": "fe75fb9e-f2f9-4d9c-fa1f-96b361966aa5"
      },
      "execution_count": 71,
      "outputs": [
        {
          "output_type": "execute_result",
          "data": {
            "text/plain": [
              "(1, 280)"
            ]
          },
          "metadata": {},
          "execution_count": 71
        }
      ]
    },
    {
      "cell_type": "code",
      "source": [
        "@cuda.jit\n",
        "def calc_distance_kernel(data, data_centroid, result):\n",
        "    r = cuda.blockIdx.y * cuda.blockDim.y + cuda.threadIdx.y\n",
        "    c = cuda.blockIdx.x * cuda.blockDim.x + cuda.threadIdx.x\n",
        "    if r < data.shape[0] and c < data_centroid.shape[0]:\n",
        "        total = 0\n",
        "        for i in range(data_centroid.shape[1]):\n",
        "            total += math.pow(data[r][i] - data_centroid[c][i], 2)\n",
        "        result[r, c] = math.sqrt(total)"
      ],
      "metadata": {
        "id": "IX2ZIB9aDweP"
      },
      "execution_count": 72,
      "outputs": []
    },
    {
      "cell_type": "code",
      "execution_count": 74,
      "metadata": {
        "id": "UOJmr4-iCg9d"
      },
      "outputs": [],
      "source": [
        "def calc_distance_gpu(data, data_centroid):\n",
        "    result = np.zeros((data.shape[0], data_centroid.shape[0]))\n",
        "    data_device = cuda.to_device(data)\n",
        "    centroid_device = cuda.to_device(data_centroid)\n",
        "    result_device = cuda.to_device(result)\n",
        "\n",
        "    # invoke kernel\n",
        "    calc_distance_kernel[dist_bpg, dist_tpb](data_device, centroid_device, result_device)\n",
        "    result = result_device.copy_to_host()\n",
        "    return result\n"
      ]
    },
    {
      "cell_type": "code",
      "source": [
        "def calc_distance_cpu(data, data_centroid):\n",
        "    dist = np.zeros((data.shape[0], data_centroid.shape[0]))\n",
        "    for i in range(data.shape[0]):\n",
        "        for j in range(data_centroid.shape[0]):\n",
        "            dist[i][j] = np.linalg.norm(data[i] - data_centroid[j])\n",
        "    return dist"
      ],
      "metadata": {
        "id": "2YVRQ5STHwDp"
      },
      "execution_count": 75,
      "outputs": []
    },
    {
      "cell_type": "code",
      "source": [
        "def get_nearest_centroid(distance):\n",
        "    return np.argmin(distance, axis=1)"
      ],
      "metadata": {
        "id": "IYDHpe4PNuqT"
      },
      "execution_count": 85,
      "outputs": []
    },
    {
      "cell_type": "code",
      "source": [
        "def get_new_centroids(data, data_nearest_centroid, number_of_centroid):\n",
        "    result_centroids = np.zeros((number_of_centroid, data.shape[1]))\n",
        "    for i in range(number_of_centroid):\n",
        "        result_centroids[i] = data[np.where(data_nearest_centroid == i)].mean(axis=0)\n",
        "    return result_centroids"
      ],
      "metadata": {
        "id": "jIO5ibeGZyiM"
      },
      "execution_count": null,
      "outputs": []
    },
    {
      "cell_type": "markdown",
      "source": [
        "#CPU\n"
      ],
      "metadata": {
        "id": "rGNGcDivXPFd"
      }
    },
    {
      "cell_type": "code",
      "source": [
        "def kmean_cpu(data, initial_centroid):\n",
        "    centroid_cpu = copy.deepcopy(initial_centroid)\n",
        "    iteration = 0\n",
        "    has_changed_centroid = True\n",
        "    total_time_start = time.perf_counter()\n",
        "    while has_changed_centroid:\n",
        "        # iter_time_start = time.perf_counter()\n",
        "        # calc_dist_time_start = time.perf_counter()\n",
        "        calculated_dist = calc_distance_cpu(data, centroid_cpu)  # calculated dist\n",
        "        # calc_dist_time_end = time.perf_counter()\n",
        "        # nearest_centroid_time_start = time.perf_counter()\n",
        "        nearest_centroid = get_nearest_centroid(calculated_dist)  # assigned to centroid\n",
        "        # nearest_centroid_time_end = time.perf_counter()\n",
        "        new_centroid = get_new_centroids(data, nearest_centroid, k)\n",
        "        if np.all(new_centroid == centroid_cpu):\n",
        "            has_changed_centroid = False\n",
        "        else:\n",
        "            # print(f\"changed {np.linalg.norm(centroid - new_centroid)}\")\n",
        "            centroid_cpu = new_centroid\n",
        "        # iter_time_end = time.perf_counter()\n",
        "        # print(\n",
        "        #     f\"iter {iteration} | took: {iter_time_end - iter_time_start:0.4f} |\"\n",
        "        #     f\" dist: {calc_dist_time_end - calc_dist_time_start:0.4f} | \"\n",
        "        #     f\"nearest: {nearest_centroid_time_end - nearest_centroid_time_start:0.4f}\")\n",
        "        iteration += 1\n",
        "    total_time_end = time.perf_counter()\n",
        "    # print(\"new centroids:\")\n",
        "    # print(centroid_cpu)\n",
        "    print(f\"k: {k} | iteration took: {iteration} | total time: {total_time_end - total_time_start:0.4f}\")\n",
        "    return centroid_cpu"
      ],
      "metadata": {
        "id": "BmgN6-0pXQvS"
      },
      "execution_count": 86,
      "outputs": []
    },
    {
      "cell_type": "code",
      "source": [
        "centroid_cpu_result = kmean_cpu(np_data, centroid)"
      ],
      "metadata": {
        "colab": {
          "base_uri": "https://localhost:8080/"
        },
        "id": "KviDLH6qXSK3",
        "outputId": "6a50a883-e5b7-41a3-d2a3-9c54e6fa70f6"
      },
      "execution_count": 90,
      "outputs": [
        {
          "output_type": "stream",
          "name": "stdout",
          "text": [
            "k: 20 | iteration took: 66 | total time: 92.4939\n"
          ]
        }
      ]
    },
    {
      "cell_type": "markdown",
      "source": [
        "#GPU\n"
      ],
      "metadata": {
        "id": "YvN8cnNKXroP"
      }
    },
    {
      "cell_type": "code",
      "source": [
        "def kmean_gpu(data, initial_centroid):\n",
        "    centroid_gpu = copy.deepcopy(initial_centroid)\n",
        "    iteration = 0\n",
        "    has_changed_centroid = True\n",
        "    total_time_start = time.perf_counter()\n",
        "    while has_changed_centroid:\n",
        "        # iter_time_start = time.perf_counter()\n",
        "        # calc_dist_time_start = time.perf_counter()\n",
        "        calculated_dist = calc_distance_gpu(data, centroid_gpu)  # calculated dist\n",
        "        # calc_dist_time_end = time.perf_counter()\n",
        "        # nearest_centroid_time_start = time.perf_counter()\n",
        "        nearest_centroid = get_nearest_centroid(calculated_dist)  # assigned to centroid\n",
        "        # nearest_centroid_time_end = time.perf_counter()\n",
        "        new_centroid = get_new_centroids(data, nearest_centroid, k)\n",
        "        if np.all(new_centroid == centroid_gpu):\n",
        "            has_changed_centroid = False\n",
        "        else:\n",
        "            # print(f\"changed {np.linalg.norm(centroid_gpu - new_centroid)}\")\n",
        "            centroid_gpu = new_centroid\n",
        "        # iter_time_end = time.perf_counter()\n",
        "        # print(\n",
        "        #     f\"iter {iteration} | took: {iter_time_end - iter_time_start:0.4f} |\"\n",
        "        #     f\" dist: {calc_dist_time_end - calc_dist_time_start:0.4f} | \"\n",
        "        #     f\"nearest: {nearest_centroid_time_end - nearest_centroid_time_start:0.4f}\")\n",
        "        iteration += 1\n",
        "    total_time_end = time.perf_counter()\n",
        "    # print(\"new centroids:\")\n",
        "    # print(centroid_gpu)\n",
        "    print(f\"k: {k} | iteration took: {iteration} | total time: {total_time_end - total_time_start:0.4f}\")\n",
        "    return centroid_gpu"
      ],
      "metadata": {
        "id": "24MgA2G9Xvdd"
      },
      "execution_count": 88,
      "outputs": []
    },
    {
      "cell_type": "code",
      "source": [
        "centroid_gpu_result = kmean_gpu(np_data, centroid)"
      ],
      "metadata": {
        "colab": {
          "base_uri": "https://localhost:8080/"
        },
        "id": "aF0_CDRXX8F0",
        "outputId": "54676b31-3925-4a21-db25-3e48124e6bdc"
      },
      "execution_count": 89,
      "outputs": [
        {
          "output_type": "stream",
          "name": "stdout",
          "text": [
            "k: 20 | iteration took: 66 | total time: 0.8344\n"
          ]
        }
      ]
    },
    {
      "cell_type": "code",
      "source": [
        "np.square(np.subtract(centroid_cpu_result, centroid_gpu_result)).mean()"
      ],
      "metadata": {
        "colab": {
          "base_uri": "https://localhost:8080/"
        },
        "id": "gTSzVbV-YIuC",
        "outputId": "0b20c579-d9ff-4da8-a431-c53ade134267"
      },
      "execution_count": 91,
      "outputs": [
        {
          "output_type": "execute_result",
          "data": {
            "text/plain": [
              "0.0"
            ]
          },
          "metadata": {},
          "execution_count": 91
        }
      ]
    },
    {
      "cell_type": "code",
      "source": [
        "centroid_cpu_result"
      ],
      "metadata": {
        "colab": {
          "base_uri": "https://localhost:8080/"
        },
        "id": "PHQRrdzMY6r-",
        "outputId": "0c40576f-fbf2-4e96-9a9e-ff2bbb8f0713"
      },
      "execution_count": 92,
      "outputs": [
        {
          "output_type": "execute_result",
          "data": {
            "text/plain": [
              "array([[5.48743561e+03, 1.00000000e+00, 1.07112444e+03, 7.52950000e+01,\n",
              "        9.95829444e+02, 9.21412910e+02, 4.93686833e-01, 3.70369444e-02,\n",
              "        4.70538722e-01, 6.94443889e-02, 2.05555556e+00, 2.79444444e+01,\n",
              "        5.59166667e+03, 1.37885129e+03, 3.74127086e+04, 0.00000000e+00,\n",
              "        1.19444444e+01],\n",
              "       [5.21289310e+03, 9.94949496e-01, 4.72349654e+03, 3.02403268e+03,\n",
              "        1.69946386e+03, 7.44652858e+02, 9.20603669e-01, 6.67979016e-01,\n",
              "        7.00131236e-01, 1.02799622e-01, 2.42519685e+00, 6.23385827e+01,\n",
              "        1.02929134e+04, 3.01750509e+03, 2.02147971e+03, 1.57480079e-02,\n",
              "        1.18346457e+01],\n",
              "       [5.62656430e+03, 9.49545450e-01, 2.91751320e+04, 2.36507215e+04,\n",
              "        5.52441050e+03, 1.11562704e+03, 8.90833300e-01, 8.27500050e-01,\n",
              "        6.64999950e-01, 4.58333000e-02, 2.05000000e+00, 1.23750000e+02,\n",
              "        1.61250000e+04, 2.94495967e+04, 3.66384018e+03, 5.21780300e-01,\n",
              "        1.19000000e+01],\n",
              "       [7.90910969e+02, 8.86079062e-01, 1.11457721e+03, 6.18589290e+02,\n",
              "        4.96369893e+02, 2.17482555e+02, 6.31118885e-01, 3.37367925e-01,\n",
              "        4.37637651e-01, 4.68663378e-02, 9.03485255e-01, 1.81608579e+01,\n",
              "        6.96863880e+03, 1.31207656e+03, 2.98612382e+02, 2.32021857e-01,\n",
              "        1.18431635e+01],\n",
              "       [5.44902645e+03, 8.04639769e-01, 2.12545846e+03, 1.30859949e+03,\n",
              "        8.17423077e+02, 1.36781333e+04, 4.33566410e-01, 2.75141513e-01,\n",
              "        3.35303615e-01, 4.49578205e-01, 2.00769231e+01, 2.45384615e+01,\n",
              "        1.24102564e+04, 2.32118867e+04, 2.35453084e+03, 2.19950410e-01,\n",
              "        1.15384615e+01],\n",
              "       [6.50388734e+02, 8.63942362e-01, 3.28531172e+02, 1.39096766e+02,\n",
              "        1.89828058e+02, 2.84547434e+02, 4.30575278e-01, 9.99761659e-02,\n",
              "        3.35484129e-01, 1.00778083e-01, 1.87599681e+00, 7.58094099e+00,\n",
              "        1.28639155e+03, 6.17962668e+02, 4.22599614e+02, 1.17096373e-01,\n",
              "        1.11459330e+01],\n",
              "       [9.08160021e+02, 8.22819867e-01, 1.97759292e+03, 1.28445333e+03,\n",
              "        6.93139583e+02, 3.99834724e+02, 7.02020192e-01, 4.67348492e-01,\n",
              "        4.50643958e-01, 5.29671500e-02, 1.00833333e+00, 2.48500000e+01,\n",
              "        1.62416667e+04, 2.57856758e+03, 3.35051956e+02, 4.40012933e-01,\n",
              "        1.18000000e+01],\n",
              "       [5.75985337e+03, 9.55500843e-01, 4.10485763e+02, 2.54109407e+02,\n",
              "        1.56376356e+02, 6.04659973e+03, 2.66432614e-01, 1.24278763e-01,\n",
              "        1.72620754e-01, 4.59609432e-01, 1.40550847e+01, 6.22457627e+00,\n",
              "        9.42923729e+03, 2.15316776e+03, 1.84231769e+03, 4.46305508e-03,\n",
              "        1.12203390e+01],\n",
              "       [9.17819413e+02, 9.30955388e-01, 2.42924199e+03, 1.40728852e+03,\n",
              "        1.02195346e+03, 2.00949660e+02, 8.18592081e-01, 4.69209382e-01,\n",
              "        5.99281569e-01, 4.92502106e-02, 9.40944882e-01, 3.25236220e+01,\n",
              "        3.12463613e+03, 2.42789797e+03, 5.98783409e+02, 2.58420591e-01,\n",
              "        1.17775591e+01],\n",
              "       [3.60754589e+03, 9.86696244e-01, 1.08281611e+04, 6.98921500e+03,\n",
              "        3.83894610e+03, 5.87428915e+02, 9.19530683e-01, 7.65983037e-01,\n",
              "        7.54988915e-01, 7.72357561e-02, 2.19512195e+00, 1.12621951e+02,\n",
              "        1.14487805e+04, 1.03908672e+04, 1.80466550e+03, 3.67581707e-01,\n",
              "        1.19756098e+01],\n",
              "       [9.84130955e+03, 9.99289773e-01, 1.42774086e+03, 8.22998281e+02,\n",
              "        6.05265625e+02, 2.67396827e+03, 4.93098969e-01, 2.41228672e-01,\n",
              "        4.05042641e-01, 2.90838047e-01, 6.80468750e+00, 2.26562500e+01,\n",
              "        1.44062500e+04, 2.98065739e+03, 3.04195187e+03, 0.00000000e+00,\n",
              "        1.18437500e+01],\n",
              "       [2.82501531e+02, 7.58687412e-01, 4.92535351e+02, 2.09174342e+02,\n",
              "        2.83406638e+02, 1.24152971e+02, 5.26825391e-01, 1.18646107e-01,\n",
              "        4.22621140e-01, 3.57536676e-02, 6.14793468e-01, 9.78770413e+00,\n",
              "        2.65291974e+03, 6.06465919e+02, 2.07340604e+02, 2.37691119e-01,\n",
              "        1.16186359e+01],\n",
              "       [3.45218388e+02, 7.51620256e-01, 5.03399401e+02, 2.16303061e+02,\n",
              "        2.87829238e+02, 1.28195480e+02, 5.31037903e-01, 1.54354880e-01,\n",
              "        4.02449720e-01, 3.01158095e-02, 5.89115646e-01, 1.05850340e+01,\n",
              "        4.67710507e+03, 6.29695421e+02, 2.02714749e+02, 2.37912686e-01,\n",
              "        1.17455782e+01],\n",
              "       [4.44425592e+03, 9.87473913e-01, 5.62238235e+02, 3.17989792e+02,\n",
              "        2.44248443e+02, 2.10532427e+03, 3.58606997e-01, 1.62538607e-01,\n",
              "        2.50973220e-01, 3.18589123e-01, 7.58304498e+00, 1.09429066e+01,\n",
              "        6.48252595e+03, 1.45073600e+03, 1.58236971e+03, 1.11932353e-03,\n",
              "        1.16660900e+01],\n",
              "       [4.73986804e+03, 9.34640662e-01, 8.36406385e+02, 5.46006615e+02,\n",
              "        2.90399769e+02, 8.28540769e+03, 3.15931538e-01, 1.54877585e-01,\n",
              "        2.27504154e-01, 5.01202408e-01, 1.84384615e+01, 1.19153846e+01,\n",
              "        9.29003497e+03, 9.80202721e+03, 1.66503343e+03, 9.20503692e-02,\n",
              "        1.17076923e+01],\n",
              "       [2.65013399e+03, 9.81342859e-01, 7.47577294e+02, 1.18959059e+02,\n",
              "        6.28618235e+02, 7.68243380e+02, 4.74378235e-01, 3.79381647e-02,\n",
              "        4.45352718e-01, 1.08140188e-01, 3.22352941e+00, 1.40588235e+01,\n",
              "        2.80470588e+03, 1.18140552e+03, 1.18371425e+04, 4.01068235e-03,\n",
              "        1.17882353e+01],\n",
              "       [2.04362638e+03, 9.48298774e-01, 2.51183482e+02, 1.42294208e+02,\n",
              "        1.08949523e+02, 1.54670859e+03, 2.36395270e-01, 9.35898059e-02,\n",
              "        1.54421222e-01, 2.70491453e-01, 6.12689805e+00, 4.99023861e+00,\n",
              "        3.02369848e+03, 1.06909007e+03, 8.61040460e+02, 1.67587972e-02,\n",
              "        1.13286334e+01],\n",
              "       [1.38144936e+03, 9.62470290e-01, 4.94531456e+03, 3.45281116e+03,\n",
              "        1.49482000e+03, 3.56428928e+02, 9.05432718e-01, 6.85784479e-01,\n",
              "        6.83446456e-01, 5.41417915e-02, 1.38996139e+00, 5.68146718e+01,\n",
              "        6.34980695e+03, 5.30795509e+03, 6.60006371e+02, 3.59474749e-01,\n",
              "        1.19343629e+01],\n",
              "       [1.24807453e+03, 8.75790422e-01, 9.75721167e+02, 6.11069363e+02,\n",
              "        3.64781777e+02, 3.49171548e+02, 5.66867804e-01, 3.27127159e-01,\n",
              "        3.60930645e-01, 6.18893236e-02, 1.18832891e+00, 1.49098143e+01,\n",
              "        1.03913793e+04, 1.53670179e+03, 4.12312665e+02, 2.25403610e-01,\n",
              "        1.17241379e+01],\n",
              "       [1.83625632e+03, 8.63862275e-01, 4.76078763e+02, 2.66661443e+02,\n",
              "        2.09536632e+02, 3.49769780e+03, 2.82985557e-01, 1.30029900e-01,\n",
              "        1.83407959e-01, 3.47326340e-01, 1.02336770e+01, 7.41237113e+00,\n",
              "        4.46500573e+03, 5.32300115e+03, 8.42481882e+02, 1.50868718e-01,\n",
              "        1.16460481e+01]])"
            ]
          },
          "metadata": {},
          "execution_count": 92
        }
      ]
    },
    {
      "cell_type": "code",
      "source": [
        "centroid_gpu_result"
      ],
      "metadata": {
        "colab": {
          "base_uri": "https://localhost:8080/"
        },
        "id": "Uh702w24Y73O",
        "outputId": "48324ed5-cb97-43c6-f271-3e4f5c895aaa"
      },
      "execution_count": 93,
      "outputs": [
        {
          "output_type": "execute_result",
          "data": {
            "text/plain": [
              "array([[5.48743561e+03, 1.00000000e+00, 1.07112444e+03, 7.52950000e+01,\n",
              "        9.95829444e+02, 9.21412910e+02, 4.93686833e-01, 3.70369444e-02,\n",
              "        4.70538722e-01, 6.94443889e-02, 2.05555556e+00, 2.79444444e+01,\n",
              "        5.59166667e+03, 1.37885129e+03, 3.74127086e+04, 0.00000000e+00,\n",
              "        1.19444444e+01],\n",
              "       [5.21289310e+03, 9.94949496e-01, 4.72349654e+03, 3.02403268e+03,\n",
              "        1.69946386e+03, 7.44652858e+02, 9.20603669e-01, 6.67979016e-01,\n",
              "        7.00131236e-01, 1.02799622e-01, 2.42519685e+00, 6.23385827e+01,\n",
              "        1.02929134e+04, 3.01750509e+03, 2.02147971e+03, 1.57480079e-02,\n",
              "        1.18346457e+01],\n",
              "       [5.62656430e+03, 9.49545450e-01, 2.91751320e+04, 2.36507215e+04,\n",
              "        5.52441050e+03, 1.11562704e+03, 8.90833300e-01, 8.27500050e-01,\n",
              "        6.64999950e-01, 4.58333000e-02, 2.05000000e+00, 1.23750000e+02,\n",
              "        1.61250000e+04, 2.94495967e+04, 3.66384018e+03, 5.21780300e-01,\n",
              "        1.19000000e+01],\n",
              "       [7.90910969e+02, 8.86079062e-01, 1.11457721e+03, 6.18589290e+02,\n",
              "        4.96369893e+02, 2.17482555e+02, 6.31118885e-01, 3.37367925e-01,\n",
              "        4.37637651e-01, 4.68663378e-02, 9.03485255e-01, 1.81608579e+01,\n",
              "        6.96863880e+03, 1.31207656e+03, 2.98612382e+02, 2.32021857e-01,\n",
              "        1.18431635e+01],\n",
              "       [5.44902645e+03, 8.04639769e-01, 2.12545846e+03, 1.30859949e+03,\n",
              "        8.17423077e+02, 1.36781333e+04, 4.33566410e-01, 2.75141513e-01,\n",
              "        3.35303615e-01, 4.49578205e-01, 2.00769231e+01, 2.45384615e+01,\n",
              "        1.24102564e+04, 2.32118867e+04, 2.35453084e+03, 2.19950410e-01,\n",
              "        1.15384615e+01],\n",
              "       [6.50388734e+02, 8.63942362e-01, 3.28531172e+02, 1.39096766e+02,\n",
              "        1.89828058e+02, 2.84547434e+02, 4.30575278e-01, 9.99761659e-02,\n",
              "        3.35484129e-01, 1.00778083e-01, 1.87599681e+00, 7.58094099e+00,\n",
              "        1.28639155e+03, 6.17962668e+02, 4.22599614e+02, 1.17096373e-01,\n",
              "        1.11459330e+01],\n",
              "       [9.08160021e+02, 8.22819867e-01, 1.97759292e+03, 1.28445333e+03,\n",
              "        6.93139583e+02, 3.99834724e+02, 7.02020192e-01, 4.67348492e-01,\n",
              "        4.50643958e-01, 5.29671500e-02, 1.00833333e+00, 2.48500000e+01,\n",
              "        1.62416667e+04, 2.57856758e+03, 3.35051956e+02, 4.40012933e-01,\n",
              "        1.18000000e+01],\n",
              "       [5.75985337e+03, 9.55500843e-01, 4.10485763e+02, 2.54109407e+02,\n",
              "        1.56376356e+02, 6.04659973e+03, 2.66432614e-01, 1.24278763e-01,\n",
              "        1.72620754e-01, 4.59609432e-01, 1.40550847e+01, 6.22457627e+00,\n",
              "        9.42923729e+03, 2.15316776e+03, 1.84231769e+03, 4.46305508e-03,\n",
              "        1.12203390e+01],\n",
              "       [9.17819413e+02, 9.30955388e-01, 2.42924199e+03, 1.40728852e+03,\n",
              "        1.02195346e+03, 2.00949660e+02, 8.18592081e-01, 4.69209382e-01,\n",
              "        5.99281569e-01, 4.92502106e-02, 9.40944882e-01, 3.25236220e+01,\n",
              "        3.12463613e+03, 2.42789797e+03, 5.98783409e+02, 2.58420591e-01,\n",
              "        1.17775591e+01],\n",
              "       [3.60754589e+03, 9.86696244e-01, 1.08281611e+04, 6.98921500e+03,\n",
              "        3.83894610e+03, 5.87428915e+02, 9.19530683e-01, 7.65983037e-01,\n",
              "        7.54988915e-01, 7.72357561e-02, 2.19512195e+00, 1.12621951e+02,\n",
              "        1.14487805e+04, 1.03908672e+04, 1.80466550e+03, 3.67581707e-01,\n",
              "        1.19756098e+01],\n",
              "       [9.84130955e+03, 9.99289773e-01, 1.42774086e+03, 8.22998281e+02,\n",
              "        6.05265625e+02, 2.67396827e+03, 4.93098969e-01, 2.41228672e-01,\n",
              "        4.05042641e-01, 2.90838047e-01, 6.80468750e+00, 2.26562500e+01,\n",
              "        1.44062500e+04, 2.98065739e+03, 3.04195187e+03, 0.00000000e+00,\n",
              "        1.18437500e+01],\n",
              "       [2.82501531e+02, 7.58687412e-01, 4.92535351e+02, 2.09174342e+02,\n",
              "        2.83406638e+02, 1.24152971e+02, 5.26825391e-01, 1.18646107e-01,\n",
              "        4.22621140e-01, 3.57536676e-02, 6.14793468e-01, 9.78770413e+00,\n",
              "        2.65291974e+03, 6.06465919e+02, 2.07340604e+02, 2.37691119e-01,\n",
              "        1.16186359e+01],\n",
              "       [3.45218388e+02, 7.51620256e-01, 5.03399401e+02, 2.16303061e+02,\n",
              "        2.87829238e+02, 1.28195480e+02, 5.31037903e-01, 1.54354880e-01,\n",
              "        4.02449720e-01, 3.01158095e-02, 5.89115646e-01, 1.05850340e+01,\n",
              "        4.67710507e+03, 6.29695421e+02, 2.02714749e+02, 2.37912686e-01,\n",
              "        1.17455782e+01],\n",
              "       [4.44425592e+03, 9.87473913e-01, 5.62238235e+02, 3.17989792e+02,\n",
              "        2.44248443e+02, 2.10532427e+03, 3.58606997e-01, 1.62538607e-01,\n",
              "        2.50973220e-01, 3.18589123e-01, 7.58304498e+00, 1.09429066e+01,\n",
              "        6.48252595e+03, 1.45073600e+03, 1.58236971e+03, 1.11932353e-03,\n",
              "        1.16660900e+01],\n",
              "       [4.73986804e+03, 9.34640662e-01, 8.36406385e+02, 5.46006615e+02,\n",
              "        2.90399769e+02, 8.28540769e+03, 3.15931538e-01, 1.54877585e-01,\n",
              "        2.27504154e-01, 5.01202408e-01, 1.84384615e+01, 1.19153846e+01,\n",
              "        9.29003497e+03, 9.80202721e+03, 1.66503343e+03, 9.20503692e-02,\n",
              "        1.17076923e+01],\n",
              "       [2.65013399e+03, 9.81342859e-01, 7.47577294e+02, 1.18959059e+02,\n",
              "        6.28618235e+02, 7.68243380e+02, 4.74378235e-01, 3.79381647e-02,\n",
              "        4.45352718e-01, 1.08140188e-01, 3.22352941e+00, 1.40588235e+01,\n",
              "        2.80470588e+03, 1.18140552e+03, 1.18371425e+04, 4.01068235e-03,\n",
              "        1.17882353e+01],\n",
              "       [2.04362638e+03, 9.48298774e-01, 2.51183482e+02, 1.42294208e+02,\n",
              "        1.08949523e+02, 1.54670859e+03, 2.36395270e-01, 9.35898059e-02,\n",
              "        1.54421222e-01, 2.70491453e-01, 6.12689805e+00, 4.99023861e+00,\n",
              "        3.02369848e+03, 1.06909007e+03, 8.61040460e+02, 1.67587972e-02,\n",
              "        1.13286334e+01],\n",
              "       [1.38144936e+03, 9.62470290e-01, 4.94531456e+03, 3.45281116e+03,\n",
              "        1.49482000e+03, 3.56428928e+02, 9.05432718e-01, 6.85784479e-01,\n",
              "        6.83446456e-01, 5.41417915e-02, 1.38996139e+00, 5.68146718e+01,\n",
              "        6.34980695e+03, 5.30795509e+03, 6.60006371e+02, 3.59474749e-01,\n",
              "        1.19343629e+01],\n",
              "       [1.24807453e+03, 8.75790422e-01, 9.75721167e+02, 6.11069363e+02,\n",
              "        3.64781777e+02, 3.49171548e+02, 5.66867804e-01, 3.27127159e-01,\n",
              "        3.60930645e-01, 6.18893236e-02, 1.18832891e+00, 1.49098143e+01,\n",
              "        1.03913793e+04, 1.53670179e+03, 4.12312665e+02, 2.25403610e-01,\n",
              "        1.17241379e+01],\n",
              "       [1.83625632e+03, 8.63862275e-01, 4.76078763e+02, 2.66661443e+02,\n",
              "        2.09536632e+02, 3.49769780e+03, 2.82985557e-01, 1.30029900e-01,\n",
              "        1.83407959e-01, 3.47326340e-01, 1.02336770e+01, 7.41237113e+00,\n",
              "        4.46500573e+03, 5.32300115e+03, 8.42481882e+02, 1.50868718e-01,\n",
              "        1.16460481e+01]])"
            ]
          },
          "metadata": {},
          "execution_count": 93
        }
      ]
    }
  ]
}